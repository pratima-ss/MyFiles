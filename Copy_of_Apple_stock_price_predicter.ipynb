{
  "nbformat": 4,
  "nbformat_minor": 0,
  "metadata": {
    "colab": {
      "name": "Copy of Apple stock price predicter.ipynb",
      "provenance": [],
      "authorship_tag": "ABX9TyMDy5v3SSlEaTHPzg+Cwj/f",
      "include_colab_link": true
    },
    "kernelspec": {
      "name": "python3",
      "display_name": "Python 3"
    },
    "language_info": {
      "name": "python"
    }
  },
  "cells": [
    {
      "cell_type": "markdown",
      "metadata": {
        "id": "view-in-github",
        "colab_type": "text"
      },
      "source": [
        "<a href=\"https://colab.research.google.com/github/pratima-ss/MyFiles/blob/main/Copy_of_Apple_stock_price_predicter.ipynb\" target=\"_parent\"><img src=\"https://colab.research.google.com/assets/colab-badge.svg\" alt=\"Open In Colab\"/></a>"
      ]
    },
    {
      "cell_type": "code",
      "metadata": {
        "colab": {
          "resources": {
            "http://localhost:8080/nbextensions/google.colab/files.js": {
              "data": "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",
              "ok": true,
              "headers": [
                [
                  "content-type",
                  "application/javascript"
                ]
              ],
              "status": 200,
              "status_text": ""
            }
          },
          "base_uri": "https://localhost:8080/",
          "height": 73
        },
        "id": "34MCCoUV8gt2",
        "outputId": "120d386f-f0e4-4c97-a7ed-9ed656ee41b9"
      },
      "source": [
        "from google.colab import files\n",
        "uploaded = files.upload()\n"
      ],
      "execution_count": null,
      "outputs": [
        {
          "output_type": "display_data",
          "data": {
            "text/html": [
              "\n",
              "     <input type=\"file\" id=\"files-aa8f84a6-511b-453e-8635-2e8a02dcbd04\" name=\"files[]\" multiple disabled\n",
              "        style=\"border:none\" />\n",
              "     <output id=\"result-aa8f84a6-511b-453e-8635-2e8a02dcbd04\">\n",
              "      Upload widget is only available when the cell has been executed in the\n",
              "      current browser session. Please rerun this cell to enable.\n",
              "      </output>\n",
              "      <script src=\"/nbextensions/google.colab/files.js\"></script> "
            ],
            "text/plain": [
              "<IPython.core.display.HTML object>"
            ]
          },
          "metadata": {}
        },
        {
          "output_type": "stream",
          "name": "stdout",
          "text": [
            "Saving AAPL.csv to AAPL (2).csv\n"
          ]
        }
      ]
    },
    {
      "cell_type": "code",
      "metadata": {
        "id": "gMgnUEkw9aFp"
      },
      "source": [
        "import io\n",
        "data = pd.read_csv(io.BytesIO(uploaded[\"AAPL.csv\"]))"
      ],
      "execution_count": null,
      "outputs": []
    },
    {
      "cell_type": "code",
      "metadata": {
        "id": "3KPm5KCp8u0i"
      },
      "source": [
        "import numpy as np\n",
        "import pandas as pd\n",
        "import plotly.graph_objects as go"
      ],
      "execution_count": null,
      "outputs": []
    },
    {
      "cell_type": "code",
      "metadata": {
        "colab": {
          "base_uri": "https://localhost:8080/"
        },
        "id": "cfJu5a4D9ZIk",
        "outputId": "42b89239-9403-41e0-ef12-798f5d5a25eb"
      },
      "source": [
        "dataa=pd.read_csv(\"AAPL.csv\")\n",
        "print(dataa.head())"
      ],
      "execution_count": null,
      "outputs": [
        {
          "output_type": "stream",
          "name": "stdout",
          "text": [
            "         Date        Open        High  ...       Close   Adj Close     Volume\n",
            "0  2020-09-09  117.260002  119.139999  ...  117.320000  116.570236  176940500\n",
            "1  2020-09-10  120.360001  120.500000  ...  113.489998  112.764717  182274400\n",
            "2  2020-09-11  114.570000  115.230003  ...  112.000000  111.284241  180860300\n",
            "3  2020-09-14  114.720001  115.930000  ...  115.360001  114.622765  140150100\n",
            "4  2020-09-15  118.330002  118.830002  ...  115.540001  114.801620  184642000\n",
            "\n",
            "[5 rows x 7 columns]\n"
          ]
        }
      ]
    },
    {
      "cell_type": "code",
      "metadata": {
        "id": "yHIIshoQ89PV"
      },
      "source": [
        "figure=go.Figure(data=[go.Candlestick(x=dataa[\"Date\"],open=dataa[\"Open\"],high=dataa[\"High\"],low=dataa[\"Low\"],close=dataa[\"Close\"])])\n",
        "\n"
      ],
      "execution_count": null,
      "outputs": []
    },
    {
      "cell_type": "code",
      "metadata": {
        "colab": {
          "base_uri": "https://localhost:8080/",
          "height": 542
        },
        "id": "oJF44-0a_QwT",
        "outputId": "8880d46b-31c4-4307-d482-d52feb8c3ce2"
      },
      "source": [
        "figure.update_layout(title=\"Apple Stock Price Analysis\",xaxis_rangeslider_visible=False)\n",
        "figure.show()"
      ],
      "execution_count": null,
      "outputs": [
        {
          "output_type": "display_data",
          "data": {
            "text/html": [
              "<html>\n",
              "<head><meta charset=\"utf-8\" /></head>\n",
              "<body>\n",
              "    <div>\n",
              "            <script src=\"https://cdnjs.cloudflare.com/ajax/libs/mathjax/2.7.5/MathJax.js?config=TeX-AMS-MML_SVG\"></script><script type=\"text/javascript\">if (window.MathJax) {MathJax.Hub.Config({SVG: {font: \"STIX-Web\"}});}</script>\n",
              "                <script type=\"text/javascript\">window.PlotlyConfig = {MathJaxConfig: 'local'};</script>\n",
              "        <script src=\"https://cdn.plot.ly/plotly-latest.min.js\"></script>    \n",
              "            <div id=\"ee5c8529-3665-4845-9bec-f50ede877dbc\" class=\"plotly-graph-div\" style=\"height:525px; width:100%;\"></div>\n",
              "            <script type=\"text/javascript\">\n",
              "                \n",
              "                    window.PLOTLYENV=window.PLOTLYENV || {};\n",
              "                    \n",
              "                if (document.getElementById(\"ee5c8529-3665-4845-9bec-f50ede877dbc\")) {\n",
              "                    Plotly.newPlot(\n",
              "                        'ee5c8529-3665-4845-9bec-f50ede877dbc',\n",
              "                        [{\"close\": [117.32, 113.489998, 112.0, 115.360001, 115.540001, 112.129997, 110.339996, 106.839996, 110.08000200000001, 111.809998, 107.120003, 108.220001, 112.279999, 114.959999, 114.089996, 115.809998, 116.790001, 113.019997, 116.5, 113.160004, 115.08000200000001, 114.970001, 116.970001, 124.400002, 121.099998, 121.190002, 120.709999, 119.019997, 115.980003, 117.510002, 116.870003, 115.75, 115.040001, 115.050003, 116.599998, 111.199997, 115.32, 108.860001, 108.769997, 110.440002, 114.949997, 119.029999, 118.690002, 116.32, 115.970001, 119.489998, 119.209999, 119.260002, 120.300003, 119.389999, 118.029999, 118.639999, 117.339996, 113.849998, 115.16999799999999, 116.029999, 116.589996, 119.050003, 122.720001, 123.08000200000001, 122.940002, 122.25, 123.75, 124.379997, 121.779999, 123.239998, 122.410004, 121.779999, 127.879997, 127.809998, 128.699997, 126.660004, 128.229996, 131.880005, 130.96000700000002, 131.970001, 136.690002, 134.869995, 133.720001, 132.690002, 129.41000400000001, 131.009995, 126.599998, 130.919998, 132.050003, 128.979996, 128.800003, 130.889999, 128.91000400000001, 127.139999, 127.83000200000001, 132.029999, 136.869995, 139.070007, 142.919998, 143.16000400000001, 142.059998, 137.08999599999999, 131.96000700000002, 134.139999, 134.990005, 133.940002, 137.389999, 136.759995, 136.91000400000001, 136.009995, 135.389999, 135.130005, 135.369995, 133.190002, 130.83999599999999, 129.71000700000002, 129.869995, 126.0, 125.860001, 125.349998, 120.989998, 121.260002, 127.790001, 125.120003, 122.059998, 120.129997, 121.41999799999999, 116.360001, 121.089996, 119.980003, 121.959999, 121.029999, 123.989998, 125.57, 124.760002, 120.529999, 119.989998, 123.389999, 122.540001, 120.089996, 120.589996, 121.209999, 121.389999, 119.900002, 122.150002, 123.0, 125.900002, 126.209999, 127.900002, 130.360001, 133.0, 131.240005, 134.429993, 132.029999, 134.5, 134.16000400000001, 134.83999599999999, 133.110001, 133.5, 131.940002, 134.320007, 134.720001, 134.389999, 133.580002, 133.479996, 131.46000700000002, 132.53999299999998, 127.849998, 128.100006, 129.740005, 130.21000700000002, 126.849998, 125.910004, 122.769997, 124.970001, 127.449997, 126.269997, 124.849998, 124.690002, 127.309998, 125.43, 127.099998, 126.900002, 126.849998, 125.279999, 124.610001, 124.279999, 125.059998, 123.540001, 125.889999, 125.900002, 126.739998, 127.129997, 126.110001, 127.349998, 130.479996, 129.639999, 130.149994, 131.78999299999998, 130.46000700000002, 132.300003, 133.979996, 133.699997, 133.41000400000001, 133.110001, 134.779999, 136.330002, 136.96000700000002, 137.270004, 139.96000700000002, 142.020004, 144.570007, 143.240005, 145.110001, 144.5, 145.639999, 149.149994, 148.479996, 146.389999, 142.449997, 146.149994, 145.399994, 146.800003, 148.559998, 148.990005, 146.770004, 144.979996, 145.639999, 145.860001, 145.520004, 147.360001, 146.949997, 147.059998, 146.139999, 146.08999599999999, 145.600006, 145.860001, 148.889999, 149.100006, 151.119995, 150.190002, 146.360001, 146.699997, 148.190002, 149.71000700000002, 149.619995, 148.360001, 147.53999299999998, 148.600006, 153.119995, 151.830002, 152.509995, 153.649994, 154.300003, 156.690002, 155.110001], \"high\": [119.139999, 120.5, 115.230003, 115.93, 118.83000200000001, 116.0, 112.199997, 110.879997, 110.190002, 112.860001, 112.110001, 110.25, 112.440002, 115.32, 115.309998, 117.260002, 117.720001, 115.370003, 116.650002, 116.120003, 115.550003, 116.400002, 117.0, 125.18, 125.389999, 123.029999, 121.199997, 121.550003, 120.41999799999999, 118.980003, 118.709999, 118.040001, 116.550003, 116.550003, 117.279999, 115.43, 116.93, 111.989998, 110.68, 111.489998, 115.589996, 119.620003, 119.199997, 121.989998, 117.589996, 119.629997, 120.529999, 119.66999799999999, 120.989998, 120.66999799999999, 119.82, 119.059998, 118.769997, 117.620003, 115.849998, 116.75, 117.489998, 120.970001, 123.470001, 123.370003, 123.779999, 122.860001, 124.57, 124.980003, 125.949997, 123.870003, 122.760002, 123.349998, 127.900002, 128.369995, 129.580002, 129.100006, 128.309998, 134.41000400000001, 132.429993, 133.46000700000002, 137.33999599999999, 138.78999299999998, 135.990005, 134.740005, 133.610001, 131.740005, 131.050003, 131.630005, 132.630005, 130.169998, 129.690002, 131.449997, 131.0, 130.220001, 128.71000700000002, 132.490005, 139.669998, 139.850006, 145.08999599999999, 144.300003, 144.300003, 141.990005, 136.740005, 135.380005, 136.309998, 135.770004, 137.399994, 137.419998, 136.96000700000002, 137.880005, 136.990005, 136.389999, 135.529999, 136.009995, 132.220001, 130.0, 130.71000700000002, 129.720001, 126.709999, 125.559998, 126.459999, 124.849998, 127.93, 128.720001, 125.709999, 123.599998, 121.940002, 121.0, 122.059998, 122.16999799999999, 123.209999, 121.16999799999999, 124.0, 127.220001, 125.860001, 123.18, 121.43, 123.870003, 124.239998, 122.900002, 121.660004, 121.480003, 122.58000200000001, 120.400002, 123.519997, 124.18, 126.160004, 127.129997, 127.91999799999999, 130.389999, 133.03999299999998, 132.850006, 134.66000400000001, 135.0, 135.0, 134.669998, 135.470001, 135.529999, 133.75, 134.149994, 135.119995, 135.059998, 135.41000400000001, 135.020004, 137.070007, 133.559998, 134.070007, 131.490005, 130.449997, 129.75, 131.259995, 129.53999299999998, 126.269997, 124.639999, 126.150002, 127.889999, 126.93, 126.989998, 124.91999799999999, 127.720001, 128.0, 127.940002, 128.320007, 127.389999, 127.639999, 125.800003, 125.349998, 125.239998, 124.849998, 126.160004, 126.32, 128.46000700000002, 127.75, 128.190002, 127.440002, 130.53999299999998, 130.600006, 130.889999, 132.550003, 131.509995, 132.41000400000001, 134.080002, 134.320007, 134.639999, 133.889999, 135.25, 136.490005, 137.41000400000001, 137.330002, 140.0, 143.149994, 144.889999, 144.059998, 145.649994, 146.320007, 147.46000700000002, 149.570007, 150.0, 149.759995, 144.070007, 147.100006, 146.130005, 148.199997, 148.720001, 149.830002, 149.21000700000002, 146.970001, 146.550003, 146.330002, 146.949997, 148.03999299999998, 147.78999299999998, 147.83999599999999, 147.110001, 146.699997, 147.71000700000002, 146.720001, 149.050003, 149.440002, 151.190002, 151.679993, 150.720001, 148.0, 148.5, 150.190002, 150.860001, 150.320007, 149.119995, 148.75, 153.490005, 152.800003, 154.979996, 154.720001, 154.630005, 157.259995, 157.03999299999998], \"low\": [115.260002, 112.5, 110.0, 112.800003, 113.610001, 112.040001, 108.709999, 106.089996, 103.099998, 109.160004, 106.769997, 105.0, 107.66999799999999, 112.779999, 113.57, 113.620003, 115.83000200000001, 112.220001, 113.550003, 112.25, 114.129997, 114.589996, 114.91999799999999, 119.279999, 119.650002, 119.620003, 118.150002, 118.809998, 115.660004, 115.629997, 116.449997, 114.589996, 114.279999, 112.879997, 114.540001, 111.099998, 112.199997, 107.720001, 107.32, 108.730003, 112.349998, 116.870003, 116.129997, 116.050003, 114.129997, 116.440002, 118.57, 117.870003, 118.150002, 118.959999, 118.0, 116.809998, 117.290001, 113.75, 112.589996, 115.16999799999999, 116.220001, 116.809998, 120.010002, 120.889999, 122.209999, 121.519997, 122.25, 123.089996, 121.0, 120.150002, 120.550003, 121.540001, 124.129997, 126.559998, 128.03999299999998, 126.120003, 123.449997, 129.649994, 130.779999, 131.100006, 133.509995, 134.33999599999999, 133.399994, 131.720001, 126.760002, 128.429993, 126.379997, 127.860001, 130.229996, 128.5, 126.860001, 128.490005, 128.759995, 127.0, 126.940002, 128.550003, 133.58999599999999, 135.020004, 136.53999299999998, 141.369995, 140.41000400000001, 136.699997, 130.21000700000002, 130.929993, 134.610001, 133.610001, 134.58999599999999, 135.860001, 134.919998, 135.850006, 134.399994, 133.770004, 133.690002, 132.78999299999998, 129.470001, 127.410004, 128.800003, 125.599998, 118.389999, 122.230003, 120.540001, 121.199997, 122.790001, 125.010002, 121.839996, 118.620003, 117.57, 116.209999, 118.790001, 119.449997, 121.260002, 119.160004, 120.41999799999999, 124.720001, 122.339996, 120.32, 119.68, 120.260002, 122.139999, 120.07, 119.0, 118.91999799999999, 120.730003, 118.860001, 121.150002, 122.489998, 123.07, 125.650002, 125.139999, 128.520004, 129.470001, 130.630005, 131.929993, 131.66000400000001, 133.639999, 133.279999, 133.33999599999999, 131.809998, 131.300003, 131.41000400000001, 132.16000400000001, 133.559998, 134.110001, 133.080002, 132.449997, 131.070007, 131.830002, 126.699997, 127.970001, 127.129997, 129.479996, 126.809998, 122.769997, 122.25, 124.260002, 125.849998, 125.16999799999999, 124.779999, 122.860001, 125.099998, 125.209999, 125.940002, 126.32, 126.41999799999999, 125.08000200000001, 124.550003, 123.940002, 124.050003, 123.129997, 123.849998, 124.83000200000001, 126.209999, 126.519997, 125.940002, 126.099998, 127.07, 129.389999, 128.46000700000002, 129.649994, 130.240005, 129.21000700000002, 131.619995, 133.229996, 132.929993, 132.809998, 133.350006, 134.350006, 135.869995, 135.759995, 137.75, 140.070007, 142.66000400000001, 140.669998, 142.649994, 144.0, 143.630005, 147.679993, 147.08999599999999, 145.880005, 141.669998, 142.96000700000002, 144.630005, 145.809998, 146.919998, 147.699997, 145.550003, 142.53999299999998, 144.580002, 144.110001, 145.25, 145.179993, 146.279999, 146.169998, 145.630005, 145.520004, 145.300003, 145.529999, 145.83999599999999, 148.270004, 146.470001, 149.08999599999999, 146.149994, 144.5, 146.779999, 147.889999, 149.149994, 147.800003, 147.509995, 146.830002, 148.610001, 151.28999299999998, 152.33999599999999, 152.399994, 153.08999599999999, 154.389999, 153.979996], \"open\": [117.260002, 120.360001, 114.57, 114.720001, 118.33000200000001, 115.230003, 109.720001, 110.400002, 104.540001, 112.68, 111.620003, 105.16999799999999, 108.43, 115.010002, 114.550003, 113.790001, 117.639999, 112.889999, 113.910004, 115.699997, 114.620003, 116.25, 115.279999, 120.059998, 125.269997, 121.0, 118.720001, 121.279999, 119.959999, 116.199997, 116.66999799999999, 117.449997, 116.389999, 114.010002, 115.489998, 115.050003, 112.370003, 111.059998, 109.110001, 109.660004, 114.139999, 117.949997, 118.32, 120.5, 115.550003, 117.190002, 119.620003, 119.440002, 118.91999799999999, 119.550003, 118.610001, 117.589996, 118.639999, 117.18, 113.910004, 115.550003, 116.57, 116.970001, 121.010002, 122.019997, 123.519997, 122.599998, 122.309998, 124.370003, 124.529999, 120.5, 122.43, 122.599998, 124.339996, 127.410004, 128.899994, 128.96000700000002, 125.019997, 131.610001, 132.16000400000001, 131.320007, 133.990005, 138.050003, 135.580002, 134.080002, 133.520004, 128.889999, 127.720001, 128.360001, 132.429993, 129.190002, 128.5, 128.759995, 130.800003, 128.779999, 127.779999, 128.66000400000001, 133.800003, 136.279999, 143.070007, 143.600006, 143.429993, 139.520004, 135.830002, 133.75, 135.729996, 135.759995, 136.300003, 137.350006, 136.029999, 136.619995, 136.479996, 135.899994, 134.350006, 135.490005, 131.25, 129.199997, 130.240005, 128.009995, 123.760002, 124.940002, 124.68, 122.589996, 123.75, 128.41000400000001, 124.809998, 121.75, 120.980003, 120.93, 119.029999, 121.690002, 122.540001, 120.400002, 121.410004, 125.699997, 124.050003, 122.879997, 119.900002, 120.33000200000001, 123.33000200000001, 122.82, 119.540001, 120.349998, 121.650002, 120.110001, 121.650002, 123.660004, 123.870003, 126.5, 125.83000200000001, 128.949997, 129.800003, 132.520004, 132.440002, 134.940002, 133.820007, 134.300003, 133.509995, 135.020004, 132.360001, 133.03999299999998, 132.16000400000001, 134.830002, 135.009995, 134.309998, 136.470001, 131.779999, 132.03999299999998, 131.190002, 129.199997, 127.889999, 130.850006, 129.41000400000001, 123.5, 123.400002, 124.58000200000001, 126.25, 126.82, 126.559998, 123.160004, 125.230003, 127.82, 126.010002, 127.82, 126.959999, 126.440002, 125.57, 125.08000200000001, 124.279999, 124.68, 124.07, 126.16999799999999, 126.599998, 127.209999, 127.019997, 126.529999, 127.82, 129.940002, 130.369995, 129.800003, 130.71000700000002, 130.300003, 132.130005, 133.770004, 134.449997, 133.46000700000002, 133.41000400000001, 134.800003, 136.169998, 136.600006, 137.899994, 140.070007, 143.53999299999998, 141.580002, 142.75, 146.21000700000002, 144.029999, 148.100006, 149.240005, 148.46000700000002, 143.75, 143.46000700000002, 145.529999, 145.940002, 147.550003, 148.270004, 149.119995, 144.809998, 144.690002, 144.380005, 146.360001, 145.809998, 147.270004, 146.979996, 146.350006, 146.199997, 146.440002, 146.050003, 146.190002, 148.970001, 148.53999299999998, 150.229996, 149.800003, 145.029999, 147.440002, 148.309998, 149.449997, 149.809998, 148.350006, 147.479996, 149.0, 152.66000400000001, 152.830002, 153.869995, 153.759995, 154.970001, 156.979996], \"type\": \"candlestick\", \"x\": [\"2020-09-09\", \"2020-09-10\", \"2020-09-11\", \"2020-09-14\", \"2020-09-15\", \"2020-09-16\", \"2020-09-17\", \"2020-09-18\", \"2020-09-21\", \"2020-09-22\", \"2020-09-23\", \"2020-09-24\", \"2020-09-25\", \"2020-09-28\", \"2020-09-29\", \"2020-09-30\", \"2020-10-01\", \"2020-10-02\", \"2020-10-05\", \"2020-10-06\", \"2020-10-07\", \"2020-10-08\", \"2020-10-09\", \"2020-10-12\", \"2020-10-13\", \"2020-10-14\", \"2020-10-15\", \"2020-10-16\", \"2020-10-19\", \"2020-10-20\", \"2020-10-21\", \"2020-10-22\", \"2020-10-23\", \"2020-10-26\", \"2020-10-27\", \"2020-10-28\", \"2020-10-29\", \"2020-10-30\", \"2020-11-02\", \"2020-11-03\", \"2020-11-04\", \"2020-11-05\", \"2020-11-06\", \"2020-11-09\", \"2020-11-10\", \"2020-11-11\", \"2020-11-12\", \"2020-11-13\", \"2020-11-16\", \"2020-11-17\", \"2020-11-18\", \"2020-11-19\", \"2020-11-20\", \"2020-11-23\", \"2020-11-24\", \"2020-11-25\", \"2020-11-27\", \"2020-11-30\", \"2020-12-01\", \"2020-12-02\", \"2020-12-03\", \"2020-12-04\", \"2020-12-07\", \"2020-12-08\", \"2020-12-09\", \"2020-12-10\", \"2020-12-11\", \"2020-12-14\", \"2020-12-15\", \"2020-12-16\", \"2020-12-17\", \"2020-12-18\", \"2020-12-21\", \"2020-12-22\", \"2020-12-23\", \"2020-12-24\", \"2020-12-28\", \"2020-12-29\", \"2020-12-30\", \"2020-12-31\", \"2021-01-04\", \"2021-01-05\", \"2021-01-06\", \"2021-01-07\", \"2021-01-08\", \"2021-01-11\", \"2021-01-12\", \"2021-01-13\", \"2021-01-14\", \"2021-01-15\", \"2021-01-19\", \"2021-01-20\", \"2021-01-21\", \"2021-01-22\", \"2021-01-25\", \"2021-01-26\", \"2021-01-27\", \"2021-01-28\", \"2021-01-29\", \"2021-02-01\", \"2021-02-02\", \"2021-02-03\", \"2021-02-04\", \"2021-02-05\", \"2021-02-08\", \"2021-02-09\", \"2021-02-10\", \"2021-02-11\", \"2021-02-12\", \"2021-02-16\", \"2021-02-17\", \"2021-02-18\", \"2021-02-19\", \"2021-02-22\", \"2021-02-23\", \"2021-02-24\", \"2021-02-25\", \"2021-02-26\", \"2021-03-01\", \"2021-03-02\", \"2021-03-03\", \"2021-03-04\", \"2021-03-05\", \"2021-03-08\", \"2021-03-09\", \"2021-03-10\", \"2021-03-11\", \"2021-03-12\", \"2021-03-15\", \"2021-03-16\", \"2021-03-17\", \"2021-03-18\", \"2021-03-19\", \"2021-03-22\", \"2021-03-23\", \"2021-03-24\", \"2021-03-25\", \"2021-03-26\", \"2021-03-29\", \"2021-03-30\", \"2021-03-31\", \"2021-04-01\", \"2021-04-05\", \"2021-04-06\", \"2021-04-07\", \"2021-04-08\", \"2021-04-09\", \"2021-04-12\", \"2021-04-13\", \"2021-04-14\", \"2021-04-15\", \"2021-04-16\", \"2021-04-19\", \"2021-04-20\", \"2021-04-21\", \"2021-04-22\", \"2021-04-23\", \"2021-04-26\", \"2021-04-27\", \"2021-04-28\", \"2021-04-29\", \"2021-04-30\", \"2021-05-03\", \"2021-05-04\", \"2021-05-05\", \"2021-05-06\", \"2021-05-07\", \"2021-05-10\", \"2021-05-11\", \"2021-05-12\", \"2021-05-13\", \"2021-05-14\", \"2021-05-17\", \"2021-05-18\", \"2021-05-19\", \"2021-05-20\", \"2021-05-21\", \"2021-05-24\", \"2021-05-25\", \"2021-05-26\", \"2021-05-27\", \"2021-05-28\", \"2021-06-01\", \"2021-06-02\", \"2021-06-03\", \"2021-06-04\", \"2021-06-07\", \"2021-06-08\", \"2021-06-09\", \"2021-06-10\", \"2021-06-11\", \"2021-06-14\", \"2021-06-15\", \"2021-06-16\", \"2021-06-17\", \"2021-06-18\", \"2021-06-21\", \"2021-06-22\", \"2021-06-23\", \"2021-06-24\", \"2021-06-25\", \"2021-06-28\", \"2021-06-29\", \"2021-06-30\", \"2021-07-01\", \"2021-07-02\", \"2021-07-06\", \"2021-07-07\", \"2021-07-08\", \"2021-07-09\", \"2021-07-12\", \"2021-07-13\", \"2021-07-14\", \"2021-07-15\", \"2021-07-16\", \"2021-07-19\", \"2021-07-20\", \"2021-07-21\", \"2021-07-22\", \"2021-07-23\", \"2021-07-26\", \"2021-07-27\", \"2021-07-28\", \"2021-07-29\", \"2021-07-30\", \"2021-08-02\", \"2021-08-03\", \"2021-08-04\", \"2021-08-05\", \"2021-08-06\", \"2021-08-09\", \"2021-08-10\", \"2021-08-11\", \"2021-08-12\", \"2021-08-13\", \"2021-08-16\", \"2021-08-17\", \"2021-08-18\", \"2021-08-19\", \"2021-08-20\", \"2021-08-23\", \"2021-08-24\", \"2021-08-25\", \"2021-08-26\", \"2021-08-27\", \"2021-08-30\", \"2021-08-31\", \"2021-09-01\", \"2021-09-02\", \"2021-09-03\", \"2021-09-07\", \"2021-09-08\"]}],\n",
              "                        {\"template\": {\"data\": {\"bar\": [{\"error_x\": {\"color\": \"#2a3f5f\"}, \"error_y\": {\"color\": \"#2a3f5f\"}, \"marker\": {\"line\": {\"color\": \"#E5ECF6\", \"width\": 0.5}}, \"type\": \"bar\"}], \"barpolar\": [{\"marker\": {\"line\": {\"color\": \"#E5ECF6\", \"width\": 0.5}}, \"type\": \"barpolar\"}], \"carpet\": [{\"aaxis\": {\"endlinecolor\": \"#2a3f5f\", \"gridcolor\": \"white\", \"linecolor\": \"white\", \"minorgridcolor\": \"white\", \"startlinecolor\": \"#2a3f5f\"}, \"baxis\": {\"endlinecolor\": \"#2a3f5f\", \"gridcolor\": \"white\", \"linecolor\": \"white\", \"minorgridcolor\": \"white\", \"startlinecolor\": \"#2a3f5f\"}, \"type\": \"carpet\"}], \"choropleth\": [{\"colorbar\": {\"outlinewidth\": 0, \"ticks\": \"\"}, \"type\": \"choropleth\"}], \"contour\": [{\"colorbar\": {\"outlinewidth\": 0, \"ticks\": \"\"}, \"colorscale\": [[0.0, \"#0d0887\"], [0.1111111111111111, \"#46039f\"], [0.2222222222222222, \"#7201a8\"], [0.3333333333333333, \"#9c179e\"], [0.4444444444444444, \"#bd3786\"], [0.5555555555555556, \"#d8576b\"], [0.6666666666666666, \"#ed7953\"], [0.7777777777777778, \"#fb9f3a\"], [0.8888888888888888, \"#fdca26\"], [1.0, \"#f0f921\"]], \"type\": \"contour\"}], \"contourcarpet\": [{\"colorbar\": {\"outlinewidth\": 0, \"ticks\": \"\"}, \"type\": \"contourcarpet\"}], \"heatmap\": [{\"colorbar\": {\"outlinewidth\": 0, \"ticks\": \"\"}, \"colorscale\": [[0.0, \"#0d0887\"], [0.1111111111111111, \"#46039f\"], [0.2222222222222222, \"#7201a8\"], [0.3333333333333333, \"#9c179e\"], [0.4444444444444444, \"#bd3786\"], [0.5555555555555556, \"#d8576b\"], [0.6666666666666666, \"#ed7953\"], [0.7777777777777778, \"#fb9f3a\"], [0.8888888888888888, \"#fdca26\"], [1.0, \"#f0f921\"]], \"type\": \"heatmap\"}], \"heatmapgl\": [{\"colorbar\": {\"outlinewidth\": 0, \"ticks\": \"\"}, \"colorscale\": [[0.0, \"#0d0887\"], [0.1111111111111111, \"#46039f\"], [0.2222222222222222, \"#7201a8\"], [0.3333333333333333, \"#9c179e\"], [0.4444444444444444, \"#bd3786\"], [0.5555555555555556, \"#d8576b\"], [0.6666666666666666, \"#ed7953\"], [0.7777777777777778, \"#fb9f3a\"], [0.8888888888888888, \"#fdca26\"], [1.0, \"#f0f921\"]], \"type\": \"heatmapgl\"}], \"histogram\": [{\"marker\": {\"colorbar\": {\"outlinewidth\": 0, \"ticks\": \"\"}}, \"type\": \"histogram\"}], \"histogram2d\": [{\"colorbar\": {\"outlinewidth\": 0, \"ticks\": \"\"}, \"colorscale\": [[0.0, \"#0d0887\"], [0.1111111111111111, \"#46039f\"], [0.2222222222222222, \"#7201a8\"], [0.3333333333333333, \"#9c179e\"], [0.4444444444444444, \"#bd3786\"], [0.5555555555555556, \"#d8576b\"], [0.6666666666666666, \"#ed7953\"], [0.7777777777777778, \"#fb9f3a\"], [0.8888888888888888, \"#fdca26\"], [1.0, \"#f0f921\"]], \"type\": \"histogram2d\"}], \"histogram2dcontour\": [{\"colorbar\": {\"outlinewidth\": 0, \"ticks\": \"\"}, \"colorscale\": [[0.0, \"#0d0887\"], [0.1111111111111111, \"#46039f\"], [0.2222222222222222, \"#7201a8\"], [0.3333333333333333, \"#9c179e\"], [0.4444444444444444, \"#bd3786\"], [0.5555555555555556, \"#d8576b\"], [0.6666666666666666, \"#ed7953\"], [0.7777777777777778, \"#fb9f3a\"], [0.8888888888888888, \"#fdca26\"], [1.0, \"#f0f921\"]], \"type\": \"histogram2dcontour\"}], \"mesh3d\": [{\"colorbar\": {\"outlinewidth\": 0, \"ticks\": \"\"}, \"type\": \"mesh3d\"}], \"parcoords\": [{\"line\": {\"colorbar\": {\"outlinewidth\": 0, \"ticks\": \"\"}}, \"type\": \"parcoords\"}], \"pie\": [{\"automargin\": true, \"type\": \"pie\"}], \"scatter\": [{\"marker\": {\"colorbar\": {\"outlinewidth\": 0, \"ticks\": \"\"}}, \"type\": \"scatter\"}], \"scatter3d\": [{\"line\": {\"colorbar\": {\"outlinewidth\": 0, \"ticks\": \"\"}}, \"marker\": {\"colorbar\": {\"outlinewidth\": 0, \"ticks\": \"\"}}, \"type\": \"scatter3d\"}], \"scattercarpet\": [{\"marker\": {\"colorbar\": {\"outlinewidth\": 0, \"ticks\": \"\"}}, \"type\": \"scattercarpet\"}], \"scattergeo\": [{\"marker\": {\"colorbar\": {\"outlinewidth\": 0, \"ticks\": \"\"}}, \"type\": \"scattergeo\"}], \"scattergl\": [{\"marker\": {\"colorbar\": {\"outlinewidth\": 0, \"ticks\": \"\"}}, \"type\": \"scattergl\"}], \"scattermapbox\": [{\"marker\": {\"colorbar\": {\"outlinewidth\": 0, \"ticks\": \"\"}}, \"type\": \"scattermapbox\"}], \"scatterpolar\": [{\"marker\": {\"colorbar\": {\"outlinewidth\": 0, \"ticks\": \"\"}}, \"type\": \"scatterpolar\"}], \"scatterpolargl\": [{\"marker\": {\"colorbar\": {\"outlinewidth\": 0, \"ticks\": \"\"}}, \"type\": \"scatterpolargl\"}], \"scatterternary\": [{\"marker\": {\"colorbar\": {\"outlinewidth\": 0, \"ticks\": \"\"}}, \"type\": \"scatterternary\"}], \"surface\": [{\"colorbar\": {\"outlinewidth\": 0, \"ticks\": \"\"}, \"colorscale\": [[0.0, \"#0d0887\"], [0.1111111111111111, \"#46039f\"], [0.2222222222222222, \"#7201a8\"], [0.3333333333333333, \"#9c179e\"], [0.4444444444444444, \"#bd3786\"], [0.5555555555555556, \"#d8576b\"], [0.6666666666666666, \"#ed7953\"], [0.7777777777777778, \"#fb9f3a\"], [0.8888888888888888, \"#fdca26\"], [1.0, \"#f0f921\"]], \"type\": \"surface\"}], \"table\": [{\"cells\": {\"fill\": {\"color\": \"#EBF0F8\"}, \"line\": {\"color\": \"white\"}}, \"header\": {\"fill\": {\"color\": \"#C8D4E3\"}, \"line\": {\"color\": \"white\"}}, \"type\": \"table\"}]}, \"layout\": {\"annotationdefaults\": {\"arrowcolor\": \"#2a3f5f\", \"arrowhead\": 0, \"arrowwidth\": 1}, \"coloraxis\": {\"colorbar\": {\"outlinewidth\": 0, \"ticks\": \"\"}}, \"colorscale\": {\"diverging\": [[0, \"#8e0152\"], [0.1, \"#c51b7d\"], [0.2, \"#de77ae\"], [0.3, \"#f1b6da\"], [0.4, \"#fde0ef\"], [0.5, \"#f7f7f7\"], [0.6, \"#e6f5d0\"], [0.7, \"#b8e186\"], [0.8, \"#7fbc41\"], [0.9, \"#4d9221\"], [1, \"#276419\"]], \"sequential\": [[0.0, \"#0d0887\"], [0.1111111111111111, \"#46039f\"], [0.2222222222222222, \"#7201a8\"], [0.3333333333333333, \"#9c179e\"], [0.4444444444444444, \"#bd3786\"], [0.5555555555555556, \"#d8576b\"], [0.6666666666666666, \"#ed7953\"], [0.7777777777777778, \"#fb9f3a\"], [0.8888888888888888, \"#fdca26\"], [1.0, \"#f0f921\"]], \"sequentialminus\": [[0.0, \"#0d0887\"], [0.1111111111111111, \"#46039f\"], [0.2222222222222222, \"#7201a8\"], [0.3333333333333333, \"#9c179e\"], [0.4444444444444444, \"#bd3786\"], [0.5555555555555556, \"#d8576b\"], [0.6666666666666666, \"#ed7953\"], [0.7777777777777778, \"#fb9f3a\"], [0.8888888888888888, \"#fdca26\"], [1.0, \"#f0f921\"]]}, \"colorway\": [\"#636efa\", \"#EF553B\", \"#00cc96\", \"#ab63fa\", \"#FFA15A\", \"#19d3f3\", \"#FF6692\", \"#B6E880\", \"#FF97FF\", \"#FECB52\"], \"font\": {\"color\": \"#2a3f5f\"}, \"geo\": {\"bgcolor\": \"white\", \"lakecolor\": \"white\", \"landcolor\": \"#E5ECF6\", \"showlakes\": true, \"showland\": true, \"subunitcolor\": \"white\"}, \"hoverlabel\": {\"align\": \"left\"}, \"hovermode\": \"closest\", \"mapbox\": {\"style\": \"light\"}, \"paper_bgcolor\": \"white\", \"plot_bgcolor\": \"#E5ECF6\", \"polar\": {\"angularaxis\": {\"gridcolor\": \"white\", \"linecolor\": \"white\", \"ticks\": \"\"}, \"bgcolor\": \"#E5ECF6\", \"radialaxis\": {\"gridcolor\": \"white\", \"linecolor\": \"white\", \"ticks\": \"\"}}, \"scene\": {\"xaxis\": {\"backgroundcolor\": \"#E5ECF6\", \"gridcolor\": \"white\", \"gridwidth\": 2, \"linecolor\": \"white\", \"showbackground\": true, \"ticks\": \"\", \"zerolinecolor\": \"white\"}, \"yaxis\": {\"backgroundcolor\": \"#E5ECF6\", \"gridcolor\": \"white\", \"gridwidth\": 2, \"linecolor\": \"white\", \"showbackground\": true, \"ticks\": \"\", \"zerolinecolor\": \"white\"}, \"zaxis\": {\"backgroundcolor\": \"#E5ECF6\", \"gridcolor\": \"white\", \"gridwidth\": 2, \"linecolor\": \"white\", \"showbackground\": true, \"ticks\": \"\", \"zerolinecolor\": \"white\"}}, \"shapedefaults\": {\"line\": {\"color\": \"#2a3f5f\"}}, \"ternary\": {\"aaxis\": {\"gridcolor\": \"white\", \"linecolor\": \"white\", \"ticks\": \"\"}, \"baxis\": {\"gridcolor\": \"white\", \"linecolor\": \"white\", \"ticks\": \"\"}, \"bgcolor\": \"#E5ECF6\", \"caxis\": {\"gridcolor\": \"white\", \"linecolor\": \"white\", \"ticks\": \"\"}}, \"title\": {\"x\": 0.05}, \"xaxis\": {\"automargin\": true, \"gridcolor\": \"white\", \"linecolor\": \"white\", \"ticks\": \"\", \"title\": {\"standoff\": 15}, \"zerolinecolor\": \"white\", \"zerolinewidth\": 2}, \"yaxis\": {\"automargin\": true, \"gridcolor\": \"white\", \"linecolor\": \"white\", \"ticks\": \"\", \"title\": {\"standoff\": 15}, \"zerolinecolor\": \"white\", \"zerolinewidth\": 2}}}, \"title\": {\"text\": \"Apple Stock Price Analysis\"}, \"xaxis\": {\"rangeslider\": {\"visible\": false}}},\n",
              "                        {\"responsive\": true}\n",
              "                    ).then(function(){\n",
              "                            \n",
              "var gd = document.getElementById('ee5c8529-3665-4845-9bec-f50ede877dbc');\n",
              "var x = new MutationObserver(function (mutations, observer) {{\n",
              "        var display = window.getComputedStyle(gd).display;\n",
              "        if (!display || display === 'none') {{\n",
              "            console.log([gd, 'removed!']);\n",
              "            Plotly.purge(gd);\n",
              "            observer.disconnect();\n",
              "        }}\n",
              "}});\n",
              "\n",
              "// Listen for the removal of the full notebook cells\n",
              "var notebookContainer = gd.closest('#notebook-container');\n",
              "if (notebookContainer) {{\n",
              "    x.observe(notebookContainer, {childList: true});\n",
              "}}\n",
              "\n",
              "// Listen for the clearing of the current output cell\n",
              "var outputEl = gd.closest('.output');\n",
              "if (outputEl) {{\n",
              "    x.observe(outputEl, {childList: true});\n",
              "}}\n",
              "\n",
              "                        })\n",
              "                };\n",
              "                \n",
              "            </script>\n",
              "        </div>\n",
              "</body>\n",
              "</html>"
            ]
          },
          "metadata": {}
        }
      ]
    },
    {
      "cell_type": "code",
      "metadata": {
        "colab": {
          "base_uri": "https://localhost:8080/"
        },
        "id": "3jaYDDRd_r4a",
        "outputId": "e58a0a5e-2921-48d8-e7f1-f48e9cd37789"
      },
      "source": [
        "print(data.corr())"
      ],
      "execution_count": null,
      "outputs": [
        {
          "output_type": "stream",
          "name": "stdout",
          "text": [
            "               Open      High       Low     Close  Adj Close    Volume\n",
            "Open       1.000000  0.994819  0.993231  0.986352   0.986321 -0.461554\n",
            "High       0.994819  1.000000  0.993199  0.993975   0.993712 -0.439422\n",
            "Low        0.993231  0.993199  1.000000  0.994026   0.994297 -0.514027\n",
            "Close      0.986352  0.993975  0.994026  1.000000   0.999900 -0.484383\n",
            "Adj Close  0.986321  0.993712  0.994297  0.999900   1.000000 -0.488751\n",
            "Volume    -0.461554 -0.439422 -0.514027 -0.484383  -0.488751  1.000000\n"
          ]
        }
      ]
    },
    {
      "cell_type": "code",
      "metadata": {
        "colab": {
          "base_uri": "https://localhost:8080/"
        },
        "id": "iT6XJAfY_wZo",
        "outputId": "ab7d4ebb-518c-42a8-ccc0-c2cc44817979"
      },
      "source": [
        "!pip install autots"
      ],
      "execution_count": null,
      "outputs": [
        {
          "output_type": "stream",
          "name": "stdout",
          "text": [
            "Collecting autots\n",
            "  Downloading AutoTS-0.3.5-py3-none-any.whl (412 kB)\n",
            "\u001b[?25l\r\u001b[K     |▉                               | 10 kB 24.3 MB/s eta 0:00:01\r\u001b[K     |█▋                              | 20 kB 10.4 MB/s eta 0:00:01\r\u001b[K     |██▍                             | 30 kB 8.8 MB/s eta 0:00:01\r\u001b[K     |███▏                            | 40 kB 7.6 MB/s eta 0:00:01\r\u001b[K     |████                            | 51 kB 4.1 MB/s eta 0:00:01\r\u001b[K     |████▊                           | 61 kB 4.3 MB/s eta 0:00:01\r\u001b[K     |█████▋                          | 71 kB 4.3 MB/s eta 0:00:01\r\u001b[K     |██████▍                         | 81 kB 4.8 MB/s eta 0:00:01\r\u001b[K     |███████▏                        | 92 kB 5.1 MB/s eta 0:00:01\r\u001b[K     |████████                        | 102 kB 4.0 MB/s eta 0:00:01\r\u001b[K     |████████▊                       | 112 kB 4.0 MB/s eta 0:00:01\r\u001b[K     |█████████▌                      | 122 kB 4.0 MB/s eta 0:00:01\r\u001b[K     |██████████▎                     | 133 kB 4.0 MB/s eta 0:00:01\r\u001b[K     |███████████▏                    | 143 kB 4.0 MB/s eta 0:00:01\r\u001b[K     |████████████                    | 153 kB 4.0 MB/s eta 0:00:01\r\u001b[K     |████████████▊                   | 163 kB 4.0 MB/s eta 0:00:01\r\u001b[K     |█████████████▌                  | 174 kB 4.0 MB/s eta 0:00:01\r\u001b[K     |██████████████▎                 | 184 kB 4.0 MB/s eta 0:00:01\r\u001b[K     |███████████████                 | 194 kB 4.0 MB/s eta 0:00:01\r\u001b[K     |████████████████                | 204 kB 4.0 MB/s eta 0:00:01\r\u001b[K     |████████████████▊               | 215 kB 4.0 MB/s eta 0:00:01\r\u001b[K     |█████████████████▌              | 225 kB 4.0 MB/s eta 0:00:01\r\u001b[K     |██████████████████▎             | 235 kB 4.0 MB/s eta 0:00:01\r\u001b[K     |███████████████████             | 245 kB 4.0 MB/s eta 0:00:01\r\u001b[K     |███████████████████▉            | 256 kB 4.0 MB/s eta 0:00:01\r\u001b[K     |████████████████████▋           | 266 kB 4.0 MB/s eta 0:00:01\r\u001b[K     |█████████████████████▌          | 276 kB 4.0 MB/s eta 0:00:01\r\u001b[K     |██████████████████████▎         | 286 kB 4.0 MB/s eta 0:00:01\r\u001b[K     |███████████████████████         | 296 kB 4.0 MB/s eta 0:00:01\r\u001b[K     |███████████████████████▉        | 307 kB 4.0 MB/s eta 0:00:01\r\u001b[K     |████████████████████████▋       | 317 kB 4.0 MB/s eta 0:00:01\r\u001b[K     |█████████████████████████▍      | 327 kB 4.0 MB/s eta 0:00:01\r\u001b[K     |██████████████████████████▏     | 337 kB 4.0 MB/s eta 0:00:01\r\u001b[K     |███████████████████████████     | 348 kB 4.0 MB/s eta 0:00:01\r\u001b[K     |███████████████████████████▉    | 358 kB 4.0 MB/s eta 0:00:01\r\u001b[K     |████████████████████████████▋   | 368 kB 4.0 MB/s eta 0:00:01\r\u001b[K     |█████████████████████████████▍  | 378 kB 4.0 MB/s eta 0:00:01\r\u001b[K     |██████████████████████████████▏ | 389 kB 4.0 MB/s eta 0:00:01\r\u001b[K     |███████████████████████████████ | 399 kB 4.0 MB/s eta 0:00:01\r\u001b[K     |███████████████████████████████▉| 409 kB 4.0 MB/s eta 0:00:01\r\u001b[K     |████████████████████████████████| 412 kB 4.0 MB/s \n",
            "\u001b[?25hRequirement already satisfied: pandas>=0.25.* in /usr/local/lib/python3.7/dist-packages (from autots) (1.1.5)\n",
            "Requirement already satisfied: scikit-learn>=0.20.* in /usr/local/lib/python3.7/dist-packages (from autots) (0.22.2.post1)\n",
            "Requirement already satisfied: numpy>=1.14.6 in /usr/local/lib/python3.7/dist-packages (from autots) (1.19.5)\n",
            "Requirement already satisfied: statsmodels>=0.10.* in /usr/local/lib/python3.7/dist-packages (from autots) (0.10.2)\n",
            "Requirement already satisfied: python-dateutil>=2.7.3 in /usr/local/lib/python3.7/dist-packages (from pandas>=0.25.*->autots) (2.8.2)\n",
            "Requirement already satisfied: pytz>=2017.2 in /usr/local/lib/python3.7/dist-packages (from pandas>=0.25.*->autots) (2018.9)\n",
            "Requirement already satisfied: six>=1.5 in /usr/local/lib/python3.7/dist-packages (from python-dateutil>=2.7.3->pandas>=0.25.*->autots) (1.15.0)\n",
            "Requirement already satisfied: joblib>=0.11 in /usr/local/lib/python3.7/dist-packages (from scikit-learn>=0.20.*->autots) (1.0.1)\n",
            "Requirement already satisfied: scipy>=0.17.0 in /usr/local/lib/python3.7/dist-packages (from scikit-learn>=0.20.*->autots) (1.4.1)\n",
            "Requirement already satisfied: patsy>=0.4.0 in /usr/local/lib/python3.7/dist-packages (from statsmodels>=0.10.*->autots) (0.5.1)\n",
            "Installing collected packages: autots\n",
            "Successfully installed autots-0.3.5\n"
          ]
        }
      ]
    },
    {
      "cell_type": "code",
      "metadata": {
        "id": "wBV6k2F5_8Ms"
      },
      "source": [
        "from autots import AutoTS"
      ],
      "execution_count": null,
      "outputs": []
    },
    {
      "cell_type": "code",
      "metadata": {
        "id": "0EdvQA-kADqN"
      },
      "source": [
        "model= AutoTS(forecast_length=5,frequency='infer',ensemble='simple')"
      ],
      "execution_count": null,
      "outputs": []
    },
    {
      "cell_type": "code",
      "metadata": {
        "colab": {
          "base_uri": "https://localhost:8080/"
        },
        "id": "9g1xoEiPAV6D",
        "outputId": "ec4ef898-b4aa-43d2-bf6f-a1a08e37bfcf"
      },
      "source": [
        "model=model.fit(data,date_col='Date',value_col='Close',id_col=None)"
      ],
      "execution_count": null,
      "outputs": [
        {
          "output_type": "stream",
          "name": "stdout",
          "text": [
            "Inferred frequency is: B\n",
            "Model Number: 1 with model AverageValueNaive in generation 0 of 10\n",
            "Model Number: 2 with model AverageValueNaive in generation 0 of 10\n",
            "Model Number: 3 with model AverageValueNaive in generation 0 of 10\n",
            "Model Number: 4 with model DatepartRegression in generation 0 of 10\n",
            "Model Number: 5 with model DatepartRegression in generation 0 of 10\n",
            "Model Number: 6 with model DatepartRegression in generation 0 of 10\n"
          ]
        },
        {
          "output_type": "stream",
          "name": "stderr",
          "text": [
            "/usr/local/lib/python3.7/dist-packages/sklearn/svm/_base.py:947: ConvergenceWarning:\n",
            "\n",
            "Liblinear failed to converge, increase the number of iterations.\n",
            "\n",
            "/usr/local/lib/python3.7/dist-packages/sklearn/neural_network/_multilayer_perceptron.py:1342: DataConversionWarning:\n",
            "\n",
            "A column-vector y was passed when a 1d array was expected. Please change the shape of y to (n_samples, ), for example using ravel().\n",
            "\n",
            "/usr/local/lib/python3.7/dist-packages/sklearn/neural_network/_multilayer_perceptron.py:470: ConvergenceWarning:\n",
            "\n",
            "lbfgs failed to converge (status=1):\n",
            "STOP: TOTAL NO. of ITERATIONS REACHED LIMIT.\n",
            "\n",
            "Increase the number of iterations (max_iter) or scale the data as shown in:\n",
            "    https://scikit-learn.org/stable/modules/preprocessing.html\n",
            "\n"
          ]
        },
        {
          "output_type": "stream",
          "name": "stdout",
          "text": [
            "Model Number: 7 with model DatepartRegression in generation 0 of 10\n",
            "Epoch 1/50\n",
            "8/8 [==============================] - 3s 4ms/step - loss: 0.3826\n",
            "Epoch 2/50\n",
            "8/8 [==============================] - 0s 3ms/step - loss: 0.3724\n",
            "Epoch 3/50\n",
            "8/8 [==============================] - 0s 4ms/step - loss: 0.3802\n",
            "Epoch 4/50\n",
            "8/8 [==============================] - 0s 4ms/step - loss: 0.3745\n",
            "Epoch 5/50\n",
            "8/8 [==============================] - 0s 4ms/step - loss: 0.3681\n",
            "Epoch 6/50\n",
            "8/8 [==============================] - 0s 4ms/step - loss: 0.3614\n",
            "Epoch 7/50\n",
            "8/8 [==============================] - 0s 4ms/step - loss: 0.3653\n",
            "Epoch 8/50\n",
            "8/8 [==============================] - 0s 4ms/step - loss: 0.3532\n",
            "Epoch 9/50\n",
            "8/8 [==============================] - 0s 4ms/step - loss: 0.3565\n",
            "Epoch 10/50\n",
            "8/8 [==============================] - 0s 4ms/step - loss: 0.3576\n",
            "Epoch 11/50\n",
            "8/8 [==============================] - 0s 4ms/step - loss: 0.3532\n",
            "Epoch 12/50\n",
            "8/8 [==============================] - 0s 4ms/step - loss: 0.3506\n",
            "Epoch 13/50\n",
            "8/8 [==============================] - 0s 4ms/step - loss: 0.3428\n",
            "Epoch 14/50\n",
            "8/8 [==============================] - 0s 4ms/step - loss: 0.3396\n",
            "Epoch 15/50\n",
            "8/8 [==============================] - 0s 4ms/step - loss: 0.3336\n",
            "Epoch 16/50\n",
            "8/8 [==============================] - 0s 4ms/step - loss: 0.3375\n",
            "Epoch 17/50\n",
            "8/8 [==============================] - 0s 4ms/step - loss: 0.3279\n",
            "Epoch 18/50\n",
            "8/8 [==============================] - 0s 4ms/step - loss: 0.3196\n",
            "Epoch 19/50\n",
            "8/8 [==============================] - 0s 4ms/step - loss: 0.3268\n",
            "Epoch 20/50\n",
            "8/8 [==============================] - 0s 4ms/step - loss: 0.3208\n",
            "Epoch 21/50\n",
            "8/8 [==============================] - 0s 4ms/step - loss: 0.3162\n",
            "Epoch 22/50\n",
            "8/8 [==============================] - 0s 4ms/step - loss: 0.3164\n",
            "Epoch 23/50\n",
            "8/8 [==============================] - 0s 5ms/step - loss: 0.3114\n",
            "Epoch 24/50\n",
            "8/8 [==============================] - 0s 4ms/step - loss: 0.3056\n",
            "Epoch 25/50\n",
            "8/8 [==============================] - 0s 5ms/step - loss: 0.3011\n",
            "Epoch 26/50\n",
            "8/8 [==============================] - 0s 4ms/step - loss: 0.2969\n",
            "Epoch 27/50\n",
            "8/8 [==============================] - 0s 4ms/step - loss: 0.3076\n",
            "Epoch 28/50\n",
            "8/8 [==============================] - 0s 4ms/step - loss: 0.2984\n",
            "Epoch 29/50\n",
            "8/8 [==============================] - 0s 4ms/step - loss: 0.3056\n",
            "Epoch 30/50\n",
            "8/8 [==============================] - 0s 5ms/step - loss: 0.2956\n",
            "Epoch 31/50\n",
            "8/8 [==============================] - 0s 4ms/step - loss: 0.2982\n",
            "Epoch 32/50\n",
            "8/8 [==============================] - 0s 4ms/step - loss: 0.2943\n",
            "Epoch 33/50\n",
            "8/8 [==============================] - 0s 4ms/step - loss: 0.2889\n",
            "Epoch 34/50\n",
            "8/8 [==============================] - 0s 4ms/step - loss: 0.2819\n",
            "Epoch 35/50\n",
            "8/8 [==============================] - 0s 4ms/step - loss: 0.2783\n",
            "Epoch 36/50\n",
            "8/8 [==============================] - 0s 4ms/step - loss: 0.2860\n",
            "Epoch 37/50\n",
            "8/8 [==============================] - 0s 4ms/step - loss: 0.2838\n",
            "Epoch 38/50\n",
            "8/8 [==============================] - 0s 5ms/step - loss: 0.2745\n",
            "Epoch 39/50\n",
            "8/8 [==============================] - 0s 4ms/step - loss: 0.2706\n",
            "Epoch 40/50\n",
            "8/8 [==============================] - 0s 5ms/step - loss: 0.2732\n",
            "Epoch 41/50\n",
            "8/8 [==============================] - 0s 4ms/step - loss: 0.2712\n",
            "Epoch 42/50\n",
            "8/8 [==============================] - 0s 4ms/step - loss: 0.2652\n",
            "Epoch 43/50\n",
            "8/8 [==============================] - 0s 4ms/step - loss: 0.2543\n",
            "Epoch 44/50\n",
            "8/8 [==============================] - 0s 5ms/step - loss: 0.2550\n",
            "Epoch 45/50\n",
            "8/8 [==============================] - 0s 4ms/step - loss: 0.2562\n",
            "Epoch 46/50\n",
            "8/8 [==============================] - 0s 4ms/step - loss: 0.2680\n",
            "Epoch 47/50\n",
            "8/8 [==============================] - 0s 4ms/step - loss: 0.2532\n",
            "Epoch 48/50\n",
            "8/8 [==============================] - 0s 5ms/step - loss: 0.2453\n",
            "Epoch 49/50\n",
            "8/8 [==============================] - 0s 4ms/step - loss: 0.2571\n",
            "Epoch 50/50\n",
            "8/8 [==============================] - 0s 4ms/step - loss: 0.2369\n",
            "Model Number: 8 with model ETS in generation 0 of 10\n",
            "Model Number: 9 with model ETS in generation 0 of 10\n",
            "Model Number: 10 with model GLM in generation 0 of 10\n",
            "Model Number: 11 with model GLM in generation 0 of 10\n",
            "Model Number: 12 with model GLS in generation 0 of 10\n",
            "Model Number: 13 with model GLS in generation 0 of 10\n",
            "Model Number: 14 with model GluonTS in generation 0 of 10\n",
            "Template Eval Error: ImportError('GluonTS installation not found or installed version is incompatible with AutoTS.') in model 14: GluonTS\n",
            "Model Number: 15 with model GluonTS in generation 0 of 10\n",
            "Template Eval Error: ImportError('GluonTS installation not found or installed version is incompatible with AutoTS.') in model 15: GluonTS\n",
            "Model Number: 16 with model GluonTS in generation 0 of 10\n",
            "Template Eval Error: ImportError('GluonTS installation not found or installed version is incompatible with AutoTS.') in model 16: GluonTS\n",
            "Model Number: 17 with model GluonTS in generation 0 of 10\n",
            "Template Eval Error: ImportError('GluonTS installation not found or installed version is incompatible with AutoTS.') in model 17: GluonTS\n",
            "Model Number: 18 with model GluonTS in generation 0 of 10\n",
            "Template Eval Error: ImportError('GluonTS installation not found or installed version is incompatible with AutoTS.') in model 18: GluonTS\n",
            "Model Number: 19 with model GluonTS in generation 0 of 10\n",
            "Template Eval Error: ImportError('GluonTS installation not found or installed version is incompatible with AutoTS.') in model 19: GluonTS\n",
            "Model Number: 20 with model LastValueNaive in generation 0 of 10\n",
            "Model Number: 21 with model LastValueNaive in generation 0 of 10\n",
            "Model Number: 22 with model LastValueNaive in generation 0 of 10\n",
            "Model Number: 23 with model LastValueNaive in generation 0 of 10\n",
            "Model Number: 24 with model SeasonalNaive in generation 0 of 10\n",
            "Model Number: 25 with model SeasonalNaive in generation 0 of 10\n",
            "Model Number: 26 with model SeasonalNaive in generation 0 of 10\n",
            "Model Number: 27 with model SeasonalNaive in generation 0 of 10\n",
            "Model Number: 28 with model UnobservedComponents in generation 0 of 10\n",
            "Model Number: 29 with model UnobservedComponents in generation 0 of 10\n",
            "Model Number: 30 with model UnobservedComponents in generation 0 of 10\n",
            "Model Number: 31 with model VAR in generation 0 of 10\n",
            "Template Eval Error: ValueError('Only gave one variable to VAR') in model 31: VAR\n",
            "Model Number: 32 with model VAR in generation 0 of 10\n",
            "Template Eval Error: ValueError('Only gave one variable to VAR') in model 32: VAR\n",
            "Model Number: 33 with model VAR in generation 0 of 10\n",
            "Template Eval Error: ValueError('Only gave one variable to VAR') in model 33: VAR\n",
            "Model Number: 34 with model VECM in generation 0 of 10\n",
            "Template Eval Error: ValueError('Only gave one variable to VECM') in model 34: VECM\n",
            "Model Number: 35 with model VECM in generation 0 of 10\n",
            "Template Eval Error: ValueError('Only gave one variable to VECM') in model 35: VECM\n",
            "Model Number: 36 with model VECM in generation 0 of 10\n",
            "Template Eval Error: ValueError('Only gave one variable to VECM') in model 36: VECM\n",
            "Model Number: 37 with model VECM in generation 0 of 10\n",
            "Template Eval Error: ValueError('Only gave one variable to VECM') in model 37: VECM\n",
            "Model Number: 38 with model WindowRegression in generation 0 of 10\n",
            "Model Number: 39 with model ZeroesNaive in generation 0 of 10\n",
            "Model Number: 40 with model ZeroesNaive in generation 0 of 10\n"
          ]
        },
        {
          "output_type": "stream",
          "name": "stderr",
          "text": [
            "/usr/local/lib/python3.7/dist-packages/sklearn/neural_network/_multilayer_perceptron.py:470: ConvergenceWarning:\n",
            "\n",
            "lbfgs failed to converge (status=1):\n",
            "STOP: TOTAL NO. of ITERATIONS REACHED LIMIT.\n",
            "\n",
            "Increase the number of iterations (max_iter) or scale the data as shown in:\n",
            "    https://scikit-learn.org/stable/modules/preprocessing.html\n",
            "\n"
          ]
        },
        {
          "output_type": "stream",
          "name": "stdout",
          "text": [
            "Model Number: 41 with model LastValueNaive in generation 0 of 10\n",
            "Model Number: 42 with model AverageValueNaive in generation 0 of 10\n",
            "Model Number: 43 with model GLS in generation 0 of 10\n",
            "Model Number: 44 with model SeasonalNaive in generation 0 of 10\n",
            "Model Number: 45 with model GLM in generation 0 of 10\n",
            "Model Number: 46 with model ETS in generation 0 of 10\n"
          ]
        },
        {
          "output_type": "stream",
          "name": "stderr",
          "text": [
            "/usr/local/lib/python3.7/dist-packages/statsmodels/tsa/holtwinters.py:712: ConvergenceWarning:\n",
            "\n",
            "Optimization failed to converge. Check mle_retvals.\n",
            "\n",
            "/usr/local/lib/python3.7/dist-packages/statsmodels/tsa/holtwinters.py:881: RuntimeWarning:\n",
            "\n",
            "invalid value encountered in power\n",
            "\n",
            "/usr/local/lib/python3.7/dist-packages/statsmodels/tsa/holtwinters.py:884: RuntimeWarning:\n",
            "\n",
            "invalid value encountered in power\n",
            "\n",
            "/usr/local/lib/python3.7/dist-packages/statsmodels/tsa/holtwinters.py:886: RuntimeWarning:\n",
            "\n",
            "invalid value encountered in power\n",
            "\n",
            "/usr/local/lib/python3.7/dist-packages/statsmodels/tsa/holtwinters.py:892: RuntimeWarning:\n",
            "\n",
            "invalid value encountered in power\n",
            "\n"
          ]
        },
        {
          "output_type": "stream",
          "name": "stdout",
          "text": [
            "Model Number: 47 with model FBProphet in generation 0 of 10\n",
            "Template Eval Error: AttributeError(\"'list' object has no attribute 'shape'\") in model 47: FBProphet\n",
            "Model Number: 48 with model RollingRegression in generation 0 of 10\n",
            "Model Number: 49 with model GluonTS in generation 0 of 10\n",
            "Template Eval Error: ImportError('GluonTS installation not found or installed version is incompatible with AutoTS.') in model 49: GluonTS\n",
            "Model Number: 50 with model UnobservedComponents in generation 0 of 10\n",
            "Model Number: 51 with model VAR in generation 0 of 10\n",
            "Template Eval Error: ValueError('Only gave one variable to VAR') in model 51: VAR\n",
            "Model Number: 52 with model VECM in generation 0 of 10\n",
            "Template Eval Error: ValueError('Only gave one variable to VECM') in model 52: VECM\n",
            "Model Number: 53 with model WindowRegression in generation 0 of 10\n",
            "Template Eval Error: ValueError(\"WindowRegression regression_type='user' requires numpy >= 1.20\") in model 53: WindowRegression\n",
            "Model Number: 54 with model DatepartRegression in generation 0 of 10\n",
            "Model Number: 55 with model UnivariateRegression in generation 0 of 10\n",
            "Template Eval Error: TypeError(\"'>' not supported between instances of 'NoneType' and 'int'\") in model 55: UnivariateRegression\n",
            "Model Number: 56 with model UnivariateMotif in generation 0 of 10\n",
            "Template Eval Error: AttributeError(\"module 'numpy.lib.stride_tricks' has no attribute 'sliding_window_view'\") in model 56: UnivariateMotif\n",
            "Model Number: 57 with model GLS in generation 0 of 10\n",
            "Model Number: 58 with model RollingRegression in generation 0 of 10\n",
            "Template Eval Error: ValueError(\"Input contains NaN, infinity or a value too large for dtype('float64').\") in model 58: RollingRegression\n",
            "Model Number: 59 with model ETS in generation 0 of 10\n",
            "Model Number: 60 with model LastValueNaive in generation 0 of 10\n",
            "Model Number: 61 with model SeasonalNaive in generation 0 of 10\n",
            "Model Number: 62 with model GLS in generation 0 of 10\n",
            "Model Number: 63 with model ZeroesNaive in generation 0 of 10\n",
            "Model Number: 64 with model ZeroesNaive in generation 0 of 10\n",
            "Model Number: 65 with model ZeroesNaive in generation 0 of 10\n",
            "Model Number: 66 with model AverageValueNaive in generation 0 of 10\n",
            "Model Number: 67 with model UnivariateRegression in generation 0 of 10\n",
            "Template Eval Error: TypeError(\"'>' not supported between instances of 'NoneType' and 'int'\") in model 67: UnivariateRegression\n",
            "Model Number: 68 with model SeasonalNaive in generation 0 of 10\n",
            "Model Number: 69 with model RollingRegression in generation 0 of 10\n"
          ]
        },
        {
          "output_type": "stream",
          "name": "stderr",
          "text": [
            "/usr/local/lib/python3.7/dist-packages/autots/models/sklearn.py:669: DataConversionWarning:\n",
            "\n",
            "A column-vector y was passed when a 1d array was expected. Please change the shape of y to (n_samples,), for example using ravel().\n",
            "\n",
            "[Parallel(n_jobs=1)]: Using backend SequentialBackend with 1 concurrent workers.\n",
            "[Parallel(n_jobs=1)]: Done 1000 out of 1000 | elapsed:    1.5s finished\n",
            "[Parallel(n_jobs=1)]: Using backend SequentialBackend with 1 concurrent workers.\n",
            "[Parallel(n_jobs=1)]: Done 1000 out of 1000 | elapsed:    0.1s finished\n",
            "[Parallel(n_jobs=1)]: Using backend SequentialBackend with 1 concurrent workers.\n",
            "[Parallel(n_jobs=1)]: Done 1000 out of 1000 | elapsed:    0.1s finished\n",
            "[Parallel(n_jobs=1)]: Using backend SequentialBackend with 1 concurrent workers.\n",
            "[Parallel(n_jobs=1)]: Done 1000 out of 1000 | elapsed:    0.1s finished\n",
            "[Parallel(n_jobs=1)]: Using backend SequentialBackend with 1 concurrent workers.\n",
            "[Parallel(n_jobs=1)]: Done 1000 out of 1000 | elapsed:    0.1s finished\n",
            "[Parallel(n_jobs=1)]: Using backend SequentialBackend with 1 concurrent workers.\n",
            "[Parallel(n_jobs=1)]: Done 1000 out of 1000 | elapsed:    0.1s finished\n"
          ]
        },
        {
          "output_type": "stream",
          "name": "stdout",
          "text": [
            "Model Number: 70 with model WindowRegression in generation 0 of 10\n",
            "Model Number: 71 with model GLS in generation 0 of 10\n",
            "Model Number: 72 with model VAR in generation 0 of 10\n",
            "Template Eval Error: ValueError('Only gave one variable to VAR') in model 72: VAR\n",
            "Model Number: 73 with model LastValueNaive in generation 0 of 10\n",
            "Model Number: 74 with model ZeroesNaive in generation 0 of 10\n",
            "Model Number: 75 with model GLS in generation 0 of 10\n",
            "Model Number: 76 with model DatepartRegression in generation 0 of 10\n",
            "Model Number: 77 with model UnobservedComponents in generation 0 of 10\n",
            "Model Number: 78 with model SeasonalNaive in generation 0 of 10\n",
            "Model Number: 79 with model FBProphet in generation 0 of 10\n"
          ]
        },
        {
          "output_type": "stream",
          "name": "stderr",
          "text": [
            "INFO:fbprophet:Disabling yearly seasonality. Run prophet with yearly_seasonality=True to override this.\n",
            "INFO:fbprophet:Disabling daily seasonality. Run prophet with daily_seasonality=True to override this.\n"
          ]
        },
        {
          "output_type": "stream",
          "name": "stdout",
          "text": [
            "Model Number: 80 with model ZeroesNaive in generation 0 of 10\n",
            "Model Number: 81 with model ETS in generation 0 of 10\n",
            "Model Number: 82 with model GluonTS in generation 0 of 10\n",
            "Template Eval Error: ImportError('GluonTS installation not found or installed version is incompatible with AutoTS.') in model 82: GluonTS\n",
            "Model Number: 83 with model UnobservedComponents in generation 0 of 10\n",
            "Model Number: 84 with model WindowRegression in generation 0 of 10\n",
            "Model Number: 85 with model WindowRegression in generation 0 of 10\n",
            "Model Number: 86 with model GLM in generation 0 of 10\n",
            "Model Number: 87 with model FBProphet in generation 0 of 10\n",
            "Template Eval Error: AttributeError(\"'list' object has no attribute 'shape'\") in model 87: FBProphet\n",
            "Model Number: 88 with model UnivariateRegression in generation 0 of 10\n",
            "Template Eval Error: TypeError(\"'>' not supported between instances of 'NoneType' and 'int'\") in model 88: UnivariateRegression\n",
            "Model Number: 89 with model GLS in generation 0 of 10\n",
            "Model Number: 90 with model AverageValueNaive in generation 0 of 10\n",
            "Model Number: 91 with model ZeroesNaive in generation 0 of 10\n",
            "Model Number: 92 with model UnivariateRegression in generation 0 of 10\n",
            "Template Eval Error: TypeError(\"'>' not supported between instances of 'NoneType' and 'int'\") in model 92: UnivariateRegression\n",
            "Model Number: 93 with model WindowRegression in generation 0 of 10\n",
            "Model Number: 94 with model RollingRegression in generation 0 of 10\n",
            "Template Eval Error: TypeError(\"Cannot clone object ''DecisionTree'' (type <class 'str'>): it does not seem to be a scikit-learn estimator as it does not implement a 'get_params' methods.\") in model 94: RollingRegression\n",
            "Model Number: 95 with model GLS in generation 0 of 10\n",
            "Model Number: 96 with model VAR in generation 0 of 10\n",
            "Template Eval Error: ValueError('Only gave one variable to VAR') in model 96: VAR\n",
            "Model Number: 97 with model VECM in generation 0 of 10\n",
            "Template Eval Error: ValueError('Only gave one variable to VECM') in model 97: VECM\n",
            "Model Number: 98 with model VECM in generation 0 of 10\n",
            "Template Eval Error: ValueError('Only gave one variable to VECM') in model 98: VECM\n",
            "Model Number: 99 with model UnobservedComponents in generation 0 of 10\n",
            "Model Number: 100 with model VECM in generation 0 of 10\n",
            "Template Eval Error: ValueError('Only gave one variable to VECM') in model 100: VECM\n",
            "Model Number: 101 with model UnivariateMotif in generation 0 of 10\n",
            "Template Eval Error: AttributeError(\"module 'numpy.lib.stride_tricks' has no attribute 'sliding_window_view'\") in model 101: UnivariateMotif\n",
            "Model Number: 102 with model VAR in generation 0 of 10\n",
            "Template Eval Error: ValueError('Only gave one variable to VAR') in model 102: VAR\n",
            "Model Number: 103 with model ETS in generation 0 of 10\n",
            "Model Number: 104 with model ZeroesNaive in generation 0 of 10\n",
            "Model Number: 105 with model LastValueNaive in generation 0 of 10\n",
            "Model Number: 106 with model AverageValueNaive in generation 0 of 10\n",
            "Model Number: 107 with model VAR in generation 0 of 10\n",
            "Template Eval Error: ValueError('Only gave one variable to VAR') in model 107: VAR\n",
            "New Generation: 1 of 10\n",
            "Model Number: 108 with model GLS in generation 1 of 10\n",
            "Model Number: 109 with model GLS in generation 1 of 10\n",
            "Model Number: 110 with model GLS in generation 1 of 10\n",
            "Model Number: 111 with model WindowRegression in generation 1 of 10\n"
          ]
        },
        {
          "output_type": "stream",
          "name": "stderr",
          "text": [
            "/usr/local/lib/python3.7/dist-packages/sklearn/neural_network/_multilayer_perceptron.py:1342: DataConversionWarning:\n",
            "\n",
            "A column-vector y was passed when a 1d array was expected. Please change the shape of y to (n_samples, ), for example using ravel().\n",
            "\n"
          ]
        },
        {
          "output_type": "stream",
          "name": "stdout",
          "text": [
            "Model Number: 112 with model WindowRegression in generation 1 of 10\n",
            "Template Eval Error: ValueError(\"WindowRegression regression_type='user' requires numpy >= 1.20\") in model 112: WindowRegression\n",
            "Model Number: 113 with model WindowRegression in generation 1 of 10\n",
            "Model Number: 114 with model AverageValueNaive in generation 1 of 10\n",
            "Model Number: 115 with model AverageValueNaive in generation 1 of 10\n",
            "Model Number: 116 with model AverageValueNaive in generation 1 of 10\n",
            "Model Number: 117 with model UnobservedComponents in generation 1 of 10\n",
            "Model Number: 118 with model UnobservedComponents in generation 1 of 10\n",
            "Model Number: 119 with model UnobservedComponents in generation 1 of 10\n",
            "Model Number: 120 with model DatepartRegression in generation 1 of 10\n",
            "Model Number: 121 with model DatepartRegression in generation 1 of 10\n",
            "Model Number: 122 with model DatepartRegression in generation 1 of 10\n",
            "Model Number: 123 with model ETS in generation 1 of 10\n"
          ]
        },
        {
          "output_type": "stream",
          "name": "stderr",
          "text": [
            "/usr/local/lib/python3.7/dist-packages/sklearn/neural_network/_multilayer_perceptron.py:1342: DataConversionWarning:\n",
            "\n",
            "A column-vector y was passed when a 1d array was expected. Please change the shape of y to (n_samples, ), for example using ravel().\n",
            "\n"
          ]
        },
        {
          "output_type": "stream",
          "name": "stdout",
          "text": [
            "Model Number: 124 with model ETS in generation 1 of 10\n",
            "Model Number: 125 with model ETS in generation 1 of 10\n",
            "Model Number: 126 with model ETS in generation 1 of 10\n",
            "Model Number: 127 with model SeasonalNaive in generation 1 of 10\n",
            "Model Number: 128 with model SeasonalNaive in generation 1 of 10\n",
            "Model Number: 129 with model SeasonalNaive in generation 1 of 10\n",
            "Model Number: 130 with model SeasonalNaive in generation 1 of 10\n",
            "Model Number: 131 with model RollingRegression in generation 1 of 10\n"
          ]
        },
        {
          "output_type": "stream",
          "name": "stderr",
          "text": [
            "/usr/local/lib/python3.7/dist-packages/sklearn/neural_network/_multilayer_perceptron.py:1342: DataConversionWarning:\n",
            "\n",
            "A column-vector y was passed when a 1d array was expected. Please change the shape of y to (n_samples, ), for example using ravel().\n",
            "\n",
            "/usr/local/lib/python3.7/dist-packages/sklearn/neural_network/_multilayer_perceptron.py:470: ConvergenceWarning:\n",
            "\n",
            "lbfgs failed to converge (status=1):\n",
            "STOP: TOTAL NO. of ITERATIONS REACHED LIMIT.\n",
            "\n",
            "Increase the number of iterations (max_iter) or scale the data as shown in:\n",
            "    https://scikit-learn.org/stable/modules/preprocessing.html\n",
            "\n"
          ]
        },
        {
          "output_type": "stream",
          "name": "stdout",
          "text": [
            "Model Number: 132 with model RollingRegression in generation 1 of 10\n"
          ]
        },
        {
          "output_type": "stream",
          "name": "stderr",
          "text": [
            "/usr/local/lib/python3.7/dist-packages/autots/models/sklearn.py:669: DataConversionWarning:\n",
            "\n",
            "A column-vector y was passed when a 1d array was expected. Please change the shape of y to (n_samples,), for example using ravel().\n",
            "\n",
            "[Parallel(n_jobs=1)]: Using backend SequentialBackend with 1 concurrent workers.\n",
            "[Parallel(n_jobs=1)]: Done 1000 out of 1000 | elapsed:    1.0s finished\n",
            "[Parallel(n_jobs=1)]: Using backend SequentialBackend with 1 concurrent workers.\n",
            "[Parallel(n_jobs=1)]: Done 1000 out of 1000 | elapsed:    0.1s finished\n",
            "[Parallel(n_jobs=1)]: Using backend SequentialBackend with 1 concurrent workers.\n",
            "[Parallel(n_jobs=1)]: Done 1000 out of 1000 | elapsed:    0.1s finished\n",
            "[Parallel(n_jobs=1)]: Using backend SequentialBackend with 1 concurrent workers.\n",
            "[Parallel(n_jobs=1)]: Done 1000 out of 1000 | elapsed:    0.1s finished\n",
            "[Parallel(n_jobs=1)]: Using backend SequentialBackend with 1 concurrent workers.\n",
            "[Parallel(n_jobs=1)]: Done 1000 out of 1000 | elapsed:    0.1s finished\n",
            "[Parallel(n_jobs=1)]: Using backend SequentialBackend with 1 concurrent workers.\n",
            "[Parallel(n_jobs=1)]: Done 1000 out of 1000 | elapsed:    0.1s finished\n"
          ]
        },
        {
          "output_type": "stream",
          "name": "stdout",
          "text": [
            "Model Number: 133 with model RollingRegression in generation 1 of 10\n",
            "Model Number: 134 with model RollingRegression in generation 1 of 10\n"
          ]
        },
        {
          "output_type": "stream",
          "name": "stderr",
          "text": [
            "/usr/local/lib/python3.7/dist-packages/autots/models/sklearn.py:669: DataConversionWarning:\n",
            "\n",
            "A column-vector y was passed when a 1d array was expected. Please change the shape of y to (n_samples,), for example using ravel().\n",
            "\n",
            "[Parallel(n_jobs=1)]: Using backend SequentialBackend with 1 concurrent workers.\n",
            "[Parallel(n_jobs=1)]: Done 1000 out of 1000 | elapsed:    1.4s finished\n",
            "[Parallel(n_jobs=1)]: Using backend SequentialBackend with 1 concurrent workers.\n",
            "[Parallel(n_jobs=1)]: Done 1000 out of 1000 | elapsed:    0.1s finished\n",
            "[Parallel(n_jobs=1)]: Using backend SequentialBackend with 1 concurrent workers.\n",
            "[Parallel(n_jobs=1)]: Done 1000 out of 1000 | elapsed:    0.1s finished\n",
            "[Parallel(n_jobs=1)]: Using backend SequentialBackend with 1 concurrent workers.\n",
            "[Parallel(n_jobs=1)]: Done 1000 out of 1000 | elapsed:    0.1s finished\n",
            "[Parallel(n_jobs=1)]: Using backend SequentialBackend with 1 concurrent workers.\n",
            "[Parallel(n_jobs=1)]: Done 1000 out of 1000 | elapsed:    0.1s finished\n",
            "[Parallel(n_jobs=1)]: Using backend SequentialBackend with 1 concurrent workers.\n",
            "[Parallel(n_jobs=1)]: Done 1000 out of 1000 | elapsed:    0.1s finished\n"
          ]
        },
        {
          "output_type": "stream",
          "name": "stdout",
          "text": [
            "Model Number: 135 with model LastValueNaive in generation 1 of 10\n",
            "Model Number: 136 with model LastValueNaive in generation 1 of 10\n",
            "Model Number: 137 with model LastValueNaive in generation 1 of 10\n",
            "Model Number: 138 with model ZeroesNaive in generation 1 of 10\n",
            "Model Number: 139 with model ZeroesNaive in generation 1 of 10\n",
            "Model Number: 140 with model ZeroesNaive in generation 1 of 10\n",
            "Model Number: 141 with model GLM in generation 1 of 10\n",
            "Model Number: 142 with model GLM in generation 1 of 10\n",
            "Template Eval Error: ValueError('The first guess on the deviance function returned a nan.  This could be a boundary  problem and should be reported.') in model 142: GLM\n",
            "Model Number: 143 with model GLM in generation 1 of 10\n",
            "Model Number: 144 with model GLM in generation 1 of 10\n"
          ]
        },
        {
          "output_type": "stream",
          "name": "stderr",
          "text": [
            "/usr/local/lib/python3.7/dist-packages/statsmodels/genmod/families/family.py:1227: RuntimeWarning:\n",
            "\n",
            "invalid value encountered in log\n",
            "\n",
            "/usr/local/lib/python3.7/dist-packages/statsmodels/genmod/families/links.py:190: RuntimeWarning:\n",
            "\n",
            "overflow encountered in exp\n",
            "\n",
            "/usr/local/lib/python3.7/dist-packages/statsmodels/genmod/families/family.py:889: RuntimeWarning:\n",
            "\n",
            "divide by zero encountered in true_divide\n",
            "\n"
          ]
        },
        {
          "output_type": "stream",
          "name": "stdout",
          "text": [
            "Model Number: 145 with model FBProphet in generation 1 of 10\n",
            "Template Eval Error: AttributeError(\"'list' object has no attribute 'shape'\") in model 145: FBProphet\n",
            "Model Number: 146 with model FBProphet in generation 1 of 10\n",
            "Template Eval Error: AttributeError(\"'list' object has no attribute 'shape'\") in model 146: FBProphet\n",
            "Model Number: 147 with model FBProphet in generation 1 of 10\n",
            "Template Eval Error: AttributeError(\"'list' object has no attribute 'shape'\") in model 147: FBProphet\n",
            "Model Number: 148 with model FBProphet in generation 1 of 10\n"
          ]
        },
        {
          "output_type": "stream",
          "name": "stderr",
          "text": [
            "INFO:fbprophet:Disabling yearly seasonality. Run prophet with yearly_seasonality=True to override this.\n",
            "INFO:fbprophet:Disabling daily seasonality. Run prophet with daily_seasonality=True to override this.\n"
          ]
        },
        {
          "output_type": "stream",
          "name": "stdout",
          "text": [
            "Model Number: 149 with model GluonTS in generation 1 of 10\n",
            "Template Eval Error: ImportError('GluonTS installation not found or installed version is incompatible with AutoTS.') in model 149: GluonTS\n",
            "Model Number: 150 with model GluonTS in generation 1 of 10\n",
            "Template Eval Error: ImportError('GluonTS installation not found or installed version is incompatible with AutoTS.') in model 150: GluonTS\n",
            "Model Number: 151 with model GluonTS in generation 1 of 10\n",
            "Template Eval Error: ImportError('GluonTS installation not found or installed version is incompatible with AutoTS.') in model 151: GluonTS\n",
            "Model Number: 152 with model GluonTS in generation 1 of 10\n",
            "Template Eval Error: ImportError('GluonTS installation not found or installed version is incompatible with AutoTS.') in model 152: GluonTS\n",
            "Model Number: 153 with model VAR in generation 1 of 10\n",
            "Template Eval Error: ValueError('Only gave one variable to VAR') in model 153: VAR\n",
            "Model Number: 154 with model VAR in generation 1 of 10\n",
            "Template Eval Error: ValueError('Only gave one variable to VAR') in model 154: VAR\n",
            "Model Number: 155 with model VAR in generation 1 of 10\n",
            "Template Eval Error: ValueError('Only gave one variable to VAR') in model 155: VAR\n",
            "Model Number: 156 with model VAR in generation 1 of 10\n",
            "Template Eval Error: ValueError('Only gave one variable to VAR') in model 156: VAR\n",
            "Model Number: 157 with model VECM in generation 1 of 10\n",
            "Template Eval Error: ValueError('Only gave one variable to VECM') in model 157: VECM\n",
            "Model Number: 158 with model VECM in generation 1 of 10\n",
            "Template Eval Error: ValueError('Only gave one variable to VECM') in model 158: VECM\n",
            "Model Number: 159 with model VECM in generation 1 of 10\n",
            "Template Eval Error: ValueError('Only gave one variable to VECM') in model 159: VECM\n",
            "Model Number: 160 with model VECM in generation 1 of 10\n",
            "Template Eval Error: ValueError('Only gave one variable to VECM') in model 160: VECM\n",
            "Model Number: 161 with model UnivariateRegression in generation 1 of 10\n",
            "Template Eval Error: TypeError(\"'>' not supported between instances of 'NoneType' and 'int'\") in model 161: UnivariateRegression\n",
            "Model Number: 162 with model UnivariateRegression in generation 1 of 10\n",
            "Template Eval Error: TypeError(\"'>' not supported between instances of 'NoneType' and 'int'\") in model 162: UnivariateRegression\n",
            "Model Number: 163 with model UnivariateRegression in generation 1 of 10\n",
            "Template Eval Error: TypeError(\"'>' not supported between instances of 'NoneType' and 'int'\") in model 163: UnivariateRegression\n",
            "Model Number: 164 with model UnivariateRegression in generation 1 of 10\n",
            "Template Eval Error: TypeError(\"'>' not supported between instances of 'NoneType' and 'int'\") in model 164: UnivariateRegression\n",
            "Model Number: 165 with model UnivariateMotif in generation 1 of 10\n",
            "Template Eval Error: AttributeError(\"module 'numpy.lib.stride_tricks' has no attribute 'sliding_window_view'\") in model 165: UnivariateMotif\n",
            "Model Number: 166 with model UnivariateMotif in generation 1 of 10\n",
            "Template Eval Error: AttributeError(\"module 'numpy.lib.stride_tricks' has no attribute 'sliding_window_view'\") in model 166: UnivariateMotif\n",
            "Model Number: 167 with model UnivariateMotif in generation 1 of 10\n",
            "Template Eval Error: AttributeError(\"module 'numpy.lib.stride_tricks' has no attribute 'sliding_window_view'\") in model 167: UnivariateMotif\n",
            "Model Number: 168 with model UnivariateMotif in generation 1 of 10\n",
            "Template Eval Error: AttributeError(\"module 'numpy.lib.stride_tricks' has no attribute 'sliding_window_view'\") in model 168: UnivariateMotif\n",
            "New Generation: 2 of 10\n",
            "Model Number: 169 with model ETS in generation 2 of 10\n",
            "Model Number: 170 with model ETS in generation 2 of 10\n",
            "Model Number: 171 with model ETS in generation 2 of 10\n",
            "Model Number: 172 with model ETS in generation 2 of 10\n",
            "Model Number: 173 with model SeasonalNaive in generation 2 of 10\n",
            "Model Number: 174 with model SeasonalNaive in generation 2 of 10\n",
            "Model Number: 175 with model SeasonalNaive in generation 2 of 10\n",
            "Model Number: 176 with model SeasonalNaive in generation 2 of 10\n",
            "Model Number: 177 with model LastValueNaive in generation 2 of 10\n",
            "Model Number: 178 with model LastValueNaive in generation 2 of 10\n",
            "Model Number: 179 with model LastValueNaive in generation 2 of 10\n",
            "Model Number: 180 with model GLS in generation 2 of 10\n",
            "Model Number: 181 with model GLS in generation 2 of 10\n",
            "Model Number: 182 with model GLS in generation 2 of 10\n",
            "Model Number: 183 with model ZeroesNaive in generation 2 of 10\n",
            "Model Number: 184 with model ZeroesNaive in generation 2 of 10\n",
            "Model Number: 185 with model GLM in generation 2 of 10\n",
            "Model Number: 186 with model GLM in generation 2 of 10\n",
            "Template Eval Error: ValueError('NaN, inf or invalid value detected in weights, estimation infeasible.') in model 186: GLM\n",
            "Model Number: 187 with model GLM in generation 2 of 10\n",
            "Model Number: 188 with model GLM in generation 2 of 10\n"
          ]
        },
        {
          "output_type": "stream",
          "name": "stderr",
          "text": [
            "/usr/local/lib/python3.7/dist-packages/statsmodels/genmod/families/family.py:1440: RuntimeWarning:\n",
            "\n",
            "invalid value encountered in log\n",
            "\n",
            "/usr/local/lib/python3.7/dist-packages/statsmodels/genmod/families/family.py:1440: RuntimeWarning:\n",
            "\n",
            "divide by zero encountered in true_divide\n",
            "\n",
            "/usr/local/lib/python3.7/dist-packages/statsmodels/genmod/generalized_linear_model.py:774: RuntimeWarning:\n",
            "\n",
            "divide by zero encountered in true_divide\n",
            "\n",
            "/usr/local/lib/python3.7/dist-packages/statsmodels/genmod/families/family.py:134: RuntimeWarning:\n",
            "\n",
            "divide by zero encountered in true_divide\n",
            "\n",
            "/usr/local/lib/python3.7/dist-packages/statsmodels/genmod/families/links.py:190: RuntimeWarning:\n",
            "\n",
            "overflow encountered in exp\n",
            "\n",
            "/usr/local/lib/python3.7/dist-packages/statsmodels/genmod/families/family.py:889: RuntimeWarning:\n",
            "\n",
            "divide by zero encountered in true_divide\n",
            "\n"
          ]
        },
        {
          "output_type": "stream",
          "name": "stdout",
          "text": [
            "Model Number: 189 with model WindowRegression in generation 2 of 10\n",
            "Model Number: 190 with model WindowRegression in generation 2 of 10\n",
            "Model Number: 191 with model WindowRegression in generation 2 of 10\n",
            "Template Eval Error: ValueError(\"WindowRegression regression_type='user' requires numpy >= 1.20\") in model 191: WindowRegression\n",
            "Model Number: 192 with model AverageValueNaive in generation 2 of 10\n",
            "Model Number: 193 with model AverageValueNaive in generation 2 of 10\n",
            "Model Number: 194 with model AverageValueNaive in generation 2 of 10\n",
            "Model Number: 195 with model RollingRegression in generation 2 of 10\n"
          ]
        },
        {
          "output_type": "stream",
          "name": "stderr",
          "text": [
            "/usr/local/lib/python3.7/dist-packages/sklearn/neural_network/_multilayer_perceptron.py:1342: DataConversionWarning:\n",
            "\n",
            "A column-vector y was passed when a 1d array was expected. Please change the shape of y to (n_samples, ), for example using ravel().\n",
            "\n",
            "/usr/local/lib/python3.7/dist-packages/sklearn/neural_network/_multilayer_perceptron.py:470: ConvergenceWarning:\n",
            "\n",
            "lbfgs failed to converge (status=1):\n",
            "STOP: TOTAL NO. of ITERATIONS REACHED LIMIT.\n",
            "\n",
            "Increase the number of iterations (max_iter) or scale the data as shown in:\n",
            "    https://scikit-learn.org/stable/modules/preprocessing.html\n",
            "\n"
          ]
        },
        {
          "output_type": "stream",
          "name": "stdout",
          "text": [
            "Model Number: 196 with model RollingRegression in generation 2 of 10\n",
            "Model Number: 197 with model RollingRegression in generation 2 of 10\n",
            "Model Number: 198 with model RollingRegression in generation 2 of 10\n"
          ]
        },
        {
          "output_type": "stream",
          "name": "stderr",
          "text": [
            "/usr/local/lib/python3.7/dist-packages/autots/models/sklearn.py:669: DataConversionWarning:\n",
            "\n",
            "A column-vector y was passed when a 1d array was expected. Please change the shape of y to (n_samples,), for example using ravel().\n",
            "\n"
          ]
        },
        {
          "output_type": "stream",
          "name": "stdout",
          "text": [
            "Model Number: 199 with model UnobservedComponents in generation 2 of 10\n",
            "Model Number: 200 with model UnobservedComponents in generation 2 of 10\n",
            "Model Number: 201 with model UnobservedComponents in generation 2 of 10\n",
            "Model Number: 202 with model DatepartRegression in generation 2 of 10\n",
            "Template Eval Error: TypeError(\"Cannot clone object ''DecisionTree'' (type <class 'str'>): it does not seem to be a scikit-learn estimator as it does not implement a 'get_params' methods.\") in model 202: DatepartRegression\n",
            "Model Number: 203 with model DatepartRegression in generation 2 of 10\n"
          ]
        },
        {
          "output_type": "stream",
          "name": "stderr",
          "text": [
            "/usr/local/lib/python3.7/dist-packages/autots/models/sklearn.py:1522: DataConversionWarning:\n",
            "\n",
            "A column-vector y was passed when a 1d array was expected. Please change the shape of y to (n_samples,), for example using ravel().\n",
            "\n",
            "[Parallel(n_jobs=1)]: Using backend SequentialBackend with 1 concurrent workers.\n",
            "[Parallel(n_jobs=1)]: Done 1000 out of 1000 | elapsed:    1.2s finished\n",
            "[Parallel(n_jobs=1)]: Using backend SequentialBackend with 1 concurrent workers.\n",
            "[Parallel(n_jobs=1)]: Done 1000 out of 1000 | elapsed:    0.1s finished\n",
            "/usr/local/lib/python3.7/dist-packages/autots/models/sklearn.py:1522: DataConversionWarning:\n",
            "\n",
            "A column-vector y was passed when a 1d array was expected. Please change the shape of y to (n_samples,), for example using ravel().\n",
            "\n"
          ]
        },
        {
          "output_type": "stream",
          "name": "stdout",
          "text": [
            "Model Number: 204 with model DatepartRegression in generation 2 of 10\n"
          ]
        },
        {
          "output_type": "stream",
          "name": "stderr",
          "text": [
            "[Parallel(n_jobs=1)]: Using backend SequentialBackend with 1 concurrent workers.\n",
            "[Parallel(n_jobs=1)]: Done 1000 out of 1000 | elapsed:    1.1s finished\n",
            "[Parallel(n_jobs=1)]: Using backend SequentialBackend with 1 concurrent workers.\n",
            "[Parallel(n_jobs=1)]: Done 1000 out of 1000 | elapsed:    0.1s finished\n",
            "INFO:fbprophet:Disabling yearly seasonality. Run prophet with yearly_seasonality=True to override this.\n",
            "INFO:fbprophet:Disabling daily seasonality. Run prophet with daily_seasonality=True to override this.\n"
          ]
        },
        {
          "output_type": "stream",
          "name": "stdout",
          "text": [
            "Model Number: 205 with model FBProphet in generation 2 of 10\n"
          ]
        },
        {
          "output_type": "stream",
          "name": "stderr",
          "text": [
            "INFO:fbprophet:Disabling yearly seasonality. Run prophet with yearly_seasonality=True to override this.\n",
            "INFO:fbprophet:Disabling daily seasonality. Run prophet with daily_seasonality=True to override this.\n"
          ]
        },
        {
          "output_type": "stream",
          "name": "stdout",
          "text": [
            "Model Number: 206 with model FBProphet in generation 2 of 10\n"
          ]
        },
        {
          "output_type": "stream",
          "name": "stderr",
          "text": [
            "INFO:fbprophet:Disabling yearly seasonality. Run prophet with yearly_seasonality=True to override this.\n",
            "INFO:fbprophet:Disabling daily seasonality. Run prophet with daily_seasonality=True to override this.\n"
          ]
        },
        {
          "output_type": "stream",
          "name": "stdout",
          "text": [
            "Model Number: 207 with model FBProphet in generation 2 of 10\n"
          ]
        },
        {
          "output_type": "stream",
          "name": "stderr",
          "text": [
            "INFO:fbprophet:Disabling yearly seasonality. Run prophet with yearly_seasonality=True to override this.\n",
            "INFO:fbprophet:Disabling daily seasonality. Run prophet with daily_seasonality=True to override this.\n"
          ]
        },
        {
          "output_type": "stream",
          "name": "stdout",
          "text": [
            "Model Number: 208 with model FBProphet in generation 2 of 10\n",
            "Model Number: 209 with model GluonTS in generation 2 of 10\n",
            "Template Eval Error: ImportError('GluonTS installation not found or installed version is incompatible with AutoTS.') in model 209: GluonTS\n",
            "Model Number: 210 with model GluonTS in generation 2 of 10\n",
            "Template Eval Error: ImportError('GluonTS installation not found or installed version is incompatible with AutoTS.') in model 210: GluonTS\n",
            "Model Number: 211 with model GluonTS in generation 2 of 10\n",
            "Template Eval Error: ImportError('GluonTS installation not found or installed version is incompatible with AutoTS.') in model 211: GluonTS\n",
            "Model Number: 212 with model GluonTS in generation 2 of 10\n",
            "Template Eval Error: ImportError('GluonTS installation not found or installed version is incompatible with AutoTS.') in model 212: GluonTS\n",
            "Model Number: 213 with model VAR in generation 2 of 10\n",
            "Template Eval Error: ValueError('Only gave one variable to VAR') in model 213: VAR\n",
            "Model Number: 214 with model VAR in generation 2 of 10\n",
            "Template Eval Error: ValueError('Only gave one variable to VAR') in model 214: VAR\n",
            "Model Number: 215 with model VAR in generation 2 of 10\n",
            "Template Eval Error: ValueError('Only gave one variable to VAR') in model 215: VAR\n",
            "Model Number: 216 with model VAR in generation 2 of 10\n",
            "Template Eval Error: ValueError('Only gave one variable to VAR') in model 216: VAR\n",
            "Model Number: 217 with model VECM in generation 2 of 10\n",
            "Template Eval Error: ValueError('Only gave one variable to VECM') in model 217: VECM\n",
            "Model Number: 218 with model VECM in generation 2 of 10\n",
            "Template Eval Error: ValueError('Only gave one variable to VECM') in model 218: VECM\n",
            "Model Number: 219 with model VECM in generation 2 of 10\n",
            "Template Eval Error: ValueError('Only gave one variable to VECM') in model 219: VECM\n",
            "Model Number: 220 with model VECM in generation 2 of 10\n",
            "Template Eval Error: ValueError('Only gave one variable to VECM') in model 220: VECM\n",
            "Model Number: 221 with model UnivariateRegression in generation 2 of 10\n",
            "Template Eval Error: TypeError(\"'>' not supported between instances of 'NoneType' and 'int'\") in model 221: UnivariateRegression\n",
            "Model Number: 222 with model UnivariateRegression in generation 2 of 10\n",
            "Template Eval Error: TypeError(\"'>' not supported between instances of 'NoneType' and 'int'\") in model 222: UnivariateRegression\n",
            "Model Number: 223 with model UnivariateRegression in generation 2 of 10\n",
            "Template Eval Error: TypeError(\"'>' not supported between instances of 'NoneType' and 'int'\") in model 223: UnivariateRegression\n",
            "Model Number: 224 with model UnivariateRegression in generation 2 of 10\n",
            "Template Eval Error: TypeError(\"'>' not supported between instances of 'NoneType' and 'int'\") in model 224: UnivariateRegression\n",
            "Model Number: 225 with model UnivariateMotif in generation 2 of 10\n",
            "Template Eval Error: AttributeError(\"module 'numpy.lib.stride_tricks' has no attribute 'sliding_window_view'\") in model 225: UnivariateMotif\n",
            "Model Number: 226 with model UnivariateMotif in generation 2 of 10\n",
            "Template Eval Error: AttributeError(\"module 'numpy.lib.stride_tricks' has no attribute 'sliding_window_view'\") in model 226: UnivariateMotif\n",
            "Model Number: 227 with model UnivariateMotif in generation 2 of 10\n",
            "Template Eval Error: AttributeError(\"module 'numpy.lib.stride_tricks' has no attribute 'sliding_window_view'\") in model 227: UnivariateMotif\n",
            "Model Number: 228 with model UnivariateMotif in generation 2 of 10\n",
            "Template Eval Error: AttributeError(\"module 'numpy.lib.stride_tricks' has no attribute 'sliding_window_view'\") in model 228: UnivariateMotif\n",
            "New Generation: 3 of 10\n",
            "Model Number: 229 with model ETS in generation 3 of 10\n",
            "Model Number: 230 with model ETS in generation 3 of 10\n",
            "Model Number: 231 with model ETS in generation 3 of 10\n",
            "Model Number: 232 with model ETS in generation 3 of 10\n",
            "Model Number: 233 with model LastValueNaive in generation 3 of 10\n",
            "Model Number: 234 with model LastValueNaive in generation 3 of 10\n",
            "Model Number: 235 with model LastValueNaive in generation 3 of 10\n",
            "Model Number: 236 with model SeasonalNaive in generation 3 of 10\n",
            "Model Number: 237 with model SeasonalNaive in generation 3 of 10\n",
            "Model Number: 238 with model SeasonalNaive in generation 3 of 10\n",
            "Model Number: 239 with model SeasonalNaive in generation 3 of 10\n",
            "Model Number: 240 with model DatepartRegression in generation 3 of 10\n",
            "Model Number: 241 with model DatepartRegression in generation 3 of 10\n",
            "Model Number: 242 with model DatepartRegression in generation 3 of 10\n"
          ]
        },
        {
          "output_type": "stream",
          "name": "stderr",
          "text": [
            "/usr/local/lib/python3.7/dist-packages/sklearn/neural_network/_multilayer_perceptron.py:1342: DataConversionWarning:\n",
            "\n",
            "A column-vector y was passed when a 1d array was expected. Please change the shape of y to (n_samples, ), for example using ravel().\n",
            "\n",
            "/usr/local/lib/python3.7/dist-packages/sklearn/neural_network/_multilayer_perceptron.py:1342: DataConversionWarning:\n",
            "\n",
            "A column-vector y was passed when a 1d array was expected. Please change the shape of y to (n_samples, ), for example using ravel().\n",
            "\n"
          ]
        },
        {
          "output_type": "stream",
          "name": "stdout",
          "text": [
            "Model Number: 243 with model GLS in generation 3 of 10\n",
            "Model Number: 244 with model GLS in generation 3 of 10\n",
            "Model Number: 245 with model GLS in generation 3 of 10\n",
            "Model Number: 246 with model ZeroesNaive in generation 3 of 10\n",
            "Model Number: 247 with model ZeroesNaive in generation 3 of 10\n",
            "Model Number: 248 with model ZeroesNaive in generation 3 of 10\n",
            "Model Number: 249 with model RollingRegression in generation 3 of 10\n"
          ]
        },
        {
          "output_type": "stream",
          "name": "stderr",
          "text": [
            "/usr/local/lib/python3.7/dist-packages/sklearn/neural_network/_multilayer_perceptron.py:1342: DataConversionWarning:\n",
            "\n",
            "A column-vector y was passed when a 1d array was expected. Please change the shape of y to (n_samples, ), for example using ravel().\n",
            "\n"
          ]
        },
        {
          "output_type": "stream",
          "name": "stdout",
          "text": [
            "Model Number: 250 with model RollingRegression in generation 3 of 10\n"
          ]
        },
        {
          "output_type": "stream",
          "name": "stderr",
          "text": [
            "/usr/local/lib/python3.7/dist-packages/sklearn/neural_network/_multilayer_perceptron.py:1342: DataConversionWarning:\n",
            "\n",
            "A column-vector y was passed when a 1d array was expected. Please change the shape of y to (n_samples, ), for example using ravel().\n",
            "\n",
            "/usr/local/lib/python3.7/dist-packages/sklearn/neural_network/_multilayer_perceptron.py:470: ConvergenceWarning:\n",
            "\n",
            "lbfgs failed to converge (status=1):\n",
            "STOP: TOTAL NO. of ITERATIONS REACHED LIMIT.\n",
            "\n",
            "Increase the number of iterations (max_iter) or scale the data as shown in:\n",
            "    https://scikit-learn.org/stable/modules/preprocessing.html\n",
            "\n",
            "/usr/local/lib/python3.7/dist-packages/sklearn/neural_network/_multilayer_perceptron.py:1342: DataConversionWarning:\n",
            "\n",
            "A column-vector y was passed when a 1d array was expected. Please change the shape of y to (n_samples, ), for example using ravel().\n",
            "\n"
          ]
        },
        {
          "output_type": "stream",
          "name": "stdout",
          "text": [
            "Model Number: 251 with model RollingRegression in generation 3 of 10\n",
            "Model Number: 252 with model RollingRegression in generation 3 of 10\n",
            "Model Number: 253 with model GLM in generation 3 of 10\n",
            "Model Number: 254 with model GLM in generation 3 of 10\n",
            "Model Number: 255 with model GLM in generation 3 of 10\n",
            "Model Number: 256 with model WindowRegression in generation 3 of 10\n",
            "Template Eval Error: TypeError(\"Cannot clone object ''DecisionTree'' (type <class 'str'>): it does not seem to be a scikit-learn estimator as it does not implement a 'get_params' methods.\") in model 256: WindowRegression\n",
            "Model Number: 257 with model WindowRegression in generation 3 of 10\n",
            "Model Number: 258 with model WindowRegression in generation 3 of 10\n",
            "Model Number: 259 with model AverageValueNaive in generation 3 of 10\n",
            "Model Number: 260 with model AverageValueNaive in generation 3 of 10\n"
          ]
        },
        {
          "output_type": "stream",
          "name": "stderr",
          "text": [
            "/usr/local/lib/python3.7/dist-packages/sklearn/base.py:434: FutureWarning:\n",
            "\n",
            "The default value of multioutput (not exposed in score method) will change from 'variance_weighted' to 'uniform_average' in 0.23 to keep consistent with 'metrics.r2_score'. To specify the default value manually and avoid the warning, please either call 'metrics.r2_score' directly or make a custom scorer with 'metrics.make_scorer' (the built-in scorer 'r2' uses multioutput='uniform_average').\n",
            "\n",
            "/usr/local/lib/python3.7/dist-packages/sklearn/base.py:434: FutureWarning:\n",
            "\n",
            "The default value of multioutput (not exposed in score method) will change from 'variance_weighted' to 'uniform_average' in 0.23 to keep consistent with 'metrics.r2_score'. To specify the default value manually and avoid the warning, please either call 'metrics.r2_score' directly or make a custom scorer with 'metrics.make_scorer' (the built-in scorer 'r2' uses multioutput='uniform_average').\n",
            "\n",
            "/usr/local/lib/python3.7/dist-packages/sklearn/base.py:434: FutureWarning:\n",
            "\n",
            "The default value of multioutput (not exposed in score method) will change from 'variance_weighted' to 'uniform_average' in 0.23 to keep consistent with 'metrics.r2_score'. To specify the default value manually and avoid the warning, please either call 'metrics.r2_score' directly or make a custom scorer with 'metrics.make_scorer' (the built-in scorer 'r2' uses multioutput='uniform_average').\n",
            "\n",
            "/usr/local/lib/python3.7/dist-packages/sklearn/base.py:434: FutureWarning:\n",
            "\n",
            "The default value of multioutput (not exposed in score method) will change from 'variance_weighted' to 'uniform_average' in 0.23 to keep consistent with 'metrics.r2_score'. To specify the default value manually and avoid the warning, please either call 'metrics.r2_score' directly or make a custom scorer with 'metrics.make_scorer' (the built-in scorer 'r2' uses multioutput='uniform_average').\n",
            "\n",
            "/usr/local/lib/python3.7/dist-packages/sklearn/base.py:434: FutureWarning:\n",
            "\n",
            "The default value of multioutput (not exposed in score method) will change from 'variance_weighted' to 'uniform_average' in 0.23 to keep consistent with 'metrics.r2_score'. To specify the default value manually and avoid the warning, please either call 'metrics.r2_score' directly or make a custom scorer with 'metrics.make_scorer' (the built-in scorer 'r2' uses multioutput='uniform_average').\n",
            "\n",
            "/usr/local/lib/python3.7/dist-packages/sklearn/base.py:434: FutureWarning:\n",
            "\n",
            "The default value of multioutput (not exposed in score method) will change from 'variance_weighted' to 'uniform_average' in 0.23 to keep consistent with 'metrics.r2_score'. To specify the default value manually and avoid the warning, please either call 'metrics.r2_score' directly or make a custom scorer with 'metrics.make_scorer' (the built-in scorer 'r2' uses multioutput='uniform_average').\n",
            "\n",
            "/usr/local/lib/python3.7/dist-packages/sklearn/base.py:434: FutureWarning:\n",
            "\n",
            "The default value of multioutput (not exposed in score method) will change from 'variance_weighted' to 'uniform_average' in 0.23 to keep consistent with 'metrics.r2_score'. To specify the default value manually and avoid the warning, please either call 'metrics.r2_score' directly or make a custom scorer with 'metrics.make_scorer' (the built-in scorer 'r2' uses multioutput='uniform_average').\n",
            "\n",
            "/usr/local/lib/python3.7/dist-packages/sklearn/base.py:434: FutureWarning:\n",
            "\n",
            "The default value of multioutput (not exposed in score method) will change from 'variance_weighted' to 'uniform_average' in 0.23 to keep consistent with 'metrics.r2_score'. To specify the default value manually and avoid the warning, please either call 'metrics.r2_score' directly or make a custom scorer with 'metrics.make_scorer' (the built-in scorer 'r2' uses multioutput='uniform_average').\n",
            "\n",
            "/usr/local/lib/python3.7/dist-packages/sklearn/base.py:434: FutureWarning:\n",
            "\n",
            "The default value of multioutput (not exposed in score method) will change from 'variance_weighted' to 'uniform_average' in 0.23 to keep consistent with 'metrics.r2_score'. To specify the default value manually and avoid the warning, please either call 'metrics.r2_score' directly or make a custom scorer with 'metrics.make_scorer' (the built-in scorer 'r2' uses multioutput='uniform_average').\n",
            "\n",
            "/usr/local/lib/python3.7/dist-packages/sklearn/base.py:434: FutureWarning:\n",
            "\n",
            "The default value of multioutput (not exposed in score method) will change from 'variance_weighted' to 'uniform_average' in 0.23 to keep consistent with 'metrics.r2_score'. To specify the default value manually and avoid the warning, please either call 'metrics.r2_score' directly or make a custom scorer with 'metrics.make_scorer' (the built-in scorer 'r2' uses multioutput='uniform_average').\n",
            "\n",
            "/usr/local/lib/python3.7/dist-packages/sklearn/base.py:434: FutureWarning:\n",
            "\n",
            "The default value of multioutput (not exposed in score method) will change from 'variance_weighted' to 'uniform_average' in 0.23 to keep consistent with 'metrics.r2_score'. To specify the default value manually and avoid the warning, please either call 'metrics.r2_score' directly or make a custom scorer with 'metrics.make_scorer' (the built-in scorer 'r2' uses multioutput='uniform_average').\n",
            "\n",
            "/usr/local/lib/python3.7/dist-packages/sklearn/base.py:434: FutureWarning:\n",
            "\n",
            "The default value of multioutput (not exposed in score method) will change from 'variance_weighted' to 'uniform_average' in 0.23 to keep consistent with 'metrics.r2_score'. To specify the default value manually and avoid the warning, please either call 'metrics.r2_score' directly or make a custom scorer with 'metrics.make_scorer' (the built-in scorer 'r2' uses multioutput='uniform_average').\n",
            "\n",
            "/usr/local/lib/python3.7/dist-packages/sklearn/base.py:434: FutureWarning:\n",
            "\n",
            "The default value of multioutput (not exposed in score method) will change from 'variance_weighted' to 'uniform_average' in 0.23 to keep consistent with 'metrics.r2_score'. To specify the default value manually and avoid the warning, please either call 'metrics.r2_score' directly or make a custom scorer with 'metrics.make_scorer' (the built-in scorer 'r2' uses multioutput='uniform_average').\n",
            "\n",
            "/usr/local/lib/python3.7/dist-packages/sklearn/base.py:434: FutureWarning:\n",
            "\n",
            "The default value of multioutput (not exposed in score method) will change from 'variance_weighted' to 'uniform_average' in 0.23 to keep consistent with 'metrics.r2_score'. To specify the default value manually and avoid the warning, please either call 'metrics.r2_score' directly or make a custom scorer with 'metrics.make_scorer' (the built-in scorer 'r2' uses multioutput='uniform_average').\n",
            "\n",
            "/usr/local/lib/python3.7/dist-packages/sklearn/base.py:434: FutureWarning:\n",
            "\n",
            "The default value of multioutput (not exposed in score method) will change from 'variance_weighted' to 'uniform_average' in 0.23 to keep consistent with 'metrics.r2_score'. To specify the default value manually and avoid the warning, please either call 'metrics.r2_score' directly or make a custom scorer with 'metrics.make_scorer' (the built-in scorer 'r2' uses multioutput='uniform_average').\n",
            "\n",
            "/usr/local/lib/python3.7/dist-packages/sklearn/base.py:434: FutureWarning:\n",
            "\n",
            "The default value of multioutput (not exposed in score method) will change from 'variance_weighted' to 'uniform_average' in 0.23 to keep consistent with 'metrics.r2_score'. To specify the default value manually and avoid the warning, please either call 'metrics.r2_score' directly or make a custom scorer with 'metrics.make_scorer' (the built-in scorer 'r2' uses multioutput='uniform_average').\n",
            "\n",
            "/usr/local/lib/python3.7/dist-packages/sklearn/base.py:434: FutureWarning:\n",
            "\n",
            "The default value of multioutput (not exposed in score method) will change from 'variance_weighted' to 'uniform_average' in 0.23 to keep consistent with 'metrics.r2_score'. To specify the default value manually and avoid the warning, please either call 'metrics.r2_score' directly or make a custom scorer with 'metrics.make_scorer' (the built-in scorer 'r2' uses multioutput='uniform_average').\n",
            "\n",
            "/usr/local/lib/python3.7/dist-packages/sklearn/base.py:434: FutureWarning:\n",
            "\n",
            "The default value of multioutput (not exposed in score method) will change from 'variance_weighted' to 'uniform_average' in 0.23 to keep consistent with 'metrics.r2_score'. To specify the default value manually and avoid the warning, please either call 'metrics.r2_score' directly or make a custom scorer with 'metrics.make_scorer' (the built-in scorer 'r2' uses multioutput='uniform_average').\n",
            "\n",
            "/usr/local/lib/python3.7/dist-packages/sklearn/base.py:434: FutureWarning:\n",
            "\n",
            "The default value of multioutput (not exposed in score method) will change from 'variance_weighted' to 'uniform_average' in 0.23 to keep consistent with 'metrics.r2_score'. To specify the default value manually and avoid the warning, please either call 'metrics.r2_score' directly or make a custom scorer with 'metrics.make_scorer' (the built-in scorer 'r2' uses multioutput='uniform_average').\n",
            "\n",
            "/usr/local/lib/python3.7/dist-packages/sklearn/base.py:434: FutureWarning:\n",
            "\n",
            "The default value of multioutput (not exposed in score method) will change from 'variance_weighted' to 'uniform_average' in 0.23 to keep consistent with 'metrics.r2_score'. To specify the default value manually and avoid the warning, please either call 'metrics.r2_score' directly or make a custom scorer with 'metrics.make_scorer' (the built-in scorer 'r2' uses multioutput='uniform_average').\n",
            "\n",
            "/usr/local/lib/python3.7/dist-packages/sklearn/base.py:434: FutureWarning:\n",
            "\n",
            "The default value of multioutput (not exposed in score method) will change from 'variance_weighted' to 'uniform_average' in 0.23 to keep consistent with 'metrics.r2_score'. To specify the default value manually and avoid the warning, please either call 'metrics.r2_score' directly or make a custom scorer with 'metrics.make_scorer' (the built-in scorer 'r2' uses multioutput='uniform_average').\n",
            "\n",
            "/usr/local/lib/python3.7/dist-packages/sklearn/base.py:434: FutureWarning:\n",
            "\n",
            "The default value of multioutput (not exposed in score method) will change from 'variance_weighted' to 'uniform_average' in 0.23 to keep consistent with 'metrics.r2_score'. To specify the default value manually and avoid the warning, please either call 'metrics.r2_score' directly or make a custom scorer with 'metrics.make_scorer' (the built-in scorer 'r2' uses multioutput='uniform_average').\n",
            "\n",
            "/usr/local/lib/python3.7/dist-packages/sklearn/base.py:434: FutureWarning:\n",
            "\n",
            "The default value of multioutput (not exposed in score method) will change from 'variance_weighted' to 'uniform_average' in 0.23 to keep consistent with 'metrics.r2_score'. To specify the default value manually and avoid the warning, please either call 'metrics.r2_score' directly or make a custom scorer with 'metrics.make_scorer' (the built-in scorer 'r2' uses multioutput='uniform_average').\n",
            "\n",
            "/usr/local/lib/python3.7/dist-packages/sklearn/base.py:434: FutureWarning:\n",
            "\n",
            "The default value of multioutput (not exposed in score method) will change from 'variance_weighted' to 'uniform_average' in 0.23 to keep consistent with 'metrics.r2_score'. To specify the default value manually and avoid the warning, please either call 'metrics.r2_score' directly or make a custom scorer with 'metrics.make_scorer' (the built-in scorer 'r2' uses multioutput='uniform_average').\n",
            "\n",
            "/usr/local/lib/python3.7/dist-packages/sklearn/base.py:434: FutureWarning:\n",
            "\n",
            "The default value of multioutput (not exposed in score method) will change from 'variance_weighted' to 'uniform_average' in 0.23 to keep consistent with 'metrics.r2_score'. To specify the default value manually and avoid the warning, please either call 'metrics.r2_score' directly or make a custom scorer with 'metrics.make_scorer' (the built-in scorer 'r2' uses multioutput='uniform_average').\n",
            "\n",
            "/usr/local/lib/python3.7/dist-packages/sklearn/base.py:434: FutureWarning:\n",
            "\n",
            "The default value of multioutput (not exposed in score method) will change from 'variance_weighted' to 'uniform_average' in 0.23 to keep consistent with 'metrics.r2_score'. To specify the default value manually and avoid the warning, please either call 'metrics.r2_score' directly or make a custom scorer with 'metrics.make_scorer' (the built-in scorer 'r2' uses multioutput='uniform_average').\n",
            "\n",
            "/usr/local/lib/python3.7/dist-packages/sklearn/base.py:434: FutureWarning:\n",
            "\n",
            "The default value of multioutput (not exposed in score method) will change from 'variance_weighted' to 'uniform_average' in 0.23 to keep consistent with 'metrics.r2_score'. To specify the default value manually and avoid the warning, please either call 'metrics.r2_score' directly or make a custom scorer with 'metrics.make_scorer' (the built-in scorer 'r2' uses multioutput='uniform_average').\n",
            "\n",
            "/usr/local/lib/python3.7/dist-packages/sklearn/base.py:434: FutureWarning:\n",
            "\n",
            "The default value of multioutput (not exposed in score method) will change from 'variance_weighted' to 'uniform_average' in 0.23 to keep consistent with 'metrics.r2_score'. To specify the default value manually and avoid the warning, please either call 'metrics.r2_score' directly or make a custom scorer with 'metrics.make_scorer' (the built-in scorer 'r2' uses multioutput='uniform_average').\n",
            "\n",
            "/usr/local/lib/python3.7/dist-packages/sklearn/base.py:434: FutureWarning:\n",
            "\n",
            "The default value of multioutput (not exposed in score method) will change from 'variance_weighted' to 'uniform_average' in 0.23 to keep consistent with 'metrics.r2_score'. To specify the default value manually and avoid the warning, please either call 'metrics.r2_score' directly or make a custom scorer with 'metrics.make_scorer' (the built-in scorer 'r2' uses multioutput='uniform_average').\n",
            "\n",
            "/usr/local/lib/python3.7/dist-packages/sklearn/base.py:434: FutureWarning:\n",
            "\n",
            "The default value of multioutput (not exposed in score method) will change from 'variance_weighted' to 'uniform_average' in 0.23 to keep consistent with 'metrics.r2_score'. To specify the default value manually and avoid the warning, please either call 'metrics.r2_score' directly or make a custom scorer with 'metrics.make_scorer' (the built-in scorer 'r2' uses multioutput='uniform_average').\n",
            "\n",
            "/usr/local/lib/python3.7/dist-packages/sklearn/base.py:434: FutureWarning:\n",
            "\n",
            "The default value of multioutput (not exposed in score method) will change from 'variance_weighted' to 'uniform_average' in 0.23 to keep consistent with 'metrics.r2_score'. To specify the default value manually and avoid the warning, please either call 'metrics.r2_score' directly or make a custom scorer with 'metrics.make_scorer' (the built-in scorer 'r2' uses multioutput='uniform_average').\n",
            "\n",
            "/usr/local/lib/python3.7/dist-packages/sklearn/base.py:434: FutureWarning:\n",
            "\n",
            "The default value of multioutput (not exposed in score method) will change from 'variance_weighted' to 'uniform_average' in 0.23 to keep consistent with 'metrics.r2_score'. To specify the default value manually and avoid the warning, please either call 'metrics.r2_score' directly or make a custom scorer with 'metrics.make_scorer' (the built-in scorer 'r2' uses multioutput='uniform_average').\n",
            "\n",
            "/usr/local/lib/python3.7/dist-packages/sklearn/base.py:434: FutureWarning:\n",
            "\n",
            "The default value of multioutput (not exposed in score method) will change from 'variance_weighted' to 'uniform_average' in 0.23 to keep consistent with 'metrics.r2_score'. To specify the default value manually and avoid the warning, please either call 'metrics.r2_score' directly or make a custom scorer with 'metrics.make_scorer' (the built-in scorer 'r2' uses multioutput='uniform_average').\n",
            "\n",
            "/usr/local/lib/python3.7/dist-packages/sklearn/base.py:434: FutureWarning:\n",
            "\n",
            "The default value of multioutput (not exposed in score method) will change from 'variance_weighted' to 'uniform_average' in 0.23 to keep consistent with 'metrics.r2_score'. To specify the default value manually and avoid the warning, please either call 'metrics.r2_score' directly or make a custom scorer with 'metrics.make_scorer' (the built-in scorer 'r2' uses multioutput='uniform_average').\n",
            "\n",
            "/usr/local/lib/python3.7/dist-packages/sklearn/base.py:434: FutureWarning:\n",
            "\n",
            "The default value of multioutput (not exposed in score method) will change from 'variance_weighted' to 'uniform_average' in 0.23 to keep consistent with 'metrics.r2_score'. To specify the default value manually and avoid the warning, please either call 'metrics.r2_score' directly or make a custom scorer with 'metrics.make_scorer' (the built-in scorer 'r2' uses multioutput='uniform_average').\n",
            "\n",
            "/usr/local/lib/python3.7/dist-packages/sklearn/base.py:434: FutureWarning:\n",
            "\n",
            "The default value of multioutput (not exposed in score method) will change from 'variance_weighted' to 'uniform_average' in 0.23 to keep consistent with 'metrics.r2_score'. To specify the default value manually and avoid the warning, please either call 'metrics.r2_score' directly or make a custom scorer with 'metrics.make_scorer' (the built-in scorer 'r2' uses multioutput='uniform_average').\n",
            "\n",
            "/usr/local/lib/python3.7/dist-packages/sklearn/base.py:434: FutureWarning:\n",
            "\n",
            "The default value of multioutput (not exposed in score method) will change from 'variance_weighted' to 'uniform_average' in 0.23 to keep consistent with 'metrics.r2_score'. To specify the default value manually and avoid the warning, please either call 'metrics.r2_score' directly or make a custom scorer with 'metrics.make_scorer' (the built-in scorer 'r2' uses multioutput='uniform_average').\n",
            "\n",
            "/usr/local/lib/python3.7/dist-packages/sklearn/base.py:434: FutureWarning:\n",
            "\n",
            "The default value of multioutput (not exposed in score method) will change from 'variance_weighted' to 'uniform_average' in 0.23 to keep consistent with 'metrics.r2_score'. To specify the default value manually and avoid the warning, please either call 'metrics.r2_score' directly or make a custom scorer with 'metrics.make_scorer' (the built-in scorer 'r2' uses multioutput='uniform_average').\n",
            "\n",
            "/usr/local/lib/python3.7/dist-packages/sklearn/base.py:434: FutureWarning:\n",
            "\n",
            "The default value of multioutput (not exposed in score method) will change from 'variance_weighted' to 'uniform_average' in 0.23 to keep consistent with 'metrics.r2_score'. To specify the default value manually and avoid the warning, please either call 'metrics.r2_score' directly or make a custom scorer with 'metrics.make_scorer' (the built-in scorer 'r2' uses multioutput='uniform_average').\n",
            "\n",
            "/usr/local/lib/python3.7/dist-packages/sklearn/base.py:434: FutureWarning:\n",
            "\n",
            "The default value of multioutput (not exposed in score method) will change from 'variance_weighted' to 'uniform_average' in 0.23 to keep consistent with 'metrics.r2_score'. To specify the default value manually and avoid the warning, please either call 'metrics.r2_score' directly or make a custom scorer with 'metrics.make_scorer' (the built-in scorer 'r2' uses multioutput='uniform_average').\n",
            "\n",
            "/usr/local/lib/python3.7/dist-packages/sklearn/base.py:434: FutureWarning:\n",
            "\n",
            "The default value of multioutput (not exposed in score method) will change from 'variance_weighted' to 'uniform_average' in 0.23 to keep consistent with 'metrics.r2_score'. To specify the default value manually and avoid the warning, please either call 'metrics.r2_score' directly or make a custom scorer with 'metrics.make_scorer' (the built-in scorer 'r2' uses multioutput='uniform_average').\n",
            "\n",
            "/usr/local/lib/python3.7/dist-packages/sklearn/base.py:434: FutureWarning:\n",
            "\n",
            "The default value of multioutput (not exposed in score method) will change from 'variance_weighted' to 'uniform_average' in 0.23 to keep consistent with 'metrics.r2_score'. To specify the default value manually and avoid the warning, please either call 'metrics.r2_score' directly or make a custom scorer with 'metrics.make_scorer' (the built-in scorer 'r2' uses multioutput='uniform_average').\n",
            "\n",
            "/usr/local/lib/python3.7/dist-packages/sklearn/base.py:434: FutureWarning:\n",
            "\n",
            "The default value of multioutput (not exposed in score method) will change from 'variance_weighted' to 'uniform_average' in 0.23 to keep consistent with 'metrics.r2_score'. To specify the default value manually and avoid the warning, please either call 'metrics.r2_score' directly or make a custom scorer with 'metrics.make_scorer' (the built-in scorer 'r2' uses multioutput='uniform_average').\n",
            "\n"
          ]
        },
        {
          "output_type": "stream",
          "name": "stdout",
          "text": [
            "Model Number: 261 with model AverageValueNaive in generation 3 of 10\n",
            "Model Number: 262 with model FBProphet in generation 3 of 10\n"
          ]
        },
        {
          "output_type": "stream",
          "name": "stderr",
          "text": [
            "INFO:fbprophet:Disabling yearly seasonality. Run prophet with yearly_seasonality=True to override this.\n",
            "INFO:fbprophet:Disabling daily seasonality. Run prophet with daily_seasonality=True to override this.\n",
            "INFO:fbprophet:Disabling yearly seasonality. Run prophet with yearly_seasonality=True to override this.\n",
            "INFO:fbprophet:Disabling daily seasonality. Run prophet with daily_seasonality=True to override this.\n"
          ]
        },
        {
          "output_type": "stream",
          "name": "stdout",
          "text": [
            "Model Number: 263 with model FBProphet in generation 3 of 10\n",
            "Model Number: 264 with model UnobservedComponents in generation 3 of 10\n",
            "Model Number: 265 with model UnobservedComponents in generation 3 of 10\n",
            "Model Number: 266 with model UnobservedComponents in generation 3 of 10\n",
            "Model Number: 267 with model GluonTS in generation 3 of 10\n",
            "Template Eval Error: ImportError('GluonTS installation not found or installed version is incompatible with AutoTS.') in model 267: GluonTS\n",
            "Model Number: 268 with model GluonTS in generation 3 of 10\n",
            "Template Eval Error: ImportError('GluonTS installation not found or installed version is incompatible with AutoTS.') in model 268: GluonTS\n",
            "Model Number: 269 with model GluonTS in generation 3 of 10\n",
            "Template Eval Error: ImportError('GluonTS installation not found or installed version is incompatible with AutoTS.') in model 269: GluonTS\n",
            "Model Number: 270 with model GluonTS in generation 3 of 10\n",
            "Template Eval Error: ImportError('GluonTS installation not found or installed version is incompatible with AutoTS.') in model 270: GluonTS\n",
            "Model Number: 271 with model VAR in generation 3 of 10\n",
            "Template Eval Error: ValueError('Only gave one variable to VAR') in model 271: VAR\n",
            "Model Number: 272 with model VAR in generation 3 of 10\n",
            "Template Eval Error: ValueError('Only gave one variable to VAR') in model 272: VAR\n",
            "Model Number: 273 with model VAR in generation 3 of 10\n",
            "Template Eval Error: ValueError('Only gave one variable to VAR') in model 273: VAR\n",
            "Model Number: 274 with model VAR in generation 3 of 10\n",
            "Template Eval Error: ValueError('Only gave one variable to VAR') in model 274: VAR\n",
            "Model Number: 275 with model VECM in generation 3 of 10\n",
            "Template Eval Error: ValueError('Only gave one variable to VECM') in model 275: VECM\n",
            "Model Number: 276 with model VECM in generation 3 of 10\n",
            "Template Eval Error: ValueError('Only gave one variable to VECM') in model 276: VECM\n",
            "Model Number: 277 with model VECM in generation 3 of 10\n",
            "Template Eval Error: ValueError('Only gave one variable to VECM') in model 277: VECM\n",
            "Model Number: 278 with model UnivariateRegression in generation 3 of 10\n",
            "Template Eval Error: TypeError(\"'>' not supported between instances of 'NoneType' and 'int'\") in model 278: UnivariateRegression\n",
            "Model Number: 279 with model UnivariateRegression in generation 3 of 10\n",
            "Template Eval Error: TypeError(\"'>' not supported between instances of 'NoneType' and 'int'\") in model 279: UnivariateRegression\n",
            "Model Number: 280 with model UnivariateRegression in generation 3 of 10\n",
            "Template Eval Error: TypeError(\"'>' not supported between instances of 'NoneType' and 'int'\") in model 280: UnivariateRegression\n",
            "Model Number: 281 with model UnivariateRegression in generation 3 of 10\n",
            "Template Eval Error: TypeError(\"'>' not supported between instances of 'NoneType' and 'int'\") in model 281: UnivariateRegression\n",
            "Model Number: 282 with model UnivariateMotif in generation 3 of 10\n",
            "Template Eval Error: AttributeError(\"module 'numpy.lib.stride_tricks' has no attribute 'sliding_window_view'\") in model 282: UnivariateMotif\n",
            "Model Number: 283 with model UnivariateMotif in generation 3 of 10\n",
            "Template Eval Error: AttributeError(\"module 'numpy.lib.stride_tricks' has no attribute 'sliding_window_view'\") in model 283: UnivariateMotif\n",
            "Model Number: 284 with model UnivariateMotif in generation 3 of 10\n",
            "Template Eval Error: AttributeError(\"module 'numpy.lib.stride_tricks' has no attribute 'sliding_window_view'\") in model 284: UnivariateMotif\n",
            "Model Number: 285 with model UnivariateMotif in generation 3 of 10\n",
            "Template Eval Error: AttributeError(\"module 'numpy.lib.stride_tricks' has no attribute 'sliding_window_view'\") in model 285: UnivariateMotif\n",
            "New Generation: 4 of 10\n",
            "Model Number: 286 with model ETS in generation 4 of 10\n",
            "Model Number: 287 with model ETS in generation 4 of 10\n",
            "Model Number: 288 with model ETS in generation 4 of 10\n",
            "Model Number: 289 with model LastValueNaive in generation 4 of 10\n",
            "Model Number: 290 with model LastValueNaive in generation 4 of 10\n",
            "Model Number: 291 with model SeasonalNaive in generation 4 of 10\n",
            "Model Number: 292 with model SeasonalNaive in generation 4 of 10\n",
            "Model Number: 293 with model SeasonalNaive in generation 4 of 10\n",
            "Model Number: 294 with model SeasonalNaive in generation 4 of 10\n",
            "Model Number: 295 with model RollingRegression in generation 4 of 10\n",
            "Model Number: 296 with model RollingRegression in generation 4 of 10\n",
            "Model Number: 297 with model RollingRegression in generation 4 of 10\n"
          ]
        },
        {
          "output_type": "stream",
          "name": "stderr",
          "text": [
            "/usr/local/lib/python3.7/dist-packages/sklearn/neural_network/_multilayer_perceptron.py:1342: DataConversionWarning:\n",
            "\n",
            "A column-vector y was passed when a 1d array was expected. Please change the shape of y to (n_samples, ), for example using ravel().\n",
            "\n",
            "/usr/local/lib/python3.7/dist-packages/sklearn/decomposition/_fastica.py:119: ConvergenceWarning:\n",
            "\n",
            "FastICA did not converge. Consider increasing tolerance or the maximum number of iterations.\n",
            "\n"
          ]
        },
        {
          "output_type": "stream",
          "name": "stdout",
          "text": [
            "Epoch 1/50\n",
            "8/8 [==============================] - 5s 6ms/step - loss: 0.3687\n",
            "Epoch 2/50\n",
            "8/8 [==============================] - 0s 6ms/step - loss: 0.3679\n",
            "Epoch 3/50\n",
            "8/8 [==============================] - 0s 7ms/step - loss: 0.3676\n",
            "Epoch 4/50\n",
            "8/8 [==============================] - 0s 7ms/step - loss: 0.3670\n",
            "Epoch 5/50\n",
            "8/8 [==============================] - 0s 6ms/step - loss: 0.3666\n",
            "Epoch 6/50\n",
            "8/8 [==============================] - 0s 6ms/step - loss: 0.3665\n",
            "Epoch 7/50\n",
            "8/8 [==============================] - 0s 6ms/step - loss: 0.3659\n",
            "Epoch 8/50\n",
            "8/8 [==============================] - 0s 6ms/step - loss: 0.3647\n",
            "Epoch 9/50\n",
            "8/8 [==============================] - 0s 7ms/step - loss: 0.3634\n",
            "Epoch 10/50\n",
            "8/8 [==============================] - 0s 8ms/step - loss: 0.3611\n",
            "Epoch 11/50\n",
            "8/8 [==============================] - 0s 6ms/step - loss: 0.3582\n",
            "Epoch 12/50\n",
            "8/8 [==============================] - 0s 6ms/step - loss: 0.3522\n",
            "Epoch 13/50\n",
            "8/8 [==============================] - 0s 6ms/step - loss: 0.3444\n",
            "Epoch 14/50\n",
            "8/8 [==============================] - 0s 6ms/step - loss: 0.3310\n",
            "Epoch 15/50\n",
            "8/8 [==============================] - 0s 6ms/step - loss: 0.3144\n",
            "Epoch 16/50\n",
            "8/8 [==============================] - 0s 9ms/step - loss: 0.2901\n",
            "Epoch 17/50\n",
            "8/8 [==============================] - 0s 7ms/step - loss: 0.2692\n",
            "Epoch 18/50\n",
            "8/8 [==============================] - 0s 6ms/step - loss: 0.2447\n",
            "Epoch 19/50\n",
            "8/8 [==============================] - 0s 6ms/step - loss: 0.2247\n",
            "Epoch 20/50\n",
            "8/8 [==============================] - 0s 6ms/step - loss: 0.1984\n",
            "Epoch 21/50\n",
            "8/8 [==============================] - 0s 8ms/step - loss: 0.1631\n",
            "Epoch 22/50\n",
            "8/8 [==============================] - 0s 6ms/step - loss: 0.1424\n",
            "Epoch 23/50\n",
            "8/8 [==============================] - 0s 6ms/step - loss: 0.1145\n",
            "Epoch 24/50\n",
            "8/8 [==============================] - 0s 8ms/step - loss: 0.1042\n",
            "Epoch 25/50\n",
            "8/8 [==============================] - 0s 6ms/step - loss: 0.0930\n",
            "Epoch 26/50\n",
            "8/8 [==============================] - 0s 6ms/step - loss: 0.0899\n",
            "Epoch 27/50\n",
            "8/8 [==============================] - 0s 8ms/step - loss: 0.0874\n",
            "Epoch 28/50\n",
            "8/8 [==============================] - 0s 6ms/step - loss: 0.0842\n",
            "Epoch 29/50\n",
            "8/8 [==============================] - 0s 6ms/step - loss: 0.0916\n",
            "Epoch 30/50\n",
            "8/8 [==============================] - 0s 7ms/step - loss: 0.0835\n",
            "Epoch 31/50\n",
            "8/8 [==============================] - 0s 6ms/step - loss: 0.0870\n",
            "Epoch 32/50\n",
            "8/8 [==============================] - 0s 6ms/step - loss: 0.0847\n",
            "Epoch 33/50\n",
            "8/8 [==============================] - 0s 7ms/step - loss: 0.0857\n",
            "Epoch 34/50\n",
            "8/8 [==============================] - 0s 6ms/step - loss: 0.0853\n",
            "Epoch 35/50\n",
            "8/8 [==============================] - 0s 7ms/step - loss: 0.0891\n",
            "Epoch 36/50\n",
            "8/8 [==============================] - 0s 6ms/step - loss: 0.0927\n",
            "Epoch 37/50\n",
            "8/8 [==============================] - 0s 6ms/step - loss: 0.0877\n",
            "Epoch 38/50\n",
            "8/8 [==============================] - 0s 6ms/step - loss: 0.0842\n",
            "Epoch 39/50\n",
            "8/8 [==============================] - 0s 6ms/step - loss: 0.0875\n",
            "Epoch 40/50\n",
            "8/8 [==============================] - 0s 10ms/step - loss: 0.0868\n",
            "Epoch 41/50\n",
            "8/8 [==============================] - 0s 6ms/step - loss: 0.0850\n",
            "Epoch 42/50\n",
            "8/8 [==============================] - 0s 6ms/step - loss: 0.0836\n",
            "Epoch 43/50\n",
            "8/8 [==============================] - 0s 9ms/step - loss: 0.0833\n",
            "Epoch 44/50\n",
            "8/8 [==============================] - 0s 7ms/step - loss: 0.0890\n",
            "Epoch 45/50\n",
            "8/8 [==============================] - 0s 6ms/step - loss: 0.0831\n",
            "Epoch 46/50\n",
            "8/8 [==============================] - 0s 6ms/step - loss: 0.0846\n",
            "Epoch 47/50\n",
            "8/8 [==============================] - 0s 7ms/step - loss: 0.0894\n",
            "Epoch 48/50\n",
            "8/8 [==============================] - 0s 8ms/step - loss: 0.0834\n",
            "Epoch 49/50\n",
            "8/8 [==============================] - 0s 7ms/step - loss: 0.0867\n",
            "Epoch 50/50\n",
            "8/8 [==============================] - 0s 6ms/step - loss: 0.0846\n",
            "Model Number: 298 with model RollingRegression in generation 4 of 10\n",
            "Model Number: 299 with model WindowRegression in generation 4 of 10\n",
            "Model Number: 300 with model WindowRegression in generation 4 of 10\n",
            "Template Eval Error: ValueError(\"WindowRegression regression_type='user' requires numpy >= 1.20\") in model 300: WindowRegression\n",
            "Model Number: 301 with model WindowRegression in generation 4 of 10\n",
            "Model Number: 302 with model DatepartRegression in generation 4 of 10\n"
          ]
        },
        {
          "output_type": "stream",
          "name": "stderr",
          "text": [
            "/usr/local/lib/python3.7/dist-packages/sklearn/neural_network/_multilayer_perceptron.py:1342: DataConversionWarning:\n",
            "\n",
            "A column-vector y was passed when a 1d array was expected. Please change the shape of y to (n_samples, ), for example using ravel().\n",
            "\n"
          ]
        },
        {
          "output_type": "stream",
          "name": "stdout",
          "text": [
            "Model Number: 303 with model DatepartRegression in generation 4 of 10\n"
          ]
        },
        {
          "output_type": "stream",
          "name": "stderr",
          "text": [
            "/usr/local/lib/python3.7/dist-packages/sklearn/neural_network/_multilayer_perceptron.py:470: ConvergenceWarning:\n",
            "\n",
            "lbfgs failed to converge (status=2):\n",
            "ABNORMAL_TERMINATION_IN_LNSRCH.\n",
            "\n",
            "Increase the number of iterations (max_iter) or scale the data as shown in:\n",
            "    https://scikit-learn.org/stable/modules/preprocessing.html\n",
            "\n"
          ]
        },
        {
          "output_type": "stream",
          "name": "stdout",
          "text": [
            "Model Number: 304 with model DatepartRegression in generation 4 of 10\n",
            "Model Number: 305 with model GLS in generation 4 of 10\n",
            "Model Number: 306 with model GLS in generation 4 of 10\n",
            "Model Number: 307 with model ZeroesNaive in generation 4 of 10\n",
            "Model Number: 308 with model ZeroesNaive in generation 4 of 10\n",
            "Model Number: 309 with model GLM in generation 4 of 10\n",
            "Template Eval Error: ValueError('The first guess on the deviance function returned a nan.  This could be a boundary  problem and should be reported.') in model 309: GLM\n",
            "Model Number: 310 with model GLM in generation 4 of 10\n",
            "Model Number: 311 with model GLM in generation 4 of 10\n"
          ]
        },
        {
          "output_type": "stream",
          "name": "stderr",
          "text": [
            "/usr/local/lib/python3.7/dist-packages/statsmodels/genmod/families/family.py:1440: RuntimeWarning:\n",
            "\n",
            "invalid value encountered in log\n",
            "\n"
          ]
        },
        {
          "output_type": "stream",
          "name": "stdout",
          "text": [
            "Model Number: 312 with model UnobservedComponents in generation 4 of 10\n",
            "Model Number: 313 with model UnobservedComponents in generation 4 of 10\n",
            "Model Number: 314 with model UnobservedComponents in generation 4 of 10\n",
            "Model Number: 315 with model AverageValueNaive in generation 4 of 10\n",
            "Model Number: 316 with model AverageValueNaive in generation 4 of 10\n",
            "Model Number: 317 with model AverageValueNaive in generation 4 of 10\n",
            "Model Number: 318 with model FBProphet in generation 4 of 10\n"
          ]
        },
        {
          "output_type": "stream",
          "name": "stderr",
          "text": [
            "INFO:fbprophet:Disabling yearly seasonality. Run prophet with yearly_seasonality=True to override this.\n",
            "INFO:fbprophet:Disabling daily seasonality. Run prophet with daily_seasonality=True to override this.\n",
            "INFO:fbprophet:Disabling yearly seasonality. Run prophet with yearly_seasonality=True to override this.\n",
            "INFO:fbprophet:Disabling daily seasonality. Run prophet with daily_seasonality=True to override this.\n"
          ]
        },
        {
          "output_type": "stream",
          "name": "stdout",
          "text": [
            "Model Number: 319 with model FBProphet in generation 4 of 10\n"
          ]
        },
        {
          "output_type": "stream",
          "name": "stderr",
          "text": [
            "INFO:fbprophet:Disabling yearly seasonality. Run prophet with yearly_seasonality=True to override this.\n",
            "INFO:fbprophet:Disabling daily seasonality. Run prophet with daily_seasonality=True to override this.\n"
          ]
        },
        {
          "output_type": "stream",
          "name": "stdout",
          "text": [
            "Model Number: 320 with model FBProphet in generation 4 of 10\n"
          ]
        },
        {
          "output_type": "stream",
          "name": "stderr",
          "text": [
            "INFO:fbprophet:Disabling yearly seasonality. Run prophet with yearly_seasonality=True to override this.\n",
            "INFO:fbprophet:Disabling daily seasonality. Run prophet with daily_seasonality=True to override this.\n"
          ]
        },
        {
          "output_type": "stream",
          "name": "stdout",
          "text": [
            "Model Number: 321 with model FBProphet in generation 4 of 10\n",
            "Model Number: 322 with model GluonTS in generation 4 of 10\n",
            "Template Eval Error: ImportError('GluonTS installation not found or installed version is incompatible with AutoTS.') in model 322: GluonTS\n",
            "Model Number: 323 with model GluonTS in generation 4 of 10\n",
            "Template Eval Error: ImportError('GluonTS installation not found or installed version is incompatible with AutoTS.') in model 323: GluonTS\n",
            "Model Number: 324 with model GluonTS in generation 4 of 10\n",
            "Template Eval Error: ImportError('GluonTS installation not found or installed version is incompatible with AutoTS.') in model 324: GluonTS\n",
            "Model Number: 325 with model GluonTS in generation 4 of 10\n",
            "Template Eval Error: ImportError('GluonTS installation not found or installed version is incompatible with AutoTS.') in model 325: GluonTS\n",
            "Model Number: 326 with model VAR in generation 4 of 10\n",
            "Template Eval Error: ValueError('Only gave one variable to VAR') in model 326: VAR\n",
            "Model Number: 327 with model VAR in generation 4 of 10\n",
            "Template Eval Error: ValueError('Only gave one variable to VAR') in model 327: VAR\n",
            "Model Number: 328 with model VAR in generation 4 of 10\n",
            "Template Eval Error: ValueError('Only gave one variable to VAR') in model 328: VAR\n",
            "Model Number: 329 with model VAR in generation 4 of 10\n",
            "Template Eval Error: ValueError('Only gave one variable to VAR') in model 329: VAR\n",
            "Model Number: 330 with model VECM in generation 4 of 10\n",
            "Template Eval Error: ValueError('Only gave one variable to VECM') in model 330: VECM\n",
            "Model Number: 331 with model VECM in generation 4 of 10\n",
            "Template Eval Error: ValueError('Only gave one variable to VECM') in model 331: VECM\n",
            "Model Number: 332 with model VECM in generation 4 of 10\n",
            "Template Eval Error: ValueError('Only gave one variable to VECM') in model 332: VECM\n",
            "Model Number: 333 with model VECM in generation 4 of 10\n",
            "Template Eval Error: ValueError('Only gave one variable to VECM') in model 333: VECM\n",
            "Model Number: 334 with model UnivariateRegression in generation 4 of 10\n",
            "Template Eval Error: TypeError(\"'>' not supported between instances of 'NoneType' and 'int'\") in model 334: UnivariateRegression\n",
            "Model Number: 335 with model UnivariateRegression in generation 4 of 10\n",
            "Template Eval Error: TypeError(\"'>' not supported between instances of 'NoneType' and 'int'\") in model 335: UnivariateRegression\n",
            "Model Number: 336 with model UnivariateRegression in generation 4 of 10\n",
            "Template Eval Error: TypeError(\"'>' not supported between instances of 'NoneType' and 'int'\") in model 336: UnivariateRegression\n",
            "Model Number: 337 with model UnivariateRegression in generation 4 of 10\n",
            "Template Eval Error: TypeError(\"'>' not supported between instances of 'NoneType' and 'int'\") in model 337: UnivariateRegression\n",
            "Model Number: 338 with model UnivariateMotif in generation 4 of 10\n",
            "Template Eval Error: AttributeError(\"module 'numpy.lib.stride_tricks' has no attribute 'sliding_window_view'\") in model 338: UnivariateMotif\n",
            "Model Number: 339 with model UnivariateMotif in generation 4 of 10\n",
            "Template Eval Error: AttributeError(\"module 'numpy.lib.stride_tricks' has no attribute 'sliding_window_view'\") in model 339: UnivariateMotif\n",
            "Model Number: 340 with model UnivariateMotif in generation 4 of 10\n",
            "Template Eval Error: AttributeError(\"module 'numpy.lib.stride_tricks' has no attribute 'sliding_window_view'\") in model 340: UnivariateMotif\n",
            "Model Number: 341 with model UnivariateMotif in generation 4 of 10\n",
            "Template Eval Error: AttributeError(\"module 'numpy.lib.stride_tricks' has no attribute 'sliding_window_view'\") in model 341: UnivariateMotif\n",
            "New Generation: 5 of 10\n",
            "Model Number: 342 with model ETS in generation 5 of 10\n",
            "Model Number: 343 with model ETS in generation 5 of 10\n",
            "Model Number: 344 with model ETS in generation 5 of 10\n",
            "Model Number: 345 with model ETS in generation 5 of 10\n",
            "Model Number: 346 with model LastValueNaive in generation 5 of 10\n",
            "Model Number: 347 with model LastValueNaive in generation 5 of 10\n",
            "Model Number: 348 with model LastValueNaive in generation 5 of 10\n",
            "Model Number: 349 with model SeasonalNaive in generation 5 of 10\n",
            "Model Number: 350 with model SeasonalNaive in generation 5 of 10\n",
            "Model Number: 351 with model SeasonalNaive in generation 5 of 10\n",
            "Model Number: 352 with model SeasonalNaive in generation 5 of 10\n",
            "Model Number: 353 with model FBProphet in generation 5 of 10\n"
          ]
        },
        {
          "output_type": "stream",
          "name": "stderr",
          "text": [
            "INFO:fbprophet:Disabling yearly seasonality. Run prophet with yearly_seasonality=True to override this.\n",
            "INFO:fbprophet:Disabling daily seasonality. Run prophet with daily_seasonality=True to override this.\n",
            "INFO:fbprophet:Disabling yearly seasonality. Run prophet with yearly_seasonality=True to override this.\n",
            "INFO:fbprophet:Disabling daily seasonality. Run prophet with daily_seasonality=True to override this.\n"
          ]
        },
        {
          "output_type": "stream",
          "name": "stdout",
          "text": [
            "Model Number: 354 with model FBProphet in generation 5 of 10\n"
          ]
        },
        {
          "output_type": "stream",
          "name": "stderr",
          "text": [
            "INFO:fbprophet:Disabling yearly seasonality. Run prophet with yearly_seasonality=True to override this.\n",
            "INFO:fbprophet:Disabling daily seasonality. Run prophet with daily_seasonality=True to override this.\n"
          ]
        },
        {
          "output_type": "stream",
          "name": "stdout",
          "text": [
            "Model Number: 355 with model FBProphet in generation 5 of 10\n"
          ]
        },
        {
          "output_type": "stream",
          "name": "stderr",
          "text": [
            "INFO:fbprophet:Disabling yearly seasonality. Run prophet with yearly_seasonality=True to override this.\n",
            "INFO:fbprophet:Disabling daily seasonality. Run prophet with daily_seasonality=True to override this.\n"
          ]
        },
        {
          "output_type": "stream",
          "name": "stdout",
          "text": [
            "Model Number: 356 with model FBProphet in generation 5 of 10\n",
            "Model Number: 357 with model RollingRegression in generation 5 of 10\n"
          ]
        },
        {
          "output_type": "stream",
          "name": "stderr",
          "text": [
            "/usr/local/lib/python3.7/dist-packages/sklearn/neural_network/_multilayer_perceptron.py:1342: DataConversionWarning:\n",
            "\n",
            "A column-vector y was passed when a 1d array was expected. Please change the shape of y to (n_samples, ), for example using ravel().\n",
            "\n"
          ]
        },
        {
          "output_type": "stream",
          "name": "stdout",
          "text": [
            "Model Number: 358 with model RollingRegression in generation 5 of 10\n",
            "Model Number: 359 with model RollingRegression in generation 5 of 10\n"
          ]
        },
        {
          "output_type": "stream",
          "name": "stderr",
          "text": [
            "/usr/local/lib/python3.7/dist-packages/autots/models/sklearn.py:669: DataConversionWarning:\n",
            "\n",
            "A column-vector y was passed when a 1d array was expected. Please change the shape of y to (n_samples,), for example using ravel().\n",
            "\n"
          ]
        },
        {
          "output_type": "stream",
          "name": "stdout",
          "text": [
            "Model Number: 360 with model RollingRegression in generation 5 of 10\n"
          ]
        },
        {
          "output_type": "stream",
          "name": "stderr",
          "text": [
            "/usr/local/lib/python3.7/dist-packages/autots/models/sklearn.py:669: DataConversionWarning:\n",
            "\n",
            "A column-vector y was passed when a 1d array was expected. Please change the shape of y to (n_samples,), for example using ravel().\n",
            "\n"
          ]
        },
        {
          "output_type": "stream",
          "name": "stdout",
          "text": [
            "Model Number: 361 with model WindowRegression in generation 5 of 10\n",
            "Model Number: 362 with model WindowRegression in generation 5 of 10\n",
            "Model Number: 363 with model WindowRegression in generation 5 of 10\n"
          ]
        },
        {
          "output_type": "stream",
          "name": "stderr",
          "text": [
            "/usr/local/lib/python3.7/dist-packages/sklearn/neural_network/_multilayer_perceptron.py:1342: DataConversionWarning:\n",
            "\n",
            "A column-vector y was passed when a 1d array was expected. Please change the shape of y to (n_samples, ), for example using ravel().\n",
            "\n"
          ]
        },
        {
          "output_type": "stream",
          "name": "stdout",
          "text": [
            "Model Number: 364 with model DatepartRegression in generation 5 of 10\n",
            "Model Number: 365 with model DatepartRegression in generation 5 of 10\n",
            "Model Number: 366 with model DatepartRegression in generation 5 of 10\n",
            "Model Number: 367 with model GLS in generation 5 of 10\n",
            "Model Number: 368 with model GLS in generation 5 of 10\n",
            "Model Number: 369 with model GLS in generation 5 of 10\n",
            "Model Number: 370 with model ZeroesNaive in generation 5 of 10\n",
            "Model Number: 371 with model ZeroesNaive in generation 5 of 10\n",
            "Model Number: 372 with model GLM in generation 5 of 10\n",
            "Template Eval Error: ValueError('NaN, inf or invalid value detected in weights, estimation infeasible.') in model 372: GLM\n",
            "Model Number: 373 with model GLM in generation 5 of 10\n",
            "Template Eval Error: ValueError('NaN, inf or invalid value detected in weights, estimation infeasible.') in model 373: GLM\n",
            "Model Number: 374 with model GLM in generation 5 of 10\n",
            "Template Eval Error: ValueError('NaN, inf or invalid value detected in weights, estimation infeasible.') in model 374: GLM\n",
            "Model Number: 375 with model GLM in generation 5 of 10\n"
          ]
        },
        {
          "output_type": "stream",
          "name": "stderr",
          "text": [
            "/usr/local/lib/python3.7/dist-packages/statsmodels/genmod/families/links.py:521: RuntimeWarning:\n",
            "\n",
            "overflow encountered in exp\n",
            "\n",
            "/usr/local/lib/python3.7/dist-packages/statsmodels/genmod/families/family.py:134: RuntimeWarning:\n",
            "\n",
            "invalid value encountered in multiply\n",
            "\n",
            "/usr/local/lib/python3.7/dist-packages/statsmodels/genmod/generalized_linear_model.py:1163: RuntimeWarning:\n",
            "\n",
            "invalid value encountered in multiply\n",
            "\n",
            "/usr/local/lib/python3.7/dist-packages/statsmodels/genmod/families/links.py:521: RuntimeWarning:\n",
            "\n",
            "overflow encountered in exp\n",
            "\n",
            "/usr/local/lib/python3.7/dist-packages/statsmodels/genmod/families/family.py:134: RuntimeWarning:\n",
            "\n",
            "invalid value encountered in multiply\n",
            "\n",
            "/usr/local/lib/python3.7/dist-packages/statsmodels/genmod/generalized_linear_model.py:1163: RuntimeWarning:\n",
            "\n",
            "invalid value encountered in multiply\n",
            "\n",
            "/usr/local/lib/python3.7/dist-packages/statsmodels/genmod/families/links.py:521: RuntimeWarning:\n",
            "\n",
            "overflow encountered in exp\n",
            "\n",
            "/usr/local/lib/python3.7/dist-packages/statsmodels/genmod/families/family.py:134: RuntimeWarning:\n",
            "\n",
            "invalid value encountered in multiply\n",
            "\n",
            "/usr/local/lib/python3.7/dist-packages/statsmodels/genmod/generalized_linear_model.py:1163: RuntimeWarning:\n",
            "\n",
            "invalid value encountered in multiply\n",
            "\n",
            "/usr/local/lib/python3.7/dist-packages/statsmodels/genmod/families/links.py:521: RuntimeWarning:\n",
            "\n",
            "overflow encountered in exp\n",
            "\n",
            "/usr/local/lib/python3.7/dist-packages/statsmodels/genmod/families/family.py:134: RuntimeWarning:\n",
            "\n",
            "invalid value encountered in multiply\n",
            "\n",
            "/usr/local/lib/python3.7/dist-packages/statsmodels/genmod/generalized_linear_model.py:1163: RuntimeWarning:\n",
            "\n",
            "invalid value encountered in multiply\n",
            "\n"
          ]
        },
        {
          "output_type": "stream",
          "name": "stdout",
          "text": [
            "Template Eval Error: ValueError('NaN, inf or invalid value detected in weights, estimation infeasible.') in model 375: GLM\n",
            "Model Number: 376 with model UnobservedComponents in generation 5 of 10\n",
            "Model Number: 377 with model UnobservedComponents in generation 5 of 10\n",
            "Model Number: 378 with model UnobservedComponents in generation 5 of 10\n",
            "Model Number: 379 with model AverageValueNaive in generation 5 of 10\n",
            "Model Number: 380 with model AverageValueNaive in generation 5 of 10\n",
            "Model Number: 381 with model AverageValueNaive in generation 5 of 10\n",
            "Model Number: 382 with model GluonTS in generation 5 of 10\n",
            "Template Eval Error: ImportError('GluonTS installation not found or installed version is incompatible with AutoTS.') in model 382: GluonTS\n",
            "Model Number: 383 with model GluonTS in generation 5 of 10\n",
            "Template Eval Error: ImportError('GluonTS installation not found or installed version is incompatible with AutoTS.') in model 383: GluonTS\n",
            "Model Number: 384 with model GluonTS in generation 5 of 10\n",
            "Template Eval Error: ImportError('GluonTS installation not found or installed version is incompatible with AutoTS.') in model 384: GluonTS\n",
            "Model Number: 385 with model GluonTS in generation 5 of 10\n",
            "Template Eval Error: ImportError('GluonTS installation not found or installed version is incompatible with AutoTS.') in model 385: GluonTS\n",
            "Model Number: 386 with model VAR in generation 5 of 10\n",
            "Template Eval Error: ValueError('Only gave one variable to VAR') in model 386: VAR\n",
            "Model Number: 387 with model VAR in generation 5 of 10\n",
            "Template Eval Error: ValueError('Only gave one variable to VAR') in model 387: VAR\n",
            "Model Number: 388 with model VAR in generation 5 of 10\n",
            "Template Eval Error: ValueError('Only gave one variable to VAR') in model 388: VAR\n",
            "Model Number: 389 with model VAR in generation 5 of 10\n",
            "Template Eval Error: ValueError('Only gave one variable to VAR') in model 389: VAR\n",
            "Model Number: 390 with model VECM in generation 5 of 10\n",
            "Template Eval Error: ValueError('Only gave one variable to VECM') in model 390: VECM\n",
            "Model Number: 391 with model VECM in generation 5 of 10\n",
            "Template Eval Error: ValueError('Only gave one variable to VECM') in model 391: VECM\n",
            "Model Number: 392 with model VECM in generation 5 of 10\n",
            "Template Eval Error: ValueError('Only gave one variable to VECM') in model 392: VECM\n",
            "Model Number: 393 with model VECM in generation 5 of 10\n",
            "Template Eval Error: ValueError('Only gave one variable to VECM') in model 393: VECM\n",
            "Model Number: 394 with model UnivariateRegression in generation 5 of 10\n",
            "Template Eval Error: TypeError(\"'>' not supported between instances of 'NoneType' and 'int'\") in model 394: UnivariateRegression\n",
            "Model Number: 395 with model UnivariateRegression in generation 5 of 10\n",
            "Template Eval Error: TypeError(\"'>' not supported between instances of 'NoneType' and 'int'\") in model 395: UnivariateRegression\n",
            "Model Number: 396 with model UnivariateRegression in generation 5 of 10\n",
            "Template Eval Error: TypeError(\"'>' not supported between instances of 'NoneType' and 'int'\") in model 396: UnivariateRegression\n",
            "Model Number: 397 with model UnivariateRegression in generation 5 of 10\n",
            "Template Eval Error: TypeError(\"'>' not supported between instances of 'NoneType' and 'int'\") in model 397: UnivariateRegression\n",
            "Model Number: 398 with model UnivariateMotif in generation 5 of 10\n",
            "Template Eval Error: AttributeError(\"module 'numpy.lib.stride_tricks' has no attribute 'sliding_window_view'\") in model 398: UnivariateMotif\n",
            "Model Number: 399 with model UnivariateMotif in generation 5 of 10\n",
            "Template Eval Error: AttributeError(\"module 'numpy.lib.stride_tricks' has no attribute 'sliding_window_view'\") in model 399: UnivariateMotif\n",
            "Model Number: 400 with model UnivariateMotif in generation 5 of 10\n",
            "Template Eval Error: AttributeError(\"module 'numpy.lib.stride_tricks' has no attribute 'sliding_window_view'\") in model 400: UnivariateMotif\n",
            "Model Number: 401 with model UnivariateMotif in generation 5 of 10\n",
            "Template Eval Error: AttributeError(\"module 'numpy.lib.stride_tricks' has no attribute 'sliding_window_view'\") in model 401: UnivariateMotif\n",
            "New Generation: 6 of 10\n",
            "Model Number: 402 with model RollingRegression in generation 6 of 10\n"
          ]
        },
        {
          "output_type": "stream",
          "name": "stderr",
          "text": [
            "/usr/local/lib/python3.7/dist-packages/sklearn/neural_network/_multilayer_perceptron.py:1342: DataConversionWarning:\n",
            "\n",
            "A column-vector y was passed when a 1d array was expected. Please change the shape of y to (n_samples, ), for example using ravel().\n",
            "\n"
          ]
        },
        {
          "output_type": "stream",
          "name": "stdout",
          "text": [
            "Model Number: 403 with model RollingRegression in generation 6 of 10\n"
          ]
        },
        {
          "output_type": "stream",
          "name": "stderr",
          "text": [
            "/usr/local/lib/python3.7/dist-packages/sklearn/neural_network/_multilayer_perceptron.py:1342: DataConversionWarning:\n",
            "\n",
            "A column-vector y was passed when a 1d array was expected. Please change the shape of y to (n_samples, ), for example using ravel().\n",
            "\n",
            "/usr/local/lib/python3.7/dist-packages/sklearn/neural_network/_multilayer_perceptron.py:470: ConvergenceWarning:\n",
            "\n",
            "lbfgs failed to converge (status=1):\n",
            "STOP: TOTAL NO. of ITERATIONS REACHED LIMIT.\n",
            "\n",
            "Increase the number of iterations (max_iter) or scale the data as shown in:\n",
            "    https://scikit-learn.org/stable/modules/preprocessing.html\n",
            "\n"
          ]
        },
        {
          "output_type": "stream",
          "name": "stdout",
          "text": [
            "Model Number: 404 with model RollingRegression in generation 6 of 10\n"
          ]
        },
        {
          "output_type": "stream",
          "name": "stderr",
          "text": [
            "/usr/local/lib/python3.7/dist-packages/autots/models/sklearn.py:669: DataConversionWarning:\n",
            "\n",
            "A column-vector y was passed when a 1d array was expected. Please change the shape of y to (n_samples,), for example using ravel().\n",
            "\n"
          ]
        },
        {
          "output_type": "stream",
          "name": "stdout",
          "text": [
            "Model Number: 405 with model RollingRegression in generation 6 of 10\n"
          ]
        },
        {
          "output_type": "stream",
          "name": "stderr",
          "text": [
            "/usr/local/lib/python3.7/dist-packages/sklearn/neural_network/_multilayer_perceptron.py:1342: DataConversionWarning:\n",
            "\n",
            "A column-vector y was passed when a 1d array was expected. Please change the shape of y to (n_samples, ), for example using ravel().\n",
            "\n",
            "/usr/local/lib/python3.7/dist-packages/sklearn/neural_network/_multilayer_perceptron.py:470: ConvergenceWarning:\n",
            "\n",
            "lbfgs failed to converge (status=1):\n",
            "STOP: TOTAL NO. of ITERATIONS REACHED LIMIT.\n",
            "\n",
            "Increase the number of iterations (max_iter) or scale the data as shown in:\n",
            "    https://scikit-learn.org/stable/modules/preprocessing.html\n",
            "\n"
          ]
        },
        {
          "output_type": "stream",
          "name": "stdout",
          "text": [
            "Model Number: 406 with model ETS in generation 6 of 10\n",
            "Model Number: 407 with model ETS in generation 6 of 10\n",
            "Model Number: 408 with model ETS in generation 6 of 10\n",
            "Model Number: 409 with model LastValueNaive in generation 6 of 10\n",
            "Model Number: 410 with model LastValueNaive in generation 6 of 10\n",
            "Model Number: 411 with model LastValueNaive in generation 6 of 10\n",
            "Model Number: 412 with model SeasonalNaive in generation 6 of 10\n",
            "Model Number: 413 with model SeasonalNaive in generation 6 of 10\n",
            "Model Number: 414 with model SeasonalNaive in generation 6 of 10\n",
            "Model Number: 415 with model SeasonalNaive in generation 6 of 10\n",
            "Model Number: 416 with model FBProphet in generation 6 of 10\n"
          ]
        },
        {
          "output_type": "stream",
          "name": "stderr",
          "text": [
            "INFO:fbprophet:Disabling yearly seasonality. Run prophet with yearly_seasonality=True to override this.\n",
            "INFO:fbprophet:Disabling daily seasonality. Run prophet with daily_seasonality=True to override this.\n",
            "INFO:fbprophet:Disabling yearly seasonality. Run prophet with yearly_seasonality=True to override this.\n",
            "INFO:fbprophet:Disabling daily seasonality. Run prophet with daily_seasonality=True to override this.\n"
          ]
        },
        {
          "output_type": "stream",
          "name": "stdout",
          "text": [
            "Model Number: 417 with model FBProphet in generation 6 of 10\n"
          ]
        },
        {
          "output_type": "stream",
          "name": "stderr",
          "text": [
            "INFO:fbprophet:Disabling yearly seasonality. Run prophet with yearly_seasonality=True to override this.\n",
            "INFO:fbprophet:Disabling daily seasonality. Run prophet with daily_seasonality=True to override this.\n"
          ]
        },
        {
          "output_type": "stream",
          "name": "stdout",
          "text": [
            "Model Number: 418 with model FBProphet in generation 6 of 10\n"
          ]
        },
        {
          "output_type": "stream",
          "name": "stderr",
          "text": [
            "INFO:fbprophet:Disabling yearly seasonality. Run prophet with yearly_seasonality=True to override this.\n",
            "INFO:fbprophet:Disabling daily seasonality. Run prophet with daily_seasonality=True to override this.\n"
          ]
        },
        {
          "output_type": "stream",
          "name": "stdout",
          "text": [
            "Model Number: 419 with model FBProphet in generation 6 of 10\n",
            "Model Number: 420 with model DatepartRegression in generation 6 of 10\n"
          ]
        },
        {
          "output_type": "stream",
          "name": "stderr",
          "text": [
            "/usr/local/lib/python3.7/dist-packages/autots/models/sklearn.py:1522: DataConversionWarning:\n",
            "\n",
            "A column-vector y was passed when a 1d array was expected. Please change the shape of y to (n_samples,), for example using ravel().\n",
            "\n",
            "[Parallel(n_jobs=1)]: Using backend SequentialBackend with 1 concurrent workers.\n",
            "[Parallel(n_jobs=1)]: Done 1000 out of 1000 | elapsed:    1.2s finished\n",
            "[Parallel(n_jobs=1)]: Using backend SequentialBackend with 1 concurrent workers.\n",
            "[Parallel(n_jobs=1)]: Done 1000 out of 1000 | elapsed:    0.1s finished\n",
            "/usr/local/lib/python3.7/dist-packages/sklearn/neural_network/_multilayer_perceptron.py:1342: DataConversionWarning:\n",
            "\n",
            "A column-vector y was passed when a 1d array was expected. Please change the shape of y to (n_samples, ), for example using ravel().\n",
            "\n"
          ]
        },
        {
          "output_type": "stream",
          "name": "stdout",
          "text": [
            "Model Number: 421 with model DatepartRegression in generation 6 of 10\n",
            "Model Number: 422 with model DatepartRegression in generation 6 of 10\n"
          ]
        },
        {
          "output_type": "stream",
          "name": "stderr",
          "text": [
            "/usr/local/lib/python3.7/dist-packages/sklearn/neural_network/_multilayer_perceptron.py:470: ConvergenceWarning:\n",
            "\n",
            "lbfgs failed to converge (status=1):\n",
            "STOP: TOTAL NO. of ITERATIONS REACHED LIMIT.\n",
            "\n",
            "Increase the number of iterations (max_iter) or scale the data as shown in:\n",
            "    https://scikit-learn.org/stable/modules/preprocessing.html\n",
            "\n"
          ]
        },
        {
          "output_type": "stream",
          "name": "stdout",
          "text": [
            "Model Number: 423 with model WindowRegression in generation 6 of 10\n",
            "Model Number: 424 with model WindowRegression in generation 6 of 10\n",
            "Model Number: 425 with model WindowRegression in generation 6 of 10\n",
            "Model Number: 426 with model GLS in generation 6 of 10\n",
            "Model Number: 427 with model GLS in generation 6 of 10\n",
            "Model Number: 428 with model GLS in generation 6 of 10\n",
            "Model Number: 429 with model ZeroesNaive in generation 6 of 10\n",
            "Model Number: 430 with model ZeroesNaive in generation 6 of 10\n",
            "Model Number: 431 with model GLM in generation 6 of 10\n",
            "Model Number: 432 with model GLM in generation 6 of 10\n",
            "Model Number: 433 with model GLM in generation 6 of 10\n",
            "Model Number: 434 with model GLM in generation 6 of 10\n",
            "Model Number: 435 with model UnobservedComponents in generation 6 of 10\n",
            "Model Number: 436 with model UnobservedComponents in generation 6 of 10\n",
            "Model Number: 437 with model UnobservedComponents in generation 6 of 10\n",
            "Model Number: 438 with model AverageValueNaive in generation 6 of 10\n",
            "Model Number: 439 with model AverageValueNaive in generation 6 of 10\n",
            "Model Number: 440 with model AverageValueNaive in generation 6 of 10\n",
            "Model Number: 441 with model GluonTS in generation 6 of 10\n",
            "Template Eval Error: ImportError('GluonTS installation not found or installed version is incompatible with AutoTS.') in model 441: GluonTS\n",
            "Model Number: 442 with model GluonTS in generation 6 of 10\n",
            "Template Eval Error: ImportError('GluonTS installation not found or installed version is incompatible with AutoTS.') in model 442: GluonTS\n",
            "Model Number: 443 with model GluonTS in generation 6 of 10\n",
            "Template Eval Error: ImportError('GluonTS installation not found or installed version is incompatible with AutoTS.') in model 443: GluonTS\n",
            "Model Number: 444 with model GluonTS in generation 6 of 10\n",
            "Template Eval Error: ImportError('GluonTS installation not found or installed version is incompatible with AutoTS.') in model 444: GluonTS\n",
            "Model Number: 445 with model VAR in generation 6 of 10\n",
            "Template Eval Error: ValueError('Only gave one variable to VAR') in model 445: VAR\n",
            "Model Number: 446 with model VAR in generation 6 of 10\n",
            "Template Eval Error: ValueError('Only gave one variable to VAR') in model 446: VAR\n",
            "Model Number: 447 with model VAR in generation 6 of 10\n",
            "Template Eval Error: ValueError('Only gave one variable to VAR') in model 447: VAR\n",
            "Model Number: 448 with model VAR in generation 6 of 10\n",
            "Template Eval Error: ValueError('Only gave one variable to VAR') in model 448: VAR\n",
            "Model Number: 449 with model VECM in generation 6 of 10\n",
            "Template Eval Error: ValueError('Only gave one variable to VECM') in model 449: VECM\n",
            "Model Number: 450 with model VECM in generation 6 of 10\n",
            "Template Eval Error: ValueError('Only gave one variable to VECM') in model 450: VECM\n",
            "Model Number: 451 with model VECM in generation 6 of 10\n",
            "Template Eval Error: ValueError('Only gave one variable to VECM') in model 451: VECM\n",
            "Model Number: 452 with model UnivariateRegression in generation 6 of 10\n"
          ]
        },
        {
          "output_type": "stream",
          "name": "stderr",
          "text": [
            "/usr/local/lib/python3.7/dist-packages/numpy/lib/function_base.py:2551: RuntimeWarning:\n",
            "\n",
            "Degrees of freedom <= 0 for slice\n",
            "\n"
          ]
        },
        {
          "output_type": "stream",
          "name": "stdout",
          "text": [
            "Template Eval Error: TypeError(\"'>' not supported between instances of 'NoneType' and 'int'\") in model 452: UnivariateRegression\n",
            "Model Number: 453 with model UnivariateRegression in generation 6 of 10\n",
            "Template Eval Error: TypeError(\"'>' not supported between instances of 'NoneType' and 'int'\") in model 453: UnivariateRegression\n",
            "Model Number: 454 with model UnivariateRegression in generation 6 of 10\n",
            "Template Eval Error: TypeError(\"'>' not supported between instances of 'NoneType' and 'int'\") in model 454: UnivariateRegression\n",
            "Model Number: 455 with model UnivariateRegression in generation 6 of 10\n",
            "Template Eval Error: TypeError(\"'>' not supported between instances of 'NoneType' and 'int'\") in model 455: UnivariateRegression\n",
            "Model Number: 456 with model UnivariateMotif in generation 6 of 10\n",
            "Template Eval Error: AttributeError(\"module 'numpy.lib.stride_tricks' has no attribute 'sliding_window_view'\") in model 456: UnivariateMotif\n",
            "Model Number: 457 with model UnivariateMotif in generation 6 of 10\n",
            "Template Eval Error: AttributeError(\"module 'numpy.lib.stride_tricks' has no attribute 'sliding_window_view'\") in model 457: UnivariateMotif\n",
            "Model Number: 458 with model UnivariateMotif in generation 6 of 10\n",
            "Template Eval Error: AttributeError(\"module 'numpy.lib.stride_tricks' has no attribute 'sliding_window_view'\") in model 458: UnivariateMotif\n",
            "Model Number: 459 with model UnivariateMotif in generation 6 of 10\n",
            "Template Eval Error: AttributeError(\"module 'numpy.lib.stride_tricks' has no attribute 'sliding_window_view'\") in model 459: UnivariateMotif\n",
            "New Generation: 7 of 10\n",
            "Model Number: 460 with model RollingRegression in generation 7 of 10\n"
          ]
        },
        {
          "output_type": "stream",
          "name": "stderr",
          "text": [
            "/usr/local/lib/python3.7/dist-packages/sklearn/neural_network/_multilayer_perceptron.py:1342: DataConversionWarning:\n",
            "\n",
            "A column-vector y was passed when a 1d array was expected. Please change the shape of y to (n_samples, ), for example using ravel().\n",
            "\n"
          ]
        },
        {
          "output_type": "stream",
          "name": "stdout",
          "text": [
            "Model Number: 461 with model RollingRegression in generation 7 of 10\n"
          ]
        },
        {
          "output_type": "stream",
          "name": "stderr",
          "text": [
            "/usr/local/lib/python3.7/dist-packages/numpy/lib/function_base.py:2551: RuntimeWarning:\n",
            "\n",
            "Degrees of freedom <= 0 for slice\n",
            "\n"
          ]
        },
        {
          "output_type": "stream",
          "name": "stdout",
          "text": [
            "Template Eval Error: ValueError(\"Input contains NaN, infinity or a value too large for dtype('float64').\") in model 461: RollingRegression\n",
            "Model Number: 462 with model RollingRegression in generation 7 of 10\n"
          ]
        },
        {
          "output_type": "stream",
          "name": "stderr",
          "text": [
            "/usr/local/lib/python3.7/dist-packages/sklearn/neural_network/_multilayer_perceptron.py:1342: DataConversionWarning:\n",
            "\n",
            "A column-vector y was passed when a 1d array was expected. Please change the shape of y to (n_samples, ), for example using ravel().\n",
            "\n",
            "/usr/local/lib/python3.7/dist-packages/sklearn/neural_network/_multilayer_perceptron.py:470: ConvergenceWarning:\n",
            "\n",
            "lbfgs failed to converge (status=1):\n",
            "STOP: TOTAL NO. of ITERATIONS REACHED LIMIT.\n",
            "\n",
            "Increase the number of iterations (max_iter) or scale the data as shown in:\n",
            "    https://scikit-learn.org/stable/modules/preprocessing.html\n",
            "\n"
          ]
        },
        {
          "output_type": "stream",
          "name": "stdout",
          "text": [
            "Model Number: 463 with model RollingRegression in generation 7 of 10\n"
          ]
        },
        {
          "output_type": "stream",
          "name": "stderr",
          "text": [
            "/usr/local/lib/python3.7/dist-packages/sklearn/neural_network/_multilayer_perceptron.py:1342: DataConversionWarning:\n",
            "\n",
            "A column-vector y was passed when a 1d array was expected. Please change the shape of y to (n_samples, ), for example using ravel().\n",
            "\n",
            "/usr/local/lib/python3.7/dist-packages/sklearn/neural_network/_multilayer_perceptron.py:470: ConvergenceWarning:\n",
            "\n",
            "lbfgs failed to converge (status=1):\n",
            "STOP: TOTAL NO. of ITERATIONS REACHED LIMIT.\n",
            "\n",
            "Increase the number of iterations (max_iter) or scale the data as shown in:\n",
            "    https://scikit-learn.org/stable/modules/preprocessing.html\n",
            "\n"
          ]
        },
        {
          "output_type": "stream",
          "name": "stdout",
          "text": [
            "Model Number: 464 with model SeasonalNaive in generation 7 of 10\n",
            "Model Number: 465 with model SeasonalNaive in generation 7 of 10\n",
            "Model Number: 466 with model SeasonalNaive in generation 7 of 10\n",
            "Model Number: 467 with model SeasonalNaive in generation 7 of 10\n",
            "Model Number: 468 with model ETS in generation 7 of 10\n",
            "Model Number: 469 with model ETS in generation 7 of 10\n",
            "Model Number: 470 with model ETS in generation 7 of 10\n",
            "Model Number: 471 with model ETS in generation 7 of 10\n",
            "Model Number: 472 with model LastValueNaive in generation 7 of 10\n",
            "Model Number: 473 with model LastValueNaive in generation 7 of 10\n",
            "Model Number: 474 with model DatepartRegression in generation 7 of 10\n",
            "Model Number: 475 with model DatepartRegression in generation 7 of 10\n",
            "Model Number: 476 with model DatepartRegression in generation 7 of 10\n"
          ]
        },
        {
          "output_type": "stream",
          "name": "stderr",
          "text": [
            "/usr/local/lib/python3.7/dist-packages/sklearn/neural_network/_multilayer_perceptron.py:1342: DataConversionWarning:\n",
            "\n",
            "A column-vector y was passed when a 1d array was expected. Please change the shape of y to (n_samples, ), for example using ravel().\n",
            "\n",
            "/usr/local/lib/python3.7/dist-packages/sklearn/neural_network/_multilayer_perceptron.py:1342: DataConversionWarning:\n",
            "\n",
            "A column-vector y was passed when a 1d array was expected. Please change the shape of y to (n_samples, ), for example using ravel().\n",
            "\n",
            "INFO:fbprophet:Disabling yearly seasonality. Run prophet with yearly_seasonality=True to override this.\n",
            "INFO:fbprophet:Disabling daily seasonality. Run prophet with daily_seasonality=True to override this.\n"
          ]
        },
        {
          "output_type": "stream",
          "name": "stdout",
          "text": [
            "Model Number: 477 with model FBProphet in generation 7 of 10\n"
          ]
        },
        {
          "output_type": "stream",
          "name": "stderr",
          "text": [
            "INFO:fbprophet:Disabling yearly seasonality. Run prophet with yearly_seasonality=True to override this.\n",
            "INFO:fbprophet:Disabling daily seasonality. Run prophet with daily_seasonality=True to override this.\n"
          ]
        },
        {
          "output_type": "stream",
          "name": "stdout",
          "text": [
            "Model Number: 478 with model FBProphet in generation 7 of 10\n"
          ]
        },
        {
          "output_type": "stream",
          "name": "stderr",
          "text": [
            "INFO:fbprophet:Disabling yearly seasonality. Run prophet with yearly_seasonality=True to override this.\n",
            "INFO:fbprophet:Disabling daily seasonality. Run prophet with daily_seasonality=True to override this.\n"
          ]
        },
        {
          "output_type": "stream",
          "name": "stdout",
          "text": [
            "Model Number: 479 with model FBProphet in generation 7 of 10\n"
          ]
        },
        {
          "output_type": "stream",
          "name": "stderr",
          "text": [
            "INFO:fbprophet:Disabling yearly seasonality. Run prophet with yearly_seasonality=True to override this.\n",
            "INFO:fbprophet:Disabling daily seasonality. Run prophet with daily_seasonality=True to override this.\n"
          ]
        },
        {
          "output_type": "stream",
          "name": "stdout",
          "text": [
            "Model Number: 480 with model FBProphet in generation 7 of 10\n",
            "Model Number: 481 with model WindowRegression in generation 7 of 10\n",
            "Model Number: 482 with model WindowRegression in generation 7 of 10\n",
            "[LibLinear][LibLinear][LibLinear]"
          ]
        },
        {
          "output_type": "stream",
          "name": "stderr",
          "text": [
            "/usr/local/lib/python3.7/dist-packages/sklearn/svm/_base.py:947: ConvergenceWarning:\n",
            "\n",
            "Liblinear failed to converge, increase the number of iterations.\n",
            "\n",
            "/usr/local/lib/python3.7/dist-packages/sklearn/svm/_base.py:947: ConvergenceWarning:\n",
            "\n",
            "Liblinear failed to converge, increase the number of iterations.\n",
            "\n",
            "/usr/local/lib/python3.7/dist-packages/sklearn/svm/_base.py:947: ConvergenceWarning:\n",
            "\n",
            "Liblinear failed to converge, increase the number of iterations.\n",
            "\n"
          ]
        },
        {
          "output_type": "stream",
          "name": "stdout",
          "text": [
            "[LibLinear][LibLinear][LibLinear]"
          ]
        },
        {
          "output_type": "stream",
          "name": "stderr",
          "text": [
            "/usr/local/lib/python3.7/dist-packages/sklearn/svm/_base.py:947: ConvergenceWarning:\n",
            "\n",
            "Liblinear failed to converge, increase the number of iterations.\n",
            "\n",
            "/usr/local/lib/python3.7/dist-packages/sklearn/svm/_base.py:947: ConvergenceWarning:\n",
            "\n",
            "Liblinear failed to converge, increase the number of iterations.\n",
            "\n",
            "/usr/local/lib/python3.7/dist-packages/sklearn/svm/_base.py:947: ConvergenceWarning:\n",
            "\n",
            "Liblinear failed to converge, increase the number of iterations.\n",
            "\n"
          ]
        },
        {
          "output_type": "stream",
          "name": "stdout",
          "text": [
            "[LibLinear][LibLinear][LibLinear]"
          ]
        },
        {
          "output_type": "stream",
          "name": "stderr",
          "text": [
            "/usr/local/lib/python3.7/dist-packages/sklearn/svm/_base.py:947: ConvergenceWarning:\n",
            "\n",
            "Liblinear failed to converge, increase the number of iterations.\n",
            "\n",
            "/usr/local/lib/python3.7/dist-packages/sklearn/svm/_base.py:947: ConvergenceWarning:\n",
            "\n",
            "Liblinear failed to converge, increase the number of iterations.\n",
            "\n",
            "/usr/local/lib/python3.7/dist-packages/sklearn/svm/_base.py:947: ConvergenceWarning:\n",
            "\n",
            "Liblinear failed to converge, increase the number of iterations.\n",
            "\n"
          ]
        },
        {
          "output_type": "stream",
          "name": "stdout",
          "text": [
            "[LibLinear][LibLinear][LibLinear][LibLinear]"
          ]
        },
        {
          "output_type": "stream",
          "name": "stderr",
          "text": [
            "/usr/local/lib/python3.7/dist-packages/sklearn/svm/_base.py:947: ConvergenceWarning:\n",
            "\n",
            "Liblinear failed to converge, increase the number of iterations.\n",
            "\n",
            "/usr/local/lib/python3.7/dist-packages/sklearn/svm/_base.py:947: ConvergenceWarning:\n",
            "\n",
            "Liblinear failed to converge, increase the number of iterations.\n",
            "\n",
            "/usr/local/lib/python3.7/dist-packages/sklearn/svm/_base.py:947: ConvergenceWarning:\n",
            "\n",
            "Liblinear failed to converge, increase the number of iterations.\n",
            "\n",
            "/usr/local/lib/python3.7/dist-packages/sklearn/svm/_base.py:947: ConvergenceWarning:\n",
            "\n",
            "Liblinear failed to converge, increase the number of iterations.\n",
            "\n"
          ]
        },
        {
          "output_type": "stream",
          "name": "stdout",
          "text": [
            "[LibLinear][LibLinear]Model Number: 483 with model WindowRegression in generation 7 of 10\n"
          ]
        },
        {
          "output_type": "stream",
          "name": "stderr",
          "text": [
            "/usr/local/lib/python3.7/dist-packages/sklearn/svm/_base.py:947: ConvergenceWarning:\n",
            "\n",
            "Liblinear failed to converge, increase the number of iterations.\n",
            "\n",
            "/usr/local/lib/python3.7/dist-packages/sklearn/svm/_base.py:947: ConvergenceWarning:\n",
            "\n",
            "Liblinear failed to converge, increase the number of iterations.\n",
            "\n",
            "/usr/local/lib/python3.7/dist-packages/autots/models/sklearn.py:1065: DataConversionWarning:\n",
            "\n",
            "A column-vector y was passed when a 1d array was expected. Please change the shape of y to (n_samples,), for example using ravel().\n",
            "\n",
            "[Parallel(n_jobs=1)]: Using backend SequentialBackend with 1 concurrent workers.\n",
            "[Parallel(n_jobs=1)]: Done 1000 out of 1000 | elapsed:    2.9s finished\n",
            "[Parallel(n_jobs=1)]: Using backend SequentialBackend with 1 concurrent workers.\n",
            "[Parallel(n_jobs=1)]: Done 1000 out of 1000 | elapsed:    0.1s finished\n",
            "[Parallel(n_jobs=1)]: Using backend SequentialBackend with 1 concurrent workers.\n",
            "[Parallel(n_jobs=1)]: Done 1000 out of 1000 | elapsed:    0.1s finished\n",
            "[Parallel(n_jobs=1)]: Using backend SequentialBackend with 1 concurrent workers.\n",
            "[Parallel(n_jobs=1)]: Done 1000 out of 1000 | elapsed:    0.1s finished\n",
            "[Parallel(n_jobs=1)]: Using backend SequentialBackend with 1 concurrent workers.\n"
          ]
        },
        {
          "output_type": "stream",
          "name": "stdout",
          "text": [
            "Model Number: 484 with model GLS in generation 7 of 10\n"
          ]
        },
        {
          "output_type": "stream",
          "name": "stderr",
          "text": [
            "[Parallel(n_jobs=1)]: Done 1000 out of 1000 | elapsed:    0.1s finished\n",
            "[Parallel(n_jobs=1)]: Using backend SequentialBackend with 1 concurrent workers.\n",
            "[Parallel(n_jobs=1)]: Done 1000 out of 1000 | elapsed:    0.1s finished\n"
          ]
        },
        {
          "output_type": "stream",
          "name": "stdout",
          "text": [
            "Model Number: 485 with model GLS in generation 7 of 10\n",
            "Model Number: 486 with model ZeroesNaive in generation 7 of 10\n",
            "Model Number: 487 with model ZeroesNaive in generation 7 of 10\n",
            "Model Number: 488 with model GLM in generation 7 of 10\n",
            "Model Number: 489 with model GLM in generation 7 of 10\n",
            "Model Number: 490 with model GLM in generation 7 of 10\n",
            "Template Eval Error: ValueError('NaN, inf or invalid value detected in weights, estimation infeasible.') in model 490: GLM\n",
            "Model Number: 491 with model UnobservedComponents in generation 7 of 10\n",
            "Model Number: 492 with model UnobservedComponents in generation 7 of 10\n"
          ]
        },
        {
          "output_type": "stream",
          "name": "stderr",
          "text": [
            "/usr/local/lib/python3.7/dist-packages/statsmodels/genmod/families/links.py:521: RuntimeWarning:\n",
            "\n",
            "overflow encountered in exp\n",
            "\n",
            "/usr/local/lib/python3.7/dist-packages/statsmodels/genmod/families/family.py:134: RuntimeWarning:\n",
            "\n",
            "invalid value encountered in multiply\n",
            "\n",
            "/usr/local/lib/python3.7/dist-packages/statsmodels/genmod/generalized_linear_model.py:1163: RuntimeWarning:\n",
            "\n",
            "invalid value encountered in multiply\n",
            "\n"
          ]
        },
        {
          "output_type": "stream",
          "name": "stdout",
          "text": [
            "Model Number: 493 with model UnobservedComponents in generation 7 of 10\n",
            "Model Number: 494 with model AverageValueNaive in generation 7 of 10\n",
            "Model Number: 495 with model AverageValueNaive in generation 7 of 10\n",
            "Model Number: 496 with model AverageValueNaive in generation 7 of 10\n",
            "Model Number: 497 with model GluonTS in generation 7 of 10\n",
            "Template Eval Error: ImportError('GluonTS installation not found or installed version is incompatible with AutoTS.') in model 497: GluonTS\n",
            "Model Number: 498 with model GluonTS in generation 7 of 10\n",
            "Template Eval Error: ImportError('GluonTS installation not found or installed version is incompatible with AutoTS.') in model 498: GluonTS\n",
            "Model Number: 499 with model GluonTS in generation 7 of 10\n",
            "Template Eval Error: ImportError('GluonTS installation not found or installed version is incompatible with AutoTS.') in model 499: GluonTS\n",
            "Model Number: 500 with model GluonTS in generation 7 of 10\n",
            "Template Eval Error: ImportError('GluonTS installation not found or installed version is incompatible with AutoTS.') in model 500: GluonTS\n",
            "Model Number: 501 with model VAR in generation 7 of 10\n",
            "Template Eval Error: ValueError('Only gave one variable to VAR') in model 501: VAR\n",
            "Model Number: 502 with model VAR in generation 7 of 10\n",
            "Template Eval Error: ValueError('Only gave one variable to VAR') in model 502: VAR\n",
            "Model Number: 503 with model VAR in generation 7 of 10\n",
            "Template Eval Error: ValueError('Only gave one variable to VAR') in model 503: VAR\n",
            "Model Number: 504 with model VAR in generation 7 of 10\n",
            "Template Eval Error: ValueError('Only gave one variable to VAR') in model 504: VAR\n",
            "Model Number: 505 with model VECM in generation 7 of 10\n",
            "Template Eval Error: ValueError('Only gave one variable to VECM') in model 505: VECM\n",
            "Model Number: 506 with model VECM in generation 7 of 10\n",
            "Template Eval Error: ValueError('Only gave one variable to VECM') in model 506: VECM\n",
            "Model Number: 507 with model VECM in generation 7 of 10\n",
            "Template Eval Error: ValueError('Only gave one variable to VECM') in model 507: VECM\n",
            "Model Number: 508 with model VECM in generation 7 of 10\n",
            "Template Eval Error: ValueError('Only gave one variable to VECM') in model 508: VECM\n",
            "Model Number: 509 with model UnivariateRegression in generation 7 of 10\n",
            "Template Eval Error: TypeError(\"'>' not supported between instances of 'NoneType' and 'int'\") in model 509: UnivariateRegression\n",
            "Model Number: 510 with model UnivariateRegression in generation 7 of 10\n",
            "Template Eval Error: TypeError(\"'>' not supported between instances of 'NoneType' and 'int'\") in model 510: UnivariateRegression\n",
            "Model Number: 511 with model UnivariateRegression in generation 7 of 10\n",
            "Template Eval Error: TypeError(\"'>' not supported between instances of 'NoneType' and 'int'\") in model 511: UnivariateRegression\n",
            "Model Number: 512 with model UnivariateRegression in generation 7 of 10\n",
            "Template Eval Error: TypeError(\"'>' not supported between instances of 'NoneType' and 'int'\") in model 512: UnivariateRegression\n",
            "Model Number: 513 with model UnivariateMotif in generation 7 of 10\n",
            "Template Eval Error: AttributeError(\"module 'numpy.lib.stride_tricks' has no attribute 'sliding_window_view'\") in model 513: UnivariateMotif\n",
            "Model Number: 514 with model UnivariateMotif in generation 7 of 10\n",
            "Template Eval Error: AttributeError(\"module 'numpy.lib.stride_tricks' has no attribute 'sliding_window_view'\") in model 514: UnivariateMotif\n",
            "Model Number: 515 with model UnivariateMotif in generation 7 of 10\n",
            "Template Eval Error: AttributeError(\"module 'numpy.lib.stride_tricks' has no attribute 'sliding_window_view'\") in model 515: UnivariateMotif\n",
            "Model Number: 516 with model UnivariateMotif in generation 7 of 10\n",
            "Template Eval Error: AttributeError(\"module 'numpy.lib.stride_tricks' has no attribute 'sliding_window_view'\") in model 516: UnivariateMotif\n",
            "New Generation: 8 of 10\n",
            "Model Number: 517 with model RollingRegression in generation 8 of 10\n"
          ]
        },
        {
          "output_type": "stream",
          "name": "stderr",
          "text": [
            "/usr/local/lib/python3.7/dist-packages/autots/models/sklearn.py:669: DataConversionWarning:\n",
            "\n",
            "A column-vector y was passed when a 1d array was expected. Please change the shape of y to (n_samples,), for example using ravel().\n",
            "\n"
          ]
        },
        {
          "output_type": "stream",
          "name": "stdout",
          "text": [
            "Model Number: 518 with model RollingRegression in generation 8 of 10\n"
          ]
        },
        {
          "output_type": "stream",
          "name": "stderr",
          "text": [
            "/usr/local/lib/python3.7/dist-packages/autots/models/sklearn.py:669: DataConversionWarning:\n",
            "\n",
            "A column-vector y was passed when a 1d array was expected. Please change the shape of y to (n_samples,), for example using ravel().\n",
            "\n",
            "[Parallel(n_jobs=1)]: Using backend SequentialBackend with 1 concurrent workers.\n",
            "[Parallel(n_jobs=1)]: Done 1000 out of 1000 | elapsed:    1.4s finished\n",
            "[Parallel(n_jobs=1)]: Using backend SequentialBackend with 1 concurrent workers.\n",
            "[Parallel(n_jobs=1)]: Done 1000 out of 1000 | elapsed:    0.1s finished\n",
            "[Parallel(n_jobs=1)]: Using backend SequentialBackend with 1 concurrent workers.\n",
            "[Parallel(n_jobs=1)]: Done 1000 out of 1000 | elapsed:    0.1s finished\n",
            "[Parallel(n_jobs=1)]: Using backend SequentialBackend with 1 concurrent workers.\n",
            "[Parallel(n_jobs=1)]: Done 1000 out of 1000 | elapsed:    0.1s finished\n",
            "[Parallel(n_jobs=1)]: Using backend SequentialBackend with 1 concurrent workers.\n",
            "[Parallel(n_jobs=1)]: Done 1000 out of 1000 | elapsed:    0.1s finished\n",
            "[Parallel(n_jobs=1)]: Using backend SequentialBackend with 1 concurrent workers.\n",
            "[Parallel(n_jobs=1)]: Done 1000 out of 1000 | elapsed:    0.1s finished\n"
          ]
        },
        {
          "output_type": "stream",
          "name": "stdout",
          "text": [
            "Model Number: 519 with model RollingRegression in generation 8 of 10\n",
            "Model Number: 520 with model RollingRegression in generation 8 of 10\n"
          ]
        },
        {
          "output_type": "stream",
          "name": "stderr",
          "text": [
            "/usr/local/lib/python3.7/dist-packages/autots/models/sklearn.py:669: DataConversionWarning:\n",
            "\n",
            "A column-vector y was passed when a 1d array was expected. Please change the shape of y to (n_samples,), for example using ravel().\n",
            "\n"
          ]
        },
        {
          "output_type": "stream",
          "name": "stdout",
          "text": [
            "Model Number: 521 with model SeasonalNaive in generation 8 of 10\n",
            "Model Number: 522 with model SeasonalNaive in generation 8 of 10\n",
            "Model Number: 523 with model SeasonalNaive in generation 8 of 10\n",
            "Model Number: 524 with model SeasonalNaive in generation 8 of 10\n",
            "Model Number: 525 with model ETS in generation 8 of 10\n",
            "Model Number: 526 with model ETS in generation 8 of 10\n",
            "Model Number: 527 with model ETS in generation 8 of 10\n",
            "Model Number: 528 with model ETS in generation 8 of 10\n",
            "Model Number: 529 with model LastValueNaive in generation 8 of 10\n",
            "Model Number: 530 with model LastValueNaive in generation 8 of 10\n",
            "Model Number: 531 with model DatepartRegression in generation 8 of 10\n",
            "Template Eval Error: TypeError(\"Cannot clone object ''DecisionTree'' (type <class 'str'>): it does not seem to be a scikit-learn estimator as it does not implement a 'get_params' methods.\") in model 531: DatepartRegression\n",
            "Model Number: 532 with model DatepartRegression in generation 8 of 10\n",
            "Model Number: 533 with model DatepartRegression in generation 8 of 10\n"
          ]
        },
        {
          "output_type": "stream",
          "name": "stderr",
          "text": [
            "INFO:fbprophet:Disabling yearly seasonality. Run prophet with yearly_seasonality=True to override this.\n",
            "INFO:fbprophet:Disabling daily seasonality. Run prophet with daily_seasonality=True to override this.\n"
          ]
        },
        {
          "output_type": "stream",
          "name": "stdout",
          "text": [
            "Model Number: 534 with model FBProphet in generation 8 of 10\n"
          ]
        },
        {
          "output_type": "stream",
          "name": "stderr",
          "text": [
            "INFO:fbprophet:Disabling yearly seasonality. Run prophet with yearly_seasonality=True to override this.\n",
            "INFO:fbprophet:Disabling daily seasonality. Run prophet with daily_seasonality=True to override this.\n"
          ]
        },
        {
          "output_type": "stream",
          "name": "stdout",
          "text": [
            "Model Number: 535 with model FBProphet in generation 8 of 10\n"
          ]
        },
        {
          "output_type": "stream",
          "name": "stderr",
          "text": [
            "INFO:fbprophet:Disabling yearly seasonality. Run prophet with yearly_seasonality=True to override this.\n",
            "INFO:fbprophet:Disabling daily seasonality. Run prophet with daily_seasonality=True to override this.\n"
          ]
        },
        {
          "output_type": "stream",
          "name": "stdout",
          "text": [
            "Model Number: 536 with model FBProphet in generation 8 of 10\n"
          ]
        },
        {
          "output_type": "stream",
          "name": "stderr",
          "text": [
            "INFO:fbprophet:Disabling yearly seasonality. Run prophet with yearly_seasonality=True to override this.\n",
            "INFO:fbprophet:Disabling daily seasonality. Run prophet with daily_seasonality=True to override this.\n"
          ]
        },
        {
          "output_type": "stream",
          "name": "stdout",
          "text": [
            "Model Number: 537 with model FBProphet in generation 8 of 10\n",
            "Model Number: 538 with model WindowRegression in generation 8 of 10\n",
            "Template Eval Error: ValueError(\"WindowRegression regression_type='user' requires numpy >= 1.20\") in model 538: WindowRegression\n",
            "Model Number: 539 with model WindowRegression in generation 8 of 10\n",
            "Model Number: 540 with model WindowRegression in generation 8 of 10\n",
            "Model Number: 541 with model AverageValueNaive in generation 8 of 10\n",
            "Model Number: 542 with model AverageValueNaive in generation 8 of 10\n",
            "Model Number: 543 with model AverageValueNaive in generation 8 of 10\n",
            "Model Number: 544 with model GLS in generation 8 of 10\n",
            "Model Number: 545 with model GLS in generation 8 of 10\n",
            "Model Number: 546 with model GLS in generation 8 of 10\n",
            "Model Number: 547 with model ZeroesNaive in generation 8 of 10\n",
            "Model Number: 548 with model ZeroesNaive in generation 8 of 10\n",
            "Model Number: 549 with model GLM in generation 8 of 10\n",
            "Model Number: 550 with model GLM in generation 8 of 10\n",
            "Model Number: 551 with model GLM in generation 8 of 10\n",
            "Model Number: 552 with model UnobservedComponents in generation 8 of 10\n",
            "Model Number: 553 with model UnobservedComponents in generation 8 of 10\n",
            "Model Number: 554 with model UnobservedComponents in generation 8 of 10\n",
            "Model Number: 555 with model GluonTS in generation 8 of 10\n",
            "Template Eval Error: ImportError('GluonTS installation not found or installed version is incompatible with AutoTS.') in model 555: GluonTS\n",
            "Model Number: 556 with model GluonTS in generation 8 of 10\n",
            "Template Eval Error: ImportError('GluonTS installation not found or installed version is incompatible with AutoTS.') in model 556: GluonTS\n",
            "Model Number: 557 with model GluonTS in generation 8 of 10\n",
            "Template Eval Error: ImportError('GluonTS installation not found or installed version is incompatible with AutoTS.') in model 557: GluonTS\n",
            "Model Number: 558 with model GluonTS in generation 8 of 10\n",
            "Template Eval Error: ImportError('GluonTS installation not found or installed version is incompatible with AutoTS.') in model 558: GluonTS\n",
            "Model Number: 559 with model VAR in generation 8 of 10\n",
            "Template Eval Error: ValueError('Only gave one variable to VAR') in model 559: VAR\n",
            "Model Number: 560 with model VAR in generation 8 of 10\n",
            "Template Eval Error: ValueError('Only gave one variable to VAR') in model 560: VAR\n",
            "Model Number: 561 with model VAR in generation 8 of 10\n",
            "Template Eval Error: ValueError('Only gave one variable to VAR') in model 561: VAR\n",
            "Model Number: 562 with model VAR in generation 8 of 10\n",
            "Template Eval Error: ValueError('Only gave one variable to VAR') in model 562: VAR\n",
            "Model Number: 563 with model VECM in generation 8 of 10\n",
            "Template Eval Error: ValueError('Only gave one variable to VECM') in model 563: VECM\n",
            "Model Number: 564 with model VECM in generation 8 of 10\n",
            "Template Eval Error: ValueError('Only gave one variable to VECM') in model 564: VECM\n",
            "Model Number: 565 with model VECM in generation 8 of 10\n",
            "Template Eval Error: ValueError('Only gave one variable to VECM') in model 565: VECM\n",
            "Model Number: 566 with model VECM in generation 8 of 10\n",
            "Template Eval Error: ValueError('Only gave one variable to VECM') in model 566: VECM\n",
            "Model Number: 567 with model UnivariateRegression in generation 8 of 10\n",
            "Template Eval Error: TypeError(\"'>' not supported between instances of 'NoneType' and 'int'\") in model 567: UnivariateRegression\n",
            "Model Number: 568 with model UnivariateRegression in generation 8 of 10\n",
            "Template Eval Error: TypeError(\"'>' not supported between instances of 'NoneType' and 'int'\") in model 568: UnivariateRegression\n",
            "Model Number: 569 with model UnivariateRegression in generation 8 of 10\n",
            "Template Eval Error: TypeError(\"'>' not supported between instances of 'NoneType' and 'int'\") in model 569: UnivariateRegression\n",
            "Model Number: 570 with model UnivariateRegression in generation 8 of 10\n",
            "Template Eval Error: TypeError(\"'>' not supported between instances of 'NoneType' and 'int'\") in model 570: UnivariateRegression\n",
            "Model Number: 571 with model UnivariateMotif in generation 8 of 10\n",
            "Template Eval Error: AttributeError(\"module 'numpy.lib.stride_tricks' has no attribute 'sliding_window_view'\") in model 571: UnivariateMotif\n",
            "Model Number: 572 with model UnivariateMotif in generation 8 of 10\n",
            "Template Eval Error: AttributeError(\"module 'numpy.lib.stride_tricks' has no attribute 'sliding_window_view'\") in model 572: UnivariateMotif\n",
            "Model Number: 573 with model UnivariateMotif in generation 8 of 10\n",
            "Template Eval Error: AttributeError(\"module 'numpy.lib.stride_tricks' has no attribute 'sliding_window_view'\") in model 573: UnivariateMotif\n",
            "Model Number: 574 with model UnivariateMotif in generation 8 of 10\n",
            "Template Eval Error: AttributeError(\"module 'numpy.lib.stride_tricks' has no attribute 'sliding_window_view'\") in model 574: UnivariateMotif\n",
            "New Generation: 9 of 10\n",
            "Model Number: 575 with model SeasonalNaive in generation 9 of 10\n",
            "Model Number: 576 with model SeasonalNaive in generation 9 of 10\n",
            "Model Number: 577 with model SeasonalNaive in generation 9 of 10\n",
            "Model Number: 578 with model SeasonalNaive in generation 9 of 10\n",
            "Model Number: 579 with model RollingRegression in generation 9 of 10\n",
            "Template Eval Error: ValueError(\"Input contains NaN, infinity or a value too large for dtype('float64').\") in model 579: RollingRegression\n",
            "Model Number: 580 with model RollingRegression in generation 9 of 10\n",
            "Model Number: 581 with model RollingRegression in generation 9 of 10\n"
          ]
        },
        {
          "output_type": "stream",
          "name": "stderr",
          "text": [
            "/usr/local/lib/python3.7/dist-packages/autots/models/sklearn.py:669: DataConversionWarning:\n",
            "\n",
            "A column-vector y was passed when a 1d array was expected. Please change the shape of y to (n_samples,), for example using ravel().\n",
            "\n"
          ]
        },
        {
          "output_type": "stream",
          "name": "stdout",
          "text": [
            "Model Number: 582 with model RollingRegression in generation 9 of 10\n",
            "Template Eval Error: ValueError(\"Input contains NaN, infinity or a value too large for dtype('float64').\") in model 582: RollingRegression\n",
            "Model Number: 583 with model ETS in generation 9 of 10\n",
            "Model Number: 584 with model ETS in generation 9 of 10\n",
            "Model Number: 585 with model ETS in generation 9 of 10\n",
            "Model Number: 586 with model ETS in generation 9 of 10\n",
            "Model Number: 587 with model LastValueNaive in generation 9 of 10\n",
            "Model Number: 588 with model LastValueNaive in generation 9 of 10\n",
            "Model Number: 589 with model DatepartRegression in generation 9 of 10\n",
            "Model Number: 590 with model DatepartRegression in generation 9 of 10\n",
            "Model Number: 591 with model DatepartRegression in generation 9 of 10\n",
            "Template Eval Error: ValueError(\"Input contains NaN, infinity or a value too large for dtype('float64').\") in model 591: DatepartRegression\n",
            "Model Number: 592 with model FBProphet in generation 9 of 10\n"
          ]
        },
        {
          "output_type": "stream",
          "name": "stderr",
          "text": [
            "/usr/local/lib/python3.7/dist-packages/sklearn/neural_network/_multilayer_perceptron.py:1342: DataConversionWarning:\n",
            "\n",
            "A column-vector y was passed when a 1d array was expected. Please change the shape of y to (n_samples, ), for example using ravel().\n",
            "\n",
            "/usr/local/lib/python3.7/dist-packages/sklearn/utils/extmath.py:151: RuntimeWarning:\n",
            "\n",
            "overflow encountered in matmul\n",
            "\n",
            "/usr/local/lib/python3.7/dist-packages/sklearn/utils/extmath.py:151: RuntimeWarning:\n",
            "\n",
            "invalid value encountered in matmul\n",
            "\n",
            "INFO:fbprophet:Disabling yearly seasonality. Run prophet with yearly_seasonality=True to override this.\n",
            "INFO:fbprophet:Disabling daily seasonality. Run prophet with daily_seasonality=True to override this.\n",
            "INFO:fbprophet:Disabling yearly seasonality. Run prophet with yearly_seasonality=True to override this.\n",
            "INFO:fbprophet:Disabling daily seasonality. Run prophet with daily_seasonality=True to override this.\n"
          ]
        },
        {
          "output_type": "stream",
          "name": "stdout",
          "text": [
            "Model Number: 593 with model FBProphet in generation 9 of 10\n"
          ]
        },
        {
          "output_type": "stream",
          "name": "stderr",
          "text": [
            "INFO:fbprophet:Disabling yearly seasonality. Run prophet with yearly_seasonality=True to override this.\n",
            "INFO:fbprophet:Disabling daily seasonality. Run prophet with daily_seasonality=True to override this.\n"
          ]
        },
        {
          "output_type": "stream",
          "name": "stdout",
          "text": [
            "Model Number: 594 with model FBProphet in generation 9 of 10\n",
            "Model Number: 595 with model WindowRegression in generation 9 of 10\n",
            "Template Eval Error: ValueError(\"WindowRegression regression_type='user' requires numpy >= 1.20\") in model 595: WindowRegression\n",
            "Model Number: 596 with model WindowRegression in generation 9 of 10\n",
            "Model Number: 597 with model WindowRegression in generation 9 of 10\n",
            "Template Eval Error: TypeError(\"Cannot clone object ''DecisionTree'' (type <class 'str'>): it does not seem to be a scikit-learn estimator as it does not implement a 'get_params' methods.\") in model 597: WindowRegression\n",
            "Model Number: 598 with model AverageValueNaive in generation 9 of 10\n",
            "Model Number: 599 with model AverageValueNaive in generation 9 of 10\n",
            "Model Number: 600 with model GLS in generation 9 of 10\n",
            "Model Number: 601 with model GLS in generation 9 of 10\n",
            "Model Number: 602 with model GLS in generation 9 of 10\n",
            "Model Number: 603 with model ZeroesNaive in generation 9 of 10\n",
            "Model Number: 604 with model ZeroesNaive in generation 9 of 10\n",
            "Model Number: 605 with model GLM in generation 9 of 10\n",
            "Model Number: 606 with model GLM in generation 9 of 10\n",
            "Model Number: 607 with model GLM in generation 9 of 10\n",
            "Template Eval Error: ValueError('The first guess on the deviance function returned a nan.  This could be a boundary  problem and should be reported.') in model 607: GLM\n",
            "Model Number: 608 with model GLM in generation 9 of 10\n",
            "Template Eval Error: ValueError('The first guess on the deviance function returned a nan.  This could be a boundary  problem and should be reported.') in model 608: GLM\n",
            "Model Number: 609 with model UnobservedComponents in generation 9 of 10\n",
            "Model Number: 610 with model UnobservedComponents in generation 9 of 10\n",
            "Model Number: 611 with model UnobservedComponents in generation 9 of 10\n"
          ]
        },
        {
          "output_type": "stream",
          "name": "stderr",
          "text": [
            "/usr/local/lib/python3.7/dist-packages/statsmodels/genmod/families/family.py:1227: RuntimeWarning:\n",
            "\n",
            "invalid value encountered in log\n",
            "\n",
            "/usr/local/lib/python3.7/dist-packages/statsmodels/genmod/families/family.py:1227: RuntimeWarning:\n",
            "\n",
            "invalid value encountered in log\n",
            "\n"
          ]
        },
        {
          "output_type": "stream",
          "name": "stdout",
          "text": [
            "Model Number: 612 with model GluonTS in generation 9 of 10\n",
            "Template Eval Error: ImportError('GluonTS installation not found or installed version is incompatible with AutoTS.') in model 612: GluonTS\n",
            "Model Number: 613 with model GluonTS in generation 9 of 10\n",
            "Template Eval Error: ImportError('GluonTS installation not found or installed version is incompatible with AutoTS.') in model 613: GluonTS\n",
            "Model Number: 614 with model GluonTS in generation 9 of 10\n",
            "Template Eval Error: ImportError('GluonTS installation not found or installed version is incompatible with AutoTS.') in model 614: GluonTS\n",
            "Model Number: 615 with model GluonTS in generation 9 of 10\n",
            "Template Eval Error: ImportError('GluonTS installation not found or installed version is incompatible with AutoTS.') in model 615: GluonTS\n",
            "Model Number: 616 with model VAR in generation 9 of 10\n",
            "Template Eval Error: ValueError('Only gave one variable to VAR') in model 616: VAR\n",
            "Model Number: 617 with model VAR in generation 9 of 10\n",
            "Template Eval Error: ValueError('Only gave one variable to VAR') in model 617: VAR\n",
            "Model Number: 618 with model VAR in generation 9 of 10\n",
            "Template Eval Error: ValueError('Only gave one variable to VAR') in model 618: VAR\n",
            "Model Number: 619 with model VAR in generation 9 of 10\n",
            "Template Eval Error: ValueError('Only gave one variable to VAR') in model 619: VAR\n",
            "Model Number: 620 with model VECM in generation 9 of 10\n",
            "Template Eval Error: ValueError('Only gave one variable to VECM') in model 620: VECM\n",
            "Model Number: 621 with model VECM in generation 9 of 10\n",
            "Template Eval Error: ValueError('Only gave one variable to VECM') in model 621: VECM\n",
            "Model Number: 622 with model VECM in generation 9 of 10\n",
            "Template Eval Error: ValueError('Only gave one variable to VECM') in model 622: VECM\n",
            "Model Number: 623 with model VECM in generation 9 of 10\n",
            "Template Eval Error: ValueError('Only gave one variable to VECM') in model 623: VECM\n",
            "Model Number: 624 with model UnivariateRegression in generation 9 of 10\n",
            "Template Eval Error: TypeError(\"'>' not supported between instances of 'NoneType' and 'int'\") in model 624: UnivariateRegression\n",
            "Model Number: 625 with model UnivariateRegression in generation 9 of 10\n",
            "Template Eval Error: TypeError(\"'>' not supported between instances of 'NoneType' and 'int'\") in model 625: UnivariateRegression\n",
            "Model Number: 626 with model UnivariateRegression in generation 9 of 10\n",
            "Template Eval Error: TypeError(\"'>' not supported between instances of 'NoneType' and 'int'\") in model 626: UnivariateRegression\n",
            "Model Number: 627 with model UnivariateRegression in generation 9 of 10\n",
            "Template Eval Error: TypeError(\"'>' not supported between instances of 'NoneType' and 'int'\") in model 627: UnivariateRegression\n",
            "Model Number: 628 with model UnivariateMotif in generation 9 of 10\n",
            "Template Eval Error: AttributeError(\"module 'numpy.lib.stride_tricks' has no attribute 'sliding_window_view'\") in model 628: UnivariateMotif\n",
            "Model Number: 629 with model UnivariateMotif in generation 9 of 10\n",
            "Template Eval Error: AttributeError(\"module 'numpy.lib.stride_tricks' has no attribute 'sliding_window_view'\") in model 629: UnivariateMotif\n",
            "Model Number: 630 with model UnivariateMotif in generation 9 of 10\n",
            "Template Eval Error: AttributeError(\"module 'numpy.lib.stride_tricks' has no attribute 'sliding_window_view'\") in model 630: UnivariateMotif\n",
            "Model Number: 631 with model UnivariateMotif in generation 9 of 10\n",
            "Template Eval Error: AttributeError(\"module 'numpy.lib.stride_tricks' has no attribute 'sliding_window_view'\") in model 631: UnivariateMotif\n",
            "New Generation: 10 of 10\n"
          ]
        },
        {
          "output_type": "stream",
          "name": "stderr",
          "text": [
            "INFO:fbprophet:Disabling yearly seasonality. Run prophet with yearly_seasonality=True to override this.\n",
            "INFO:fbprophet:Disabling daily seasonality. Run prophet with daily_seasonality=True to override this.\n"
          ]
        },
        {
          "output_type": "stream",
          "name": "stdout",
          "text": [
            "Model Number: 632 with model FBProphet in generation 10 of 10\n"
          ]
        },
        {
          "output_type": "stream",
          "name": "stderr",
          "text": [
            "INFO:fbprophet:Disabling yearly seasonality. Run prophet with yearly_seasonality=True to override this.\n",
            "INFO:fbprophet:Disabling daily seasonality. Run prophet with daily_seasonality=True to override this.\n"
          ]
        },
        {
          "output_type": "stream",
          "name": "stdout",
          "text": [
            "Model Number: 633 with model FBProphet in generation 10 of 10\n"
          ]
        },
        {
          "output_type": "stream",
          "name": "stderr",
          "text": [
            "INFO:fbprophet:Disabling yearly seasonality. Run prophet with yearly_seasonality=True to override this.\n",
            "INFO:fbprophet:Disabling daily seasonality. Run prophet with daily_seasonality=True to override this.\n"
          ]
        },
        {
          "output_type": "stream",
          "name": "stdout",
          "text": [
            "Model Number: 634 with model FBProphet in generation 10 of 10\n",
            "Template Eval Error: AttributeError(\"'list' object has no attribute 'shape'\") in model 634: FBProphet\n",
            "Model Number: 635 with model FBProphet in generation 10 of 10\n",
            "Model Number: 636 with model SeasonalNaive in generation 10 of 10\n",
            "Model Number: 637 with model SeasonalNaive in generation 10 of 10\n",
            "Model Number: 638 with model SeasonalNaive in generation 10 of 10\n",
            "Model Number: 639 with model SeasonalNaive in generation 10 of 10\n"
          ]
        },
        {
          "output_type": "stream",
          "name": "stderr",
          "text": [
            "/usr/local/lib/python3.7/dist-packages/autots/tools/transform.py:564: RuntimeWarning:\n",
            "\n",
            "overflow encountered in exp\n",
            "\n"
          ]
        },
        {
          "output_type": "stream",
          "name": "stdout",
          "text": [
            "Model Number: 640 with model RollingRegression in generation 10 of 10\n",
            "Model Number: 641 with model RollingRegression in generation 10 of 10\n",
            "Model Number: 642 with model RollingRegression in generation 10 of 10\n"
          ]
        },
        {
          "output_type": "stream",
          "name": "stderr",
          "text": [
            "/usr/local/lib/python3.7/dist-packages/autots/models/sklearn.py:669: DataConversionWarning:\n",
            "\n",
            "A column-vector y was passed when a 1d array was expected. Please change the shape of y to (n_samples,), for example using ravel().\n",
            "\n"
          ]
        },
        {
          "output_type": "stream",
          "name": "stdout",
          "text": [
            "Model Number: 643 with model RollingRegression in generation 10 of 10\n"
          ]
        },
        {
          "output_type": "stream",
          "name": "stderr",
          "text": [
            "/usr/local/lib/python3.7/dist-packages/autots/models/sklearn.py:669: DataConversionWarning:\n",
            "\n",
            "A column-vector y was passed when a 1d array was expected. Please change the shape of y to (n_samples,), for example using ravel().\n",
            "\n",
            "[Parallel(n_jobs=1)]: Using backend SequentialBackend with 1 concurrent workers.\n",
            "[Parallel(n_jobs=1)]: Done 1000 out of 1000 | elapsed:    1.4s finished\n",
            "[Parallel(n_jobs=1)]: Using backend SequentialBackend with 1 concurrent workers.\n",
            "[Parallel(n_jobs=1)]: Done 1000 out of 1000 | elapsed:    0.1s finished\n",
            "[Parallel(n_jobs=1)]: Using backend SequentialBackend with 1 concurrent workers.\n",
            "[Parallel(n_jobs=1)]: Done 1000 out of 1000 | elapsed:    0.2s finished\n",
            "[Parallel(n_jobs=1)]: Using backend SequentialBackend with 1 concurrent workers.\n",
            "[Parallel(n_jobs=1)]: Done 1000 out of 1000 | elapsed:    0.1s finished\n",
            "[Parallel(n_jobs=1)]: Using backend SequentialBackend with 1 concurrent workers.\n",
            "[Parallel(n_jobs=1)]: Done 1000 out of 1000 | elapsed:    0.1s finished\n",
            "[Parallel(n_jobs=1)]: Using backend SequentialBackend with 1 concurrent workers.\n"
          ]
        },
        {
          "output_type": "stream",
          "name": "stdout",
          "text": [
            "Model Number: 644 with model ETS in generation 10 of 10\n",
            "Model Number: 645 with model ETS in generation 10 of 10\n"
          ]
        },
        {
          "output_type": "stream",
          "name": "stderr",
          "text": [
            "[Parallel(n_jobs=1)]: Done 1000 out of 1000 | elapsed:    0.1s finished\n"
          ]
        },
        {
          "output_type": "stream",
          "name": "stdout",
          "text": [
            "Model Number: 646 with model ETS in generation 10 of 10\n",
            "Model Number: 647 with model ETS in generation 10 of 10\n",
            "Model Number: 648 with model LastValueNaive in generation 10 of 10\n",
            "Model Number: 649 with model LastValueNaive in generation 10 of 10\n",
            "Model Number: 650 with model LastValueNaive in generation 10 of 10\n",
            "Model Number: 651 with model DatepartRegression in generation 10 of 10\n"
          ]
        },
        {
          "output_type": "stream",
          "name": "stderr",
          "text": [
            "/usr/local/lib/python3.7/dist-packages/autots/models/sklearn.py:1522: DataConversionWarning:\n",
            "\n",
            "A column-vector y was passed when a 1d array was expected. Please change the shape of y to (n_samples,), for example using ravel().\n",
            "\n",
            "[Parallel(n_jobs=1)]: Using backend SequentialBackend with 1 concurrent workers.\n",
            "[Parallel(n_jobs=1)]: Done 1000 out of 1000 | elapsed:    1.2s finished\n",
            "[Parallel(n_jobs=1)]: Using backend SequentialBackend with 1 concurrent workers.\n",
            "[Parallel(n_jobs=1)]: Done 1000 out of 1000 | elapsed:    0.1s finished\n"
          ]
        },
        {
          "output_type": "stream",
          "name": "stdout",
          "text": [
            "Model Number: 652 with model DatepartRegression in generation 10 of 10\n",
            "Model Number: 653 with model DatepartRegression in generation 10 of 10\n",
            "Model Number: 654 with model WindowRegression in generation 10 of 10\n"
          ]
        },
        {
          "output_type": "stream",
          "name": "stderr",
          "text": [
            "/usr/local/lib/python3.7/dist-packages/sklearn/neural_network/_multilayer_perceptron.py:1342: DataConversionWarning:\n",
            "\n",
            "A column-vector y was passed when a 1d array was expected. Please change the shape of y to (n_samples, ), for example using ravel().\n",
            "\n"
          ]
        },
        {
          "output_type": "stream",
          "name": "stdout",
          "text": [
            "Model Number: 655 with model WindowRegression in generation 10 of 10\n",
            "Model Number: 656 with model WindowRegression in generation 10 of 10\n",
            "Model Number: 657 with model AverageValueNaive in generation 10 of 10\n",
            "Model Number: 658 with model AverageValueNaive in generation 10 of 10\n",
            "Model Number: 659 with model AverageValueNaive in generation 10 of 10\n"
          ]
        },
        {
          "output_type": "stream",
          "name": "stderr",
          "text": [
            "/usr/local/lib/python3.7/dist-packages/sklearn/linear_model/_coordinate_descent.py:1790: ConvergenceWarning:\n",
            "\n",
            "Objective did not converge. You might want to increase the number of iterations. Duality gap: 758.3909587856866, tolerance: 125.58420449117861\n",
            "\n"
          ]
        },
        {
          "output_type": "stream",
          "name": "stdout",
          "text": [
            "Model Number: 660 with model GLS in generation 10 of 10\n",
            "Model Number: 661 with model ZeroesNaive in generation 10 of 10\n",
            "Model Number: 662 with model ZeroesNaive in generation 10 of 10\n",
            "Model Number: 663 with model ZeroesNaive in generation 10 of 10\n",
            "Model Number: 664 with model UnobservedComponents in generation 10 of 10\n",
            "Model Number: 665 with model UnobservedComponents in generation 10 of 10\n",
            "Model Number: 666 with model UnobservedComponents in generation 10 of 10\n",
            "Model Number: 667 with model GLM in generation 10 of 10\n",
            "Model Number: 668 with model GLM in generation 10 of 10\n",
            "Model Number: 669 with model GLM in generation 10 of 10\n",
            "Template Eval Error: ValueError('The first guess on the deviance function returned a nan.  This could be a boundary  problem and should be reported.') in model 669: GLM\n",
            "Model Number: 670 with model GLM in generation 10 of 10\n"
          ]
        },
        {
          "output_type": "stream",
          "name": "stderr",
          "text": [
            "/usr/local/lib/python3.7/dist-packages/statsmodels/genmod/generalized_linear_model.py:273: DomainWarning:\n",
            "\n",
            "The inverse_power link function does not respect the domain of the Gamma family.\n",
            "\n",
            "/usr/local/lib/python3.7/dist-packages/statsmodels/genmod/families/family.py:1440: RuntimeWarning:\n",
            "\n",
            "invalid value encountered in log\n",
            "\n",
            "INFO:fbprophet:Disabling yearly seasonality. Run prophet with yearly_seasonality=True to override this.\n",
            "INFO:fbprophet:Disabling daily seasonality. Run prophet with daily_seasonality=True to override this.\n"
          ]
        },
        {
          "output_type": "stream",
          "name": "stdout",
          "text": [
            "Model Number: 671 with model Ensemble in generation 11 of 0\n"
          ]
        },
        {
          "output_type": "stream",
          "name": "stderr",
          "text": [
            "/usr/local/lib/python3.7/dist-packages/autots/models/sklearn.py:669: DataConversionWarning:\n",
            "\n",
            "A column-vector y was passed when a 1d array was expected. Please change the shape of y to (n_samples,), for example using ravel().\n",
            "\n",
            "INFO:fbprophet:Disabling yearly seasonality. Run prophet with yearly_seasonality=True to override this.\n",
            "INFO:fbprophet:Disabling daily seasonality. Run prophet with daily_seasonality=True to override this.\n"
          ]
        },
        {
          "output_type": "stream",
          "name": "stdout",
          "text": [
            "Model Number: 672 with model Ensemble in generation 11 of 0\n"
          ]
        },
        {
          "output_type": "stream",
          "name": "stderr",
          "text": [
            "INFO:fbprophet:Disabling yearly seasonality. Run prophet with yearly_seasonality=True to override this.\n",
            "INFO:fbprophet:Disabling daily seasonality. Run prophet with daily_seasonality=True to override this.\n",
            "INFO:fbprophet:Disabling yearly seasonality. Run prophet with yearly_seasonality=True to override this.\n",
            "INFO:fbprophet:Disabling daily seasonality. Run prophet with daily_seasonality=True to override this.\n"
          ]
        },
        {
          "output_type": "stream",
          "name": "stdout",
          "text": [
            "Model Number: 673 with model Ensemble in generation 11 of 0\n"
          ]
        },
        {
          "output_type": "stream",
          "name": "stderr",
          "text": [
            "/usr/local/lib/python3.7/dist-packages/autots/models/sklearn.py:669: DataConversionWarning:\n",
            "\n",
            "A column-vector y was passed when a 1d array was expected. Please change the shape of y to (n_samples,), for example using ravel().\n",
            "\n",
            "INFO:fbprophet:Disabling yearly seasonality. Run prophet with yearly_seasonality=True to override this.\n",
            "INFO:fbprophet:Disabling daily seasonality. Run prophet with daily_seasonality=True to override this.\n"
          ]
        },
        {
          "output_type": "stream",
          "name": "stdout",
          "text": [
            "Validation Round: 1\n",
            "Model Number: 1 of 87 with model Ensemble for Validation 1\n"
          ]
        },
        {
          "output_type": "stream",
          "name": "stderr",
          "text": [
            "/usr/local/lib/python3.7/dist-packages/autots/models/sklearn.py:669: DataConversionWarning:\n",
            "\n",
            "A column-vector y was passed when a 1d array was expected. Please change the shape of y to (n_samples,), for example using ravel().\n",
            "\n",
            "INFO:fbprophet:Disabling yearly seasonality. Run prophet with yearly_seasonality=True to override this.\n",
            "INFO:fbprophet:Disabling daily seasonality. Run prophet with daily_seasonality=True to override this.\n"
          ]
        },
        {
          "output_type": "stream",
          "name": "stdout",
          "text": [
            "Model 1 of model Ensemble with avg smape 1.21: \n",
            "Model Number: 2 of 87 with model Ensemble for Validation 1\n"
          ]
        },
        {
          "output_type": "stream",
          "name": "stderr",
          "text": [
            "/usr/local/lib/python3.7/dist-packages/autots/models/sklearn.py:669: DataConversionWarning:\n",
            "\n",
            "A column-vector y was passed when a 1d array was expected. Please change the shape of y to (n_samples,), for example using ravel().\n",
            "\n",
            "INFO:fbprophet:Disabling yearly seasonality. Run prophet with yearly_seasonality=True to override this.\n",
            "INFO:fbprophet:Disabling daily seasonality. Run prophet with daily_seasonality=True to override this.\n"
          ]
        },
        {
          "output_type": "stream",
          "name": "stdout",
          "text": [
            "Model 2 of model Ensemble with avg smape 1.21: \n",
            "Model Number: 3 of 87 with model Ensemble for Validation 1\n"
          ]
        },
        {
          "output_type": "stream",
          "name": "stderr",
          "text": [
            "INFO:fbprophet:Disabling yearly seasonality. Run prophet with yearly_seasonality=True to override this.\n",
            "INFO:fbprophet:Disabling daily seasonality. Run prophet with daily_seasonality=True to override this.\n",
            "INFO:fbprophet:Disabling yearly seasonality. Run prophet with yearly_seasonality=True to override this.\n",
            "INFO:fbprophet:Disabling daily seasonality. Run prophet with daily_seasonality=True to override this.\n"
          ]
        },
        {
          "output_type": "stream",
          "name": "stdout",
          "text": [
            "Model 3 of model Ensemble with avg smape 1.39: \n",
            "Model Number: 4 of 87 with model FBProphet for Validation 1\n",
            "Model 4 of model FBProphet with avg smape 2.4: \n",
            "Model Number: 5 of 87 with model RollingRegression for Validation 1\n"
          ]
        },
        {
          "output_type": "stream",
          "name": "stderr",
          "text": [
            "/usr/local/lib/python3.7/dist-packages/autots/models/sklearn.py:669: DataConversionWarning:\n",
            "\n",
            "A column-vector y was passed when a 1d array was expected. Please change the shape of y to (n_samples,), for example using ravel().\n",
            "\n"
          ]
        },
        {
          "output_type": "stream",
          "name": "stdout",
          "text": [
            "Model 5 of model RollingRegression with avg smape 2.06: \n",
            "Model Number: 6 of 87 with model SeasonalNaive for Validation 1\n"
          ]
        },
        {
          "output_type": "stream",
          "name": "stderr",
          "text": [
            "INFO:fbprophet:Disabling yearly seasonality. Run prophet with yearly_seasonality=True to override this.\n",
            "INFO:fbprophet:Disabling daily seasonality. Run prophet with daily_seasonality=True to override this.\n"
          ]
        },
        {
          "output_type": "stream",
          "name": "stdout",
          "text": [
            "Model 6 of model SeasonalNaive with avg smape 1.53: \n",
            "Model Number: 7 of 87 with model FBProphet for Validation 1\n",
            "Model 7 of model FBProphet with avg smape 2.32: \n",
            "Model Number: 8 of 87 with model SeasonalNaive for Validation 1\n",
            "Model 8 of model SeasonalNaive with avg smape 1.55: \n",
            "Model Number: 9 of 87 with model ETS for Validation 1\n",
            "Model 9 of model ETS with avg smape 1.03: \n",
            "Model Number: 10 of 87 with model RollingRegression for Validation 1\n",
            "Model 10 of model RollingRegression with avg smape 0.78: \n",
            "Model Number: 11 of 87 with model RollingRegression for Validation 1\n"
          ]
        },
        {
          "output_type": "stream",
          "name": "stderr",
          "text": [
            "/usr/local/lib/python3.7/dist-packages/autots/models/sklearn.py:669: DataConversionWarning:\n",
            "\n",
            "A column-vector y was passed when a 1d array was expected. Please change the shape of y to (n_samples,), for example using ravel().\n",
            "\n",
            "[Parallel(n_jobs=1)]: Using backend SequentialBackend with 1 concurrent workers.\n",
            "[Parallel(n_jobs=1)]: Done 1000 out of 1000 | elapsed:    1.4s finished\n",
            "[Parallel(n_jobs=1)]: Using backend SequentialBackend with 1 concurrent workers.\n",
            "[Parallel(n_jobs=1)]: Done 1000 out of 1000 | elapsed:    0.1s finished\n",
            "[Parallel(n_jobs=1)]: Using backend SequentialBackend with 1 concurrent workers.\n",
            "[Parallel(n_jobs=1)]: Done 1000 out of 1000 | elapsed:    0.1s finished\n",
            "[Parallel(n_jobs=1)]: Using backend SequentialBackend with 1 concurrent workers.\n",
            "[Parallel(n_jobs=1)]: Done 1000 out of 1000 | elapsed:    0.1s finished\n",
            "[Parallel(n_jobs=1)]: Using backend SequentialBackend with 1 concurrent workers.\n"
          ]
        },
        {
          "output_type": "stream",
          "name": "stdout",
          "text": [
            "Model 11 of model RollingRegression with avg smape 1.91: \n",
            "Model Number: 12 of 87 with model LastValueNaive for Validation 1\n"
          ]
        },
        {
          "output_type": "stream",
          "name": "stderr",
          "text": [
            "[Parallel(n_jobs=1)]: Done 1000 out of 1000 | elapsed:    0.1s finished\n",
            "[Parallel(n_jobs=1)]: Using backend SequentialBackend with 1 concurrent workers.\n",
            "[Parallel(n_jobs=1)]: Done 1000 out of 1000 | elapsed:    0.1s finished\n"
          ]
        },
        {
          "output_type": "stream",
          "name": "stdout",
          "text": [
            "Model 12 of model LastValueNaive with avg smape 4.02: \n",
            "Model Number: 13 of 87 with model RollingRegression for Validation 1\n",
            "Model 13 of model RollingRegression with avg smape 1.85: \n",
            "Model Number: 14 of 87 with model LastValueNaive for Validation 1\n",
            "Model 14 of model LastValueNaive with avg smape 3.64: \n",
            "Model Number: 15 of 87 with model LastValueNaive for Validation 1\n",
            "Model 15 of model LastValueNaive with avg smape 3.95: \n",
            "Model Number: 16 of 87 with model LastValueNaive for Validation 1\n",
            "Model 16 of model LastValueNaive with avg smape 4.65: \n",
            "Model Number: 17 of 87 with model LastValueNaive for Validation 1\n",
            "Model 17 of model LastValueNaive with avg smape 4.65: \n",
            "Model Number: 18 of 87 with model SeasonalNaive for Validation 1\n",
            "Model 18 of model SeasonalNaive with avg smape 1.54: \n",
            "Model Number: 19 of 87 with model SeasonalNaive for Validation 1\n",
            "Model 19 of model SeasonalNaive with avg smape 1.53: \n",
            "Model Number: 20 of 87 with model LastValueNaive for Validation 1\n",
            "Model 20 of model LastValueNaive with avg smape 4.15: \n",
            "Model Number: 21 of 87 with model LastValueNaive for Validation 1\n",
            "Model 21 of model LastValueNaive with avg smape 4.14: \n",
            "Model Number: 22 of 87 with model ETS for Validation 1\n",
            "Model 22 of model ETS with avg smape 1.44: \n",
            "Model Number: 23 of 87 with model RollingRegression for Validation 1\n"
          ]
        },
        {
          "output_type": "stream",
          "name": "stderr",
          "text": [
            "/usr/local/lib/python3.7/dist-packages/autots/models/sklearn.py:669: DataConversionWarning:\n",
            "\n",
            "A column-vector y was passed when a 1d array was expected. Please change the shape of y to (n_samples,), for example using ravel().\n",
            "\n"
          ]
        },
        {
          "output_type": "stream",
          "name": "stdout",
          "text": [
            "Model 23 of model RollingRegression with avg smape 1.1: \n",
            "Model Number: 24 of 87 with model RollingRegression for Validation 1\n"
          ]
        },
        {
          "output_type": "stream",
          "name": "stderr",
          "text": [
            "/usr/local/lib/python3.7/dist-packages/autots/models/sklearn.py:669: DataConversionWarning:\n",
            "\n",
            "A column-vector y was passed when a 1d array was expected. Please change the shape of y to (n_samples,), for example using ravel().\n",
            "\n"
          ]
        },
        {
          "output_type": "stream",
          "name": "stdout",
          "text": [
            "Model 24 of model RollingRegression with avg smape 1.98: \n",
            "Model Number: 25 of 87 with model SeasonalNaive for Validation 1\n",
            "Model 25 of model SeasonalNaive with avg smape 1.14: \n",
            "Model Number: 26 of 87 with model SeasonalNaive for Validation 1\n",
            "Model 26 of model SeasonalNaive with avg smape 1.34: \n",
            "Model Number: 27 of 87 with model WindowRegression for Validation 1\n",
            "Model 27 of model WindowRegression with avg smape 1.57: \n",
            "Model Number: 28 of 87 with model DatepartRegression for Validation 1\n"
          ]
        },
        {
          "output_type": "stream",
          "name": "stderr",
          "text": [
            "INFO:fbprophet:Disabling yearly seasonality. Run prophet with yearly_seasonality=True to override this.\n",
            "INFO:fbprophet:Disabling daily seasonality. Run prophet with daily_seasonality=True to override this.\n"
          ]
        },
        {
          "output_type": "stream",
          "name": "stdout",
          "text": [
            "Model 28 of model DatepartRegression with avg smape 0.85: \n",
            "Model Number: 29 of 87 with model FBProphet for Validation 1\n",
            "Model 29 of model FBProphet with avg smape 0.81: \n",
            "Model Number: 30 of 87 with model RollingRegression for Validation 1\n"
          ]
        },
        {
          "output_type": "stream",
          "name": "stderr",
          "text": [
            "/usr/local/lib/python3.7/dist-packages/sklearn/neural_network/_multilayer_perceptron.py:1342: DataConversionWarning:\n",
            "\n",
            "A column-vector y was passed when a 1d array was expected. Please change the shape of y to (n_samples, ), for example using ravel().\n",
            "\n",
            "/usr/local/lib/python3.7/dist-packages/sklearn/neural_network/_multilayer_perceptron.py:470: ConvergenceWarning:\n",
            "\n",
            "lbfgs failed to converge (status=1):\n",
            "STOP: TOTAL NO. of ITERATIONS REACHED LIMIT.\n",
            "\n",
            "Increase the number of iterations (max_iter) or scale the data as shown in:\n",
            "    https://scikit-learn.org/stable/modules/preprocessing.html\n",
            "\n",
            "INFO:fbprophet:Disabling yearly seasonality. Run prophet with yearly_seasonality=True to override this.\n",
            "INFO:fbprophet:Disabling daily seasonality. Run prophet with daily_seasonality=True to override this.\n"
          ]
        },
        {
          "output_type": "stream",
          "name": "stdout",
          "text": [
            "Model 30 of model RollingRegression with avg smape 1.85: \n",
            "Model Number: 31 of 87 with model FBProphet for Validation 1\n",
            "Model 31 of model FBProphet with avg smape 0.83: \n",
            "Model Number: 32 of 87 with model DatepartRegression for Validation 1\n"
          ]
        },
        {
          "output_type": "stream",
          "name": "stderr",
          "text": [
            "INFO:fbprophet:Disabling yearly seasonality. Run prophet with yearly_seasonality=True to override this.\n",
            "INFO:fbprophet:Disabling daily seasonality. Run prophet with daily_seasonality=True to override this.\n"
          ]
        },
        {
          "output_type": "stream",
          "name": "stdout",
          "text": [
            "Model 32 of model DatepartRegression with avg smape 0.79: \n",
            "Model Number: 33 of 87 with model FBProphet for Validation 1\n",
            "Model 33 of model FBProphet with avg smape 0.84: \n",
            "Model Number: 34 of 87 with model ETS for Validation 1\n",
            "Model 34 of model ETS with avg smape 0.97: \n",
            "Model Number: 35 of 87 with model ETS for Validation 1\n",
            "Model 35 of model ETS with avg smape 0.98: \n",
            "Model Number: 36 of 87 with model WindowRegression for Validation 1\n",
            "Model 36 of model WindowRegression with avg smape 2.15: \n",
            "Model Number: 37 of 87 with model UnobservedComponents for Validation 1\n",
            "Model 37 of model UnobservedComponents with avg smape 4.1: \n",
            "Model Number: 38 of 87 with model UnobservedComponents for Validation 1\n",
            "Model 38 of model UnobservedComponents with avg smape 4.1: \n",
            "Model Number: 39 of 87 with model UnobservedComponents for Validation 1\n",
            "Model 39 of model UnobservedComponents with avg smape 4.1: \n",
            "Model Number: 40 of 87 with model UnobservedComponents for Validation 1\n",
            "Model 40 of model UnobservedComponents with avg smape 4.1: \n",
            "Model Number: 41 of 87 with model UnobservedComponents for Validation 1\n",
            "Model 41 of model UnobservedComponents with avg smape 4.1: \n",
            "Model Number: 42 of 87 with model SeasonalNaive for Validation 1\n",
            "Model 42 of model SeasonalNaive with avg smape 1.19: \n",
            "Model Number: 43 of 87 with model FBProphet for Validation 1\n"
          ]
        },
        {
          "output_type": "stream",
          "name": "stderr",
          "text": [
            "INFO:fbprophet:Disabling yearly seasonality. Run prophet with yearly_seasonality=True to override this.\n",
            "INFO:fbprophet:Disabling daily seasonality. Run prophet with daily_seasonality=True to override this.\n"
          ]
        },
        {
          "output_type": "stream",
          "name": "stdout",
          "text": [
            "Model 43 of model FBProphet with avg smape 0.81: \n",
            "Model Number: 44 of 87 with model ETS for Validation 1\n",
            "Model 44 of model ETS with avg smape 1.44: \n",
            "Model Number: 45 of 87 with model ETS for Validation 1\n",
            "Model 45 of model ETS with avg smape 1.38: \n",
            "Model Number: 46 of 87 with model DatepartRegression for Validation 1\n"
          ]
        },
        {
          "output_type": "stream",
          "name": "stderr",
          "text": [
            "/usr/local/lib/python3.7/dist-packages/autots/models/sklearn.py:1522: DataConversionWarning:\n",
            "\n",
            "A column-vector y was passed when a 1d array was expected. Please change the shape of y to (n_samples,), for example using ravel().\n",
            "\n",
            "[Parallel(n_jobs=1)]: Using backend SequentialBackend with 1 concurrent workers.\n",
            "[Parallel(n_jobs=1)]: Done 1000 out of 1000 | elapsed:    1.1s finished\n",
            "[Parallel(n_jobs=1)]: Using backend SequentialBackend with 1 concurrent workers.\n",
            "[Parallel(n_jobs=1)]: Done 1000 out of 1000 | elapsed:    0.1s finished\n"
          ]
        },
        {
          "output_type": "stream",
          "name": "stdout",
          "text": [
            "Model 46 of model DatepartRegression with avg smape 1.19: \n",
            "Model Number: 47 of 87 with model WindowRegression for Validation 1\n"
          ]
        },
        {
          "output_type": "stream",
          "name": "stderr",
          "text": [
            "/usr/local/lib/python3.7/dist-packages/sklearn/base.py:434: FutureWarning:\n",
            "\n",
            "The default value of multioutput (not exposed in score method) will change from 'variance_weighted' to 'uniform_average' in 0.23 to keep consistent with 'metrics.r2_score'. To specify the default value manually and avoid the warning, please either call 'metrics.r2_score' directly or make a custom scorer with 'metrics.make_scorer' (the built-in scorer 'r2' uses multioutput='uniform_average').\n",
            "\n",
            "/usr/local/lib/python3.7/dist-packages/sklearn/base.py:434: FutureWarning:\n",
            "\n",
            "The default value of multioutput (not exposed in score method) will change from 'variance_weighted' to 'uniform_average' in 0.23 to keep consistent with 'metrics.r2_score'. To specify the default value manually and avoid the warning, please either call 'metrics.r2_score' directly or make a custom scorer with 'metrics.make_scorer' (the built-in scorer 'r2' uses multioutput='uniform_average').\n",
            "\n",
            "/usr/local/lib/python3.7/dist-packages/sklearn/base.py:434: FutureWarning:\n",
            "\n",
            "The default value of multioutput (not exposed in score method) will change from 'variance_weighted' to 'uniform_average' in 0.23 to keep consistent with 'metrics.r2_score'. To specify the default value manually and avoid the warning, please either call 'metrics.r2_score' directly or make a custom scorer with 'metrics.make_scorer' (the built-in scorer 'r2' uses multioutput='uniform_average').\n",
            "\n",
            "/usr/local/lib/python3.7/dist-packages/sklearn/base.py:434: FutureWarning:\n",
            "\n",
            "The default value of multioutput (not exposed in score method) will change from 'variance_weighted' to 'uniform_average' in 0.23 to keep consistent with 'metrics.r2_score'. To specify the default value manually and avoid the warning, please either call 'metrics.r2_score' directly or make a custom scorer with 'metrics.make_scorer' (the built-in scorer 'r2' uses multioutput='uniform_average').\n",
            "\n",
            "/usr/local/lib/python3.7/dist-packages/sklearn/base.py:434: FutureWarning:\n",
            "\n",
            "The default value of multioutput (not exposed in score method) will change from 'variance_weighted' to 'uniform_average' in 0.23 to keep consistent with 'metrics.r2_score'. To specify the default value manually and avoid the warning, please either call 'metrics.r2_score' directly or make a custom scorer with 'metrics.make_scorer' (the built-in scorer 'r2' uses multioutput='uniform_average').\n",
            "\n",
            "/usr/local/lib/python3.7/dist-packages/sklearn/base.py:434: FutureWarning:\n",
            "\n",
            "The default value of multioutput (not exposed in score method) will change from 'variance_weighted' to 'uniform_average' in 0.23 to keep consistent with 'metrics.r2_score'. To specify the default value manually and avoid the warning, please either call 'metrics.r2_score' directly or make a custom scorer with 'metrics.make_scorer' (the built-in scorer 'r2' uses multioutput='uniform_average').\n",
            "\n",
            "/usr/local/lib/python3.7/dist-packages/sklearn/base.py:434: FutureWarning:\n",
            "\n",
            "The default value of multioutput (not exposed in score method) will change from 'variance_weighted' to 'uniform_average' in 0.23 to keep consistent with 'metrics.r2_score'. To specify the default value manually and avoid the warning, please either call 'metrics.r2_score' directly or make a custom scorer with 'metrics.make_scorer' (the built-in scorer 'r2' uses multioutput='uniform_average').\n",
            "\n",
            "/usr/local/lib/python3.7/dist-packages/sklearn/base.py:434: FutureWarning:\n",
            "\n",
            "The default value of multioutput (not exposed in score method) will change from 'variance_weighted' to 'uniform_average' in 0.23 to keep consistent with 'metrics.r2_score'. To specify the default value manually and avoid the warning, please either call 'metrics.r2_score' directly or make a custom scorer with 'metrics.make_scorer' (the built-in scorer 'r2' uses multioutput='uniform_average').\n",
            "\n",
            "/usr/local/lib/python3.7/dist-packages/sklearn/base.py:434: FutureWarning:\n",
            "\n",
            "The default value of multioutput (not exposed in score method) will change from 'variance_weighted' to 'uniform_average' in 0.23 to keep consistent with 'metrics.r2_score'. To specify the default value manually and avoid the warning, please either call 'metrics.r2_score' directly or make a custom scorer with 'metrics.make_scorer' (the built-in scorer 'r2' uses multioutput='uniform_average').\n",
            "\n",
            "/usr/local/lib/python3.7/dist-packages/sklearn/base.py:434: FutureWarning:\n",
            "\n",
            "The default value of multioutput (not exposed in score method) will change from 'variance_weighted' to 'uniform_average' in 0.23 to keep consistent with 'metrics.r2_score'. To specify the default value manually and avoid the warning, please either call 'metrics.r2_score' directly or make a custom scorer with 'metrics.make_scorer' (the built-in scorer 'r2' uses multioutput='uniform_average').\n",
            "\n",
            "/usr/local/lib/python3.7/dist-packages/sklearn/base.py:434: FutureWarning:\n",
            "\n",
            "The default value of multioutput (not exposed in score method) will change from 'variance_weighted' to 'uniform_average' in 0.23 to keep consistent with 'metrics.r2_score'. To specify the default value manually and avoid the warning, please either call 'metrics.r2_score' directly or make a custom scorer with 'metrics.make_scorer' (the built-in scorer 'r2' uses multioutput='uniform_average').\n",
            "\n",
            "/usr/local/lib/python3.7/dist-packages/sklearn/base.py:434: FutureWarning:\n",
            "\n",
            "The default value of multioutput (not exposed in score method) will change from 'variance_weighted' to 'uniform_average' in 0.23 to keep consistent with 'metrics.r2_score'. To specify the default value manually and avoid the warning, please either call 'metrics.r2_score' directly or make a custom scorer with 'metrics.make_scorer' (the built-in scorer 'r2' uses multioutput='uniform_average').\n",
            "\n",
            "/usr/local/lib/python3.7/dist-packages/sklearn/base.py:434: FutureWarning:\n",
            "\n",
            "The default value of multioutput (not exposed in score method) will change from 'variance_weighted' to 'uniform_average' in 0.23 to keep consistent with 'metrics.r2_score'. To specify the default value manually and avoid the warning, please either call 'metrics.r2_score' directly or make a custom scorer with 'metrics.make_scorer' (the built-in scorer 'r2' uses multioutput='uniform_average').\n",
            "\n",
            "/usr/local/lib/python3.7/dist-packages/sklearn/base.py:434: FutureWarning:\n",
            "\n",
            "The default value of multioutput (not exposed in score method) will change from 'variance_weighted' to 'uniform_average' in 0.23 to keep consistent with 'metrics.r2_score'. To specify the default value manually and avoid the warning, please either call 'metrics.r2_score' directly or make a custom scorer with 'metrics.make_scorer' (the built-in scorer 'r2' uses multioutput='uniform_average').\n",
            "\n",
            "/usr/local/lib/python3.7/dist-packages/sklearn/base.py:434: FutureWarning:\n",
            "\n",
            "The default value of multioutput (not exposed in score method) will change from 'variance_weighted' to 'uniform_average' in 0.23 to keep consistent with 'metrics.r2_score'. To specify the default value manually and avoid the warning, please either call 'metrics.r2_score' directly or make a custom scorer with 'metrics.make_scorer' (the built-in scorer 'r2' uses multioutput='uniform_average').\n",
            "\n",
            "/usr/local/lib/python3.7/dist-packages/sklearn/base.py:434: FutureWarning:\n",
            "\n",
            "The default value of multioutput (not exposed in score method) will change from 'variance_weighted' to 'uniform_average' in 0.23 to keep consistent with 'metrics.r2_score'. To specify the default value manually and avoid the warning, please either call 'metrics.r2_score' directly or make a custom scorer with 'metrics.make_scorer' (the built-in scorer 'r2' uses multioutput='uniform_average').\n",
            "\n",
            "/usr/local/lib/python3.7/dist-packages/sklearn/base.py:434: FutureWarning:\n",
            "\n",
            "The default value of multioutput (not exposed in score method) will change from 'variance_weighted' to 'uniform_average' in 0.23 to keep consistent with 'metrics.r2_score'. To specify the default value manually and avoid the warning, please either call 'metrics.r2_score' directly or make a custom scorer with 'metrics.make_scorer' (the built-in scorer 'r2' uses multioutput='uniform_average').\n",
            "\n",
            "/usr/local/lib/python3.7/dist-packages/sklearn/base.py:434: FutureWarning:\n",
            "\n",
            "The default value of multioutput (not exposed in score method) will change from 'variance_weighted' to 'uniform_average' in 0.23 to keep consistent with 'metrics.r2_score'. To specify the default value manually and avoid the warning, please either call 'metrics.r2_score' directly or make a custom scorer with 'metrics.make_scorer' (the built-in scorer 'r2' uses multioutput='uniform_average').\n",
            "\n",
            "/usr/local/lib/python3.7/dist-packages/sklearn/base.py:434: FutureWarning:\n",
            "\n",
            "The default value of multioutput (not exposed in score method) will change from 'variance_weighted' to 'uniform_average' in 0.23 to keep consistent with 'metrics.r2_score'. To specify the default value manually and avoid the warning, please either call 'metrics.r2_score' directly or make a custom scorer with 'metrics.make_scorer' (the built-in scorer 'r2' uses multioutput='uniform_average').\n",
            "\n",
            "/usr/local/lib/python3.7/dist-packages/sklearn/base.py:434: FutureWarning:\n",
            "\n",
            "The default value of multioutput (not exposed in score method) will change from 'variance_weighted' to 'uniform_average' in 0.23 to keep consistent with 'metrics.r2_score'. To specify the default value manually and avoid the warning, please either call 'metrics.r2_score' directly or make a custom scorer with 'metrics.make_scorer' (the built-in scorer 'r2' uses multioutput='uniform_average').\n",
            "\n",
            "/usr/local/lib/python3.7/dist-packages/sklearn/base.py:434: FutureWarning:\n",
            "\n",
            "The default value of multioutput (not exposed in score method) will change from 'variance_weighted' to 'uniform_average' in 0.23 to keep consistent with 'metrics.r2_score'. To specify the default value manually and avoid the warning, please either call 'metrics.r2_score' directly or make a custom scorer with 'metrics.make_scorer' (the built-in scorer 'r2' uses multioutput='uniform_average').\n",
            "\n",
            "/usr/local/lib/python3.7/dist-packages/sklearn/base.py:434: FutureWarning:\n",
            "\n",
            "The default value of multioutput (not exposed in score method) will change from 'variance_weighted' to 'uniform_average' in 0.23 to keep consistent with 'metrics.r2_score'. To specify the default value manually and avoid the warning, please either call 'metrics.r2_score' directly or make a custom scorer with 'metrics.make_scorer' (the built-in scorer 'r2' uses multioutput='uniform_average').\n",
            "\n",
            "/usr/local/lib/python3.7/dist-packages/sklearn/base.py:434: FutureWarning:\n",
            "\n",
            "The default value of multioutput (not exposed in score method) will change from 'variance_weighted' to 'uniform_average' in 0.23 to keep consistent with 'metrics.r2_score'. To specify the default value manually and avoid the warning, please either call 'metrics.r2_score' directly or make a custom scorer with 'metrics.make_scorer' (the built-in scorer 'r2' uses multioutput='uniform_average').\n",
            "\n",
            "/usr/local/lib/python3.7/dist-packages/sklearn/base.py:434: FutureWarning:\n",
            "\n",
            "The default value of multioutput (not exposed in score method) will change from 'variance_weighted' to 'uniform_average' in 0.23 to keep consistent with 'metrics.r2_score'. To specify the default value manually and avoid the warning, please either call 'metrics.r2_score' directly or make a custom scorer with 'metrics.make_scorer' (the built-in scorer 'r2' uses multioutput='uniform_average').\n",
            "\n",
            "/usr/local/lib/python3.7/dist-packages/sklearn/base.py:434: FutureWarning:\n",
            "\n",
            "The default value of multioutput (not exposed in score method) will change from 'variance_weighted' to 'uniform_average' in 0.23 to keep consistent with 'metrics.r2_score'. To specify the default value manually and avoid the warning, please either call 'metrics.r2_score' directly or make a custom scorer with 'metrics.make_scorer' (the built-in scorer 'r2' uses multioutput='uniform_average').\n",
            "\n",
            "/usr/local/lib/python3.7/dist-packages/sklearn/base.py:434: FutureWarning:\n",
            "\n",
            "The default value of multioutput (not exposed in score method) will change from 'variance_weighted' to 'uniform_average' in 0.23 to keep consistent with 'metrics.r2_score'. To specify the default value manually and avoid the warning, please either call 'metrics.r2_score' directly or make a custom scorer with 'metrics.make_scorer' (the built-in scorer 'r2' uses multioutput='uniform_average').\n",
            "\n",
            "/usr/local/lib/python3.7/dist-packages/sklearn/base.py:434: FutureWarning:\n",
            "\n",
            "The default value of multioutput (not exposed in score method) will change from 'variance_weighted' to 'uniform_average' in 0.23 to keep consistent with 'metrics.r2_score'. To specify the default value manually and avoid the warning, please either call 'metrics.r2_score' directly or make a custom scorer with 'metrics.make_scorer' (the built-in scorer 'r2' uses multioutput='uniform_average').\n",
            "\n",
            "/usr/local/lib/python3.7/dist-packages/sklearn/base.py:434: FutureWarning:\n",
            "\n",
            "The default value of multioutput (not exposed in score method) will change from 'variance_weighted' to 'uniform_average' in 0.23 to keep consistent with 'metrics.r2_score'. To specify the default value manually and avoid the warning, please either call 'metrics.r2_score' directly or make a custom scorer with 'metrics.make_scorer' (the built-in scorer 'r2' uses multioutput='uniform_average').\n",
            "\n",
            "/usr/local/lib/python3.7/dist-packages/sklearn/base.py:434: FutureWarning:\n",
            "\n",
            "The default value of multioutput (not exposed in score method) will change from 'variance_weighted' to 'uniform_average' in 0.23 to keep consistent with 'metrics.r2_score'. To specify the default value manually and avoid the warning, please either call 'metrics.r2_score' directly or make a custom scorer with 'metrics.make_scorer' (the built-in scorer 'r2' uses multioutput='uniform_average').\n",
            "\n",
            "/usr/local/lib/python3.7/dist-packages/sklearn/base.py:434: FutureWarning:\n",
            "\n",
            "The default value of multioutput (not exposed in score method) will change from 'variance_weighted' to 'uniform_average' in 0.23 to keep consistent with 'metrics.r2_score'. To specify the default value manually and avoid the warning, please either call 'metrics.r2_score' directly or make a custom scorer with 'metrics.make_scorer' (the built-in scorer 'r2' uses multioutput='uniform_average').\n",
            "\n",
            "/usr/local/lib/python3.7/dist-packages/sklearn/base.py:434: FutureWarning:\n",
            "\n",
            "The default value of multioutput (not exposed in score method) will change from 'variance_weighted' to 'uniform_average' in 0.23 to keep consistent with 'metrics.r2_score'. To specify the default value manually and avoid the warning, please either call 'metrics.r2_score' directly or make a custom scorer with 'metrics.make_scorer' (the built-in scorer 'r2' uses multioutput='uniform_average').\n",
            "\n",
            "/usr/local/lib/python3.7/dist-packages/sklearn/base.py:434: FutureWarning:\n",
            "\n",
            "The default value of multioutput (not exposed in score method) will change from 'variance_weighted' to 'uniform_average' in 0.23 to keep consistent with 'metrics.r2_score'. To specify the default value manually and avoid the warning, please either call 'metrics.r2_score' directly or make a custom scorer with 'metrics.make_scorer' (the built-in scorer 'r2' uses multioutput='uniform_average').\n",
            "\n",
            "/usr/local/lib/python3.7/dist-packages/sklearn/base.py:434: FutureWarning:\n",
            "\n",
            "The default value of multioutput (not exposed in score method) will change from 'variance_weighted' to 'uniform_average' in 0.23 to keep consistent with 'metrics.r2_score'. To specify the default value manually and avoid the warning, please either call 'metrics.r2_score' directly or make a custom scorer with 'metrics.make_scorer' (the built-in scorer 'r2' uses multioutput='uniform_average').\n",
            "\n",
            "/usr/local/lib/python3.7/dist-packages/sklearn/base.py:434: FutureWarning:\n",
            "\n",
            "The default value of multioutput (not exposed in score method) will change from 'variance_weighted' to 'uniform_average' in 0.23 to keep consistent with 'metrics.r2_score'. To specify the default value manually and avoid the warning, please either call 'metrics.r2_score' directly or make a custom scorer with 'metrics.make_scorer' (the built-in scorer 'r2' uses multioutput='uniform_average').\n",
            "\n",
            "/usr/local/lib/python3.7/dist-packages/sklearn/base.py:434: FutureWarning:\n",
            "\n",
            "The default value of multioutput (not exposed in score method) will change from 'variance_weighted' to 'uniform_average' in 0.23 to keep consistent with 'metrics.r2_score'. To specify the default value manually and avoid the warning, please either call 'metrics.r2_score' directly or make a custom scorer with 'metrics.make_scorer' (the built-in scorer 'r2' uses multioutput='uniform_average').\n",
            "\n",
            "/usr/local/lib/python3.7/dist-packages/sklearn/base.py:434: FutureWarning:\n",
            "\n",
            "The default value of multioutput (not exposed in score method) will change from 'variance_weighted' to 'uniform_average' in 0.23 to keep consistent with 'metrics.r2_score'. To specify the default value manually and avoid the warning, please either call 'metrics.r2_score' directly or make a custom scorer with 'metrics.make_scorer' (the built-in scorer 'r2' uses multioutput='uniform_average').\n",
            "\n",
            "/usr/local/lib/python3.7/dist-packages/sklearn/base.py:434: FutureWarning:\n",
            "\n",
            "The default value of multioutput (not exposed in score method) will change from 'variance_weighted' to 'uniform_average' in 0.23 to keep consistent with 'metrics.r2_score'. To specify the default value manually and avoid the warning, please either call 'metrics.r2_score' directly or make a custom scorer with 'metrics.make_scorer' (the built-in scorer 'r2' uses multioutput='uniform_average').\n",
            "\n",
            "/usr/local/lib/python3.7/dist-packages/sklearn/base.py:434: FutureWarning:\n",
            "\n",
            "The default value of multioutput (not exposed in score method) will change from 'variance_weighted' to 'uniform_average' in 0.23 to keep consistent with 'metrics.r2_score'. To specify the default value manually and avoid the warning, please either call 'metrics.r2_score' directly or make a custom scorer with 'metrics.make_scorer' (the built-in scorer 'r2' uses multioutput='uniform_average').\n",
            "\n",
            "/usr/local/lib/python3.7/dist-packages/sklearn/base.py:434: FutureWarning:\n",
            "\n",
            "The default value of multioutput (not exposed in score method) will change from 'variance_weighted' to 'uniform_average' in 0.23 to keep consistent with 'metrics.r2_score'. To specify the default value manually and avoid the warning, please either call 'metrics.r2_score' directly or make a custom scorer with 'metrics.make_scorer' (the built-in scorer 'r2' uses multioutput='uniform_average').\n",
            "\n",
            "/usr/local/lib/python3.7/dist-packages/sklearn/base.py:434: FutureWarning:\n",
            "\n",
            "The default value of multioutput (not exposed in score method) will change from 'variance_weighted' to 'uniform_average' in 0.23 to keep consistent with 'metrics.r2_score'. To specify the default value manually and avoid the warning, please either call 'metrics.r2_score' directly or make a custom scorer with 'metrics.make_scorer' (the built-in scorer 'r2' uses multioutput='uniform_average').\n",
            "\n",
            "/usr/local/lib/python3.7/dist-packages/sklearn/base.py:434: FutureWarning:\n",
            "\n",
            "The default value of multioutput (not exposed in score method) will change from 'variance_weighted' to 'uniform_average' in 0.23 to keep consistent with 'metrics.r2_score'. To specify the default value manually and avoid the warning, please either call 'metrics.r2_score' directly or make a custom scorer with 'metrics.make_scorer' (the built-in scorer 'r2' uses multioutput='uniform_average').\n",
            "\n",
            "/usr/local/lib/python3.7/dist-packages/sklearn/base.py:434: FutureWarning:\n",
            "\n",
            "The default value of multioutput (not exposed in score method) will change from 'variance_weighted' to 'uniform_average' in 0.23 to keep consistent with 'metrics.r2_score'. To specify the default value manually and avoid the warning, please either call 'metrics.r2_score' directly or make a custom scorer with 'metrics.make_scorer' (the built-in scorer 'r2' uses multioutput='uniform_average').\n",
            "\n",
            "/usr/local/lib/python3.7/dist-packages/sklearn/base.py:434: FutureWarning:\n",
            "\n",
            "The default value of multioutput (not exposed in score method) will change from 'variance_weighted' to 'uniform_average' in 0.23 to keep consistent with 'metrics.r2_score'. To specify the default value manually and avoid the warning, please either call 'metrics.r2_score' directly or make a custom scorer with 'metrics.make_scorer' (the built-in scorer 'r2' uses multioutput='uniform_average').\n",
            "\n",
            "/usr/local/lib/python3.7/dist-packages/sklearn/base.py:434: FutureWarning:\n",
            "\n",
            "The default value of multioutput (not exposed in score method) will change from 'variance_weighted' to 'uniform_average' in 0.23 to keep consistent with 'metrics.r2_score'. To specify the default value manually and avoid the warning, please either call 'metrics.r2_score' directly or make a custom scorer with 'metrics.make_scorer' (the built-in scorer 'r2' uses multioutput='uniform_average').\n",
            "\n",
            "/usr/local/lib/python3.7/dist-packages/sklearn/base.py:434: FutureWarning:\n",
            "\n",
            "The default value of multioutput (not exposed in score method) will change from 'variance_weighted' to 'uniform_average' in 0.23 to keep consistent with 'metrics.r2_score'. To specify the default value manually and avoid the warning, please either call 'metrics.r2_score' directly or make a custom scorer with 'metrics.make_scorer' (the built-in scorer 'r2' uses multioutput='uniform_average').\n",
            "\n",
            "/usr/local/lib/python3.7/dist-packages/sklearn/base.py:434: FutureWarning:\n",
            "\n",
            "The default value of multioutput (not exposed in score method) will change from 'variance_weighted' to 'uniform_average' in 0.23 to keep consistent with 'metrics.r2_score'. To specify the default value manually and avoid the warning, please either call 'metrics.r2_score' directly or make a custom scorer with 'metrics.make_scorer' (the built-in scorer 'r2' uses multioutput='uniform_average').\n",
            "\n",
            "/usr/local/lib/python3.7/dist-packages/sklearn/base.py:434: FutureWarning:\n",
            "\n",
            "The default value of multioutput (not exposed in score method) will change from 'variance_weighted' to 'uniform_average' in 0.23 to keep consistent with 'metrics.r2_score'. To specify the default value manually and avoid the warning, please either call 'metrics.r2_score' directly or make a custom scorer with 'metrics.make_scorer' (the built-in scorer 'r2' uses multioutput='uniform_average').\n",
            "\n",
            "/usr/local/lib/python3.7/dist-packages/sklearn/base.py:434: FutureWarning:\n",
            "\n",
            "The default value of multioutput (not exposed in score method) will change from 'variance_weighted' to 'uniform_average' in 0.23 to keep consistent with 'metrics.r2_score'. To specify the default value manually and avoid the warning, please either call 'metrics.r2_score' directly or make a custom scorer with 'metrics.make_scorer' (the built-in scorer 'r2' uses multioutput='uniform_average').\n",
            "\n"
          ]
        },
        {
          "output_type": "stream",
          "name": "stdout",
          "text": [
            "Model 47 of model WindowRegression with avg smape 1.5: \n",
            "Model Number: 48 of 87 with model DatepartRegression for Validation 1\n",
            "Model 48 of model DatepartRegression with avg smape 0.87: \n",
            "Model Number: 49 of 87 with model ETS for Validation 1\n",
            "Model 49 of model ETS with avg smape 1.43: \n",
            "Model Number: 50 of 87 with model AverageValueNaive for Validation 1\n",
            "Model 50 of model AverageValueNaive with avg smape 1.26: \n",
            "Model Number: 51 of 87 with model GLS for Validation 1\n",
            "Model 51 of model GLS with avg smape 1.29: \n",
            "Model Number: 52 of 87 with model ZeroesNaive for Validation 1\n",
            "Model 52 of model ZeroesNaive with avg smape 1.29: \n",
            "Model Number: 53 of 87 with model ZeroesNaive for Validation 1\n",
            "Model 53 of model ZeroesNaive with avg smape 1.29: \n",
            "Model Number: 54 of 87 with model GLM for Validation 1\n",
            "Template Eval Error: ValueError('NaN, inf or invalid value detected in weights, estimation infeasible.') in model 54: GLM\n",
            "Model Number: 55 of 87 with model GLS for Validation 1\n",
            "Model 55 of model GLS with avg smape 1.26: \n",
            "Model Number: 56 of 87 with model GLS for Validation 1\n"
          ]
        },
        {
          "output_type": "stream",
          "name": "stderr",
          "text": [
            "/usr/local/lib/python3.7/dist-packages/statsmodels/genmod/families/family.py:428: RuntimeWarning:\n",
            "\n",
            "divide by zero encountered in true_divide\n",
            "\n",
            "/usr/local/lib/python3.7/dist-packages/statsmodels/genmod/families/family.py:134: RuntimeWarning:\n",
            "\n",
            "divide by zero encountered in true_divide\n",
            "\n"
          ]
        },
        {
          "output_type": "stream",
          "name": "stdout",
          "text": [
            "Model 56 of model GLS with avg smape 1.4: \n",
            "Model Number: 57 of 87 with model DatepartRegression for Validation 1\n",
            "Model 57 of model DatepartRegression with avg smape 1.72: \n",
            "Model Number: 58 of 87 with model WindowRegression for Validation 1\n"
          ]
        },
        {
          "output_type": "stream",
          "name": "stderr",
          "text": [
            "/usr/local/lib/python3.7/dist-packages/autots/models/sklearn.py:1065: DataConversionWarning:\n",
            "\n",
            "A column-vector y was passed when a 1d array was expected. Please change the shape of y to (n_samples,), for example using ravel().\n",
            "\n",
            "[Parallel(n_jobs=1)]: Using backend SequentialBackend with 1 concurrent workers.\n",
            "[Parallel(n_jobs=1)]: Done 1000 out of 1000 | elapsed:    2.9s finished\n",
            "[Parallel(n_jobs=1)]: Using backend SequentialBackend with 1 concurrent workers.\n",
            "[Parallel(n_jobs=1)]: Done 1000 out of 1000 | elapsed:    0.1s finished\n",
            "[Parallel(n_jobs=1)]: Using backend SequentialBackend with 1 concurrent workers.\n",
            "[Parallel(n_jobs=1)]: Done 1000 out of 1000 | elapsed:    0.1s finished\n",
            "[Parallel(n_jobs=1)]: Using backend SequentialBackend with 1 concurrent workers.\n",
            "[Parallel(n_jobs=1)]: Done 1000 out of 1000 | elapsed:    0.1s finished\n",
            "[Parallel(n_jobs=1)]: Using backend SequentialBackend with 1 concurrent workers.\n",
            "[Parallel(n_jobs=1)]: Done 1000 out of 1000 | elapsed:    0.1s finished\n",
            "[Parallel(n_jobs=1)]: Using backend SequentialBackend with 1 concurrent workers.\n",
            "[Parallel(n_jobs=1)]: Done 1000 out of 1000 | elapsed:    0.1s finished\n"
          ]
        },
        {
          "output_type": "stream",
          "name": "stdout",
          "text": [
            "Model 58 of model WindowRegression with avg smape 1.54: \n",
            "Model Number: 59 of 87 with model WindowRegression for Validation 1\n",
            "Model 59 of model WindowRegression with avg smape 1.2: \n",
            "Model Number: 60 of 87 with model DatepartRegression for Validation 1\n",
            "Model 60 of model DatepartRegression with avg smape 0.83: \n",
            "Model Number: 61 of 87 with model AverageValueNaive for Validation 1\n",
            "Model 61 of model AverageValueNaive with avg smape 1.34: \n",
            "Model Number: 62 of 87 with model WindowRegression for Validation 1\n"
          ]
        },
        {
          "output_type": "stream",
          "name": "stderr",
          "text": [
            "/usr/local/lib/python3.7/dist-packages/sklearn/neural_network/_multilayer_perceptron.py:1342: DataConversionWarning:\n",
            "\n",
            "A column-vector y was passed when a 1d array was expected. Please change the shape of y to (n_samples, ), for example using ravel().\n",
            "\n"
          ]
        },
        {
          "output_type": "stream",
          "name": "stdout",
          "text": [
            "Model 62 of model WindowRegression with avg smape 3.22: \n",
            "Model Number: 63 of 87 with model DatepartRegression for Validation 1\n",
            "Model 63 of model DatepartRegression with avg smape 1.12: \n",
            "Model Number: 64 of 87 with model AverageValueNaive for Validation 1\n",
            "Model 64 of model AverageValueNaive with avg smape 1.42: \n",
            "Model Number: 65 of 87 with model AverageValueNaive for Validation 1\n"
          ]
        },
        {
          "output_type": "stream",
          "name": "stderr",
          "text": [
            "INFO:fbprophet:Disabling yearly seasonality. Run prophet with yearly_seasonality=True to override this.\n",
            "INFO:fbprophet:Disabling daily seasonality. Run prophet with daily_seasonality=True to override this.\n"
          ]
        },
        {
          "output_type": "stream",
          "name": "stdout",
          "text": [
            "Model 65 of model AverageValueNaive with avg smape 1.53: \n",
            "Model Number: 66 of 87 with model FBProphet for Validation 1\n",
            "Model 66 of model FBProphet with avg smape 1.36: \n",
            "Model Number: 67 of 87 with model GLS for Validation 1\n",
            "Model 67 of model GLS with avg smape 1.52: \n",
            "Model Number: 68 of 87 with model WindowRegression for Validation 1\n",
            "Model 68 of model WindowRegression with avg smape 1.17: \n",
            "Model Number: 69 of 87 with model GLS for Validation 1\n",
            "Model 69 of model GLS with avg smape 1.43: \n",
            "Model Number: 70 of 87 with model AverageValueNaive for Validation 1\n",
            "Model 70 of model AverageValueNaive with avg smape 1.47: \n",
            "Model Number: 71 of 87 with model AverageValueNaive for Validation 1\n",
            "Model 71 of model AverageValueNaive with avg smape 1.46: \n",
            "Model Number: 72 of 87 with model UnobservedComponents for Validation 1\n",
            "Model 72 of model UnobservedComponents with avg smape 1.49: \n",
            "Model Number: 73 of 87 with model GLS for Validation 1\n",
            "Model 73 of model GLS with avg smape 1.47: \n",
            "Model Number: 74 of 87 with model GLS for Validation 1\n",
            "Model 74 of model GLS with avg smape 1.46: \n",
            "Model Number: 75 of 87 with model GLM for Validation 1\n",
            "Model 75 of model GLM with avg smape 1.47: \n",
            "Model Number: 76 of 87 with model AverageValueNaive for Validation 1\n",
            "Model 76 of model AverageValueNaive with avg smape 1.57: \n",
            "Model Number: 77 of 87 with model GLM for Validation 1\n",
            "Model 77 of model GLM with avg smape 1.58: \n",
            "Model Number: 78 of 87 with model ZeroesNaive for Validation 1\n",
            "Model 78 of model ZeroesNaive with avg smape 1.23: \n",
            "Model Number: 79 of 87 with model ZeroesNaive for Validation 1\n",
            "Model 79 of model ZeroesNaive with avg smape 1.93: \n",
            "Model Number: 80 of 87 with model GLM for Validation 1\n",
            "Model 80 of model GLM with avg smape 1.6: \n",
            "Model Number: 81 of 87 with model GLM for Validation 1\n",
            "Model 81 of model GLM with avg smape 1.6: \n",
            "Model Number: 82 of 87 with model ZeroesNaive for Validation 1\n",
            "Model 82 of model ZeroesNaive with avg smape 1.58: \n",
            "Model Number: 83 of 87 with model GLM for Validation 1\n",
            "Model 83 of model GLM with avg smape 1.6: \n",
            "Model Number: 84 of 87 with model GLM for Validation 1\n",
            "Model 84 of model GLM with avg smape 1.59: \n",
            "Model Number: 85 of 87 with model UnobservedComponents for Validation 1\n",
            "Model 85 of model UnobservedComponents with avg smape 1.79: \n",
            "Model Number: 86 of 87 with model ZeroesNaive for Validation 1\n",
            "Model 86 of model ZeroesNaive with avg smape 1.36: \n",
            "Model Number: 87 of 87 with model ZeroesNaive for Validation 1\n",
            "Model 87 of model ZeroesNaive with avg smape 1.77: \n",
            "Validation Round: 2\n",
            "Model Number: 1 of 87 with model Ensemble for Validation 2\n"
          ]
        },
        {
          "output_type": "stream",
          "name": "stderr",
          "text": [
            "INFO:fbprophet:Disabling yearly seasonality. Run prophet with yearly_seasonality=True to override this.\n",
            "INFO:fbprophet:Disabling daily seasonality. Run prophet with daily_seasonality=True to override this.\n",
            "/usr/local/lib/python3.7/dist-packages/autots/models/sklearn.py:669: DataConversionWarning:\n",
            "\n",
            "A column-vector y was passed when a 1d array was expected. Please change the shape of y to (n_samples,), for example using ravel().\n",
            "\n",
            "INFO:fbprophet:Disabling yearly seasonality. Run prophet with yearly_seasonality=True to override this.\n",
            "INFO:fbprophet:Disabling daily seasonality. Run prophet with daily_seasonality=True to override this.\n"
          ]
        },
        {
          "output_type": "stream",
          "name": "stdout",
          "text": [
            "Model 1 of model Ensemble with avg smape 1.61: \n",
            "Model Number: 2 of 87 with model Ensemble for Validation 2\n"
          ]
        },
        {
          "output_type": "stream",
          "name": "stderr",
          "text": [
            "/usr/local/lib/python3.7/dist-packages/autots/models/sklearn.py:669: DataConversionWarning:\n",
            "\n",
            "A column-vector y was passed when a 1d array was expected. Please change the shape of y to (n_samples,), for example using ravel().\n",
            "\n",
            "INFO:fbprophet:Disabling yearly seasonality. Run prophet with yearly_seasonality=True to override this.\n",
            "INFO:fbprophet:Disabling daily seasonality. Run prophet with daily_seasonality=True to override this.\n"
          ]
        },
        {
          "output_type": "stream",
          "name": "stdout",
          "text": [
            "Model 2 of model Ensemble with avg smape 1.61: \n",
            "Model Number: 3 of 87 with model Ensemble for Validation 2\n"
          ]
        },
        {
          "output_type": "stream",
          "name": "stderr",
          "text": [
            "INFO:fbprophet:Disabling yearly seasonality. Run prophet with yearly_seasonality=True to override this.\n",
            "INFO:fbprophet:Disabling daily seasonality. Run prophet with daily_seasonality=True to override this.\n",
            "INFO:fbprophet:Disabling yearly seasonality. Run prophet with yearly_seasonality=True to override this.\n",
            "INFO:fbprophet:Disabling daily seasonality. Run prophet with daily_seasonality=True to override this.\n"
          ]
        },
        {
          "output_type": "stream",
          "name": "stdout",
          "text": [
            "Model 3 of model Ensemble with avg smape 1.79: \n",
            "Model Number: 4 of 87 with model FBProphet for Validation 2\n",
            "Model 4 of model FBProphet with avg smape 3.31: \n",
            "Model Number: 5 of 87 with model RollingRegression for Validation 2\n"
          ]
        },
        {
          "output_type": "stream",
          "name": "stderr",
          "text": [
            "/usr/local/lib/python3.7/dist-packages/autots/models/sklearn.py:669: DataConversionWarning:\n",
            "\n",
            "A column-vector y was passed when a 1d array was expected. Please change the shape of y to (n_samples,), for example using ravel().\n",
            "\n"
          ]
        },
        {
          "output_type": "stream",
          "name": "stdout",
          "text": [
            "Model 5 of model RollingRegression with avg smape 1.43: \n",
            "Model Number: 6 of 87 with model SeasonalNaive for Validation 2\n"
          ]
        },
        {
          "output_type": "stream",
          "name": "stderr",
          "text": [
            "INFO:fbprophet:Disabling yearly seasonality. Run prophet with yearly_seasonality=True to override this.\n",
            "INFO:fbprophet:Disabling daily seasonality. Run prophet with daily_seasonality=True to override this.\n"
          ]
        },
        {
          "output_type": "stream",
          "name": "stdout",
          "text": [
            "Model 6 of model SeasonalNaive with avg smape 0.64: \n",
            "Model Number: 7 of 87 with model FBProphet for Validation 2\n",
            "Model 7 of model FBProphet with avg smape 3.34: \n",
            "Model Number: 8 of 87 with model SeasonalNaive for Validation 2\n",
            "Model 8 of model SeasonalNaive with avg smape 0.71: \n",
            "Model Number: 9 of 87 with model ETS for Validation 2\n",
            "Model 9 of model ETS with avg smape 0.71: \n",
            "Model Number: 10 of 87 with model RollingRegression for Validation 2\n",
            "Model 10 of model RollingRegression with avg smape 0.96: \n",
            "Model Number: 11 of 87 with model RollingRegression for Validation 2\n"
          ]
        },
        {
          "output_type": "stream",
          "name": "stderr",
          "text": [
            "/usr/local/lib/python3.7/dist-packages/autots/models/sklearn.py:669: DataConversionWarning:\n",
            "\n",
            "A column-vector y was passed when a 1d array was expected. Please change the shape of y to (n_samples,), for example using ravel().\n",
            "\n",
            "[Parallel(n_jobs=1)]: Using backend SequentialBackend with 1 concurrent workers.\n",
            "[Parallel(n_jobs=1)]: Done 1000 out of 1000 | elapsed:    1.4s finished\n",
            "[Parallel(n_jobs=1)]: Using backend SequentialBackend with 1 concurrent workers.\n",
            "[Parallel(n_jobs=1)]: Done 1000 out of 1000 | elapsed:    0.1s finished\n",
            "[Parallel(n_jobs=1)]: Using backend SequentialBackend with 1 concurrent workers.\n",
            "[Parallel(n_jobs=1)]: Done 1000 out of 1000 | elapsed:    0.1s finished\n",
            "[Parallel(n_jobs=1)]: Using backend SequentialBackend with 1 concurrent workers.\n",
            "[Parallel(n_jobs=1)]: Done 1000 out of 1000 | elapsed:    0.1s finished\n",
            "[Parallel(n_jobs=1)]: Using backend SequentialBackend with 1 concurrent workers.\n",
            "[Parallel(n_jobs=1)]: Done 1000 out of 1000 | elapsed:    0.1s finished\n",
            "[Parallel(n_jobs=1)]: Using backend SequentialBackend with 1 concurrent workers.\n",
            "[Parallel(n_jobs=1)]: Done 1000 out of 1000 | elapsed:    0.1s finished\n"
          ]
        },
        {
          "output_type": "stream",
          "name": "stdout",
          "text": [
            "Model 11 of model RollingRegression with avg smape 0.66: \n",
            "Model Number: 12 of 87 with model LastValueNaive for Validation 2\n",
            "Model 12 of model LastValueNaive with avg smape 11.84: \n",
            "Model Number: 13 of 87 with model RollingRegression for Validation 2\n",
            "Model 13 of model RollingRegression with avg smape 0.72: \n",
            "Model Number: 14 of 87 with model LastValueNaive for Validation 2\n",
            "Model 14 of model LastValueNaive with avg smape 8.5: \n",
            "Model Number: 15 of 87 with model LastValueNaive for Validation 2\n",
            "Model 15 of model LastValueNaive with avg smape 11.89: \n",
            "Model Number: 16 of 87 with model LastValueNaive for Validation 2\n",
            "Model 16 of model LastValueNaive with avg smape 8.39: \n",
            "Model Number: 17 of 87 with model LastValueNaive for Validation 2\n",
            "Model 17 of model LastValueNaive with avg smape 8.39: \n",
            "Model Number: 18 of 87 with model SeasonalNaive for Validation 2\n",
            "Model 18 of model SeasonalNaive with avg smape 0.94: \n",
            "Model Number: 19 of 87 with model SeasonalNaive for Validation 2\n",
            "Model 19 of model SeasonalNaive with avg smape 0.94: \n",
            "Model Number: 20 of 87 with model LastValueNaive for Validation 2\n",
            "Model 20 of model LastValueNaive with avg smape 9.7: \n",
            "Model Number: 21 of 87 with model LastValueNaive for Validation 2\n",
            "Model 21 of model LastValueNaive with avg smape 9.71: \n",
            "Model Number: 22 of 87 with model ETS for Validation 2\n",
            "Model 22 of model ETS with avg smape 1.64: \n",
            "Model Number: 23 of 87 with model RollingRegression for Validation 2\n"
          ]
        },
        {
          "output_type": "stream",
          "name": "stderr",
          "text": [
            "/usr/local/lib/python3.7/dist-packages/autots/models/sklearn.py:669: DataConversionWarning:\n",
            "\n",
            "A column-vector y was passed when a 1d array was expected. Please change the shape of y to (n_samples,), for example using ravel().\n",
            "\n"
          ]
        },
        {
          "output_type": "stream",
          "name": "stdout",
          "text": [
            "Model 23 of model RollingRegression with avg smape 1.93: \n",
            "Model Number: 24 of 87 with model RollingRegression for Validation 2\n"
          ]
        },
        {
          "output_type": "stream",
          "name": "stderr",
          "text": [
            "/usr/local/lib/python3.7/dist-packages/autots/models/sklearn.py:669: DataConversionWarning:\n",
            "\n",
            "A column-vector y was passed when a 1d array was expected. Please change the shape of y to (n_samples,), for example using ravel().\n",
            "\n"
          ]
        },
        {
          "output_type": "stream",
          "name": "stdout",
          "text": [
            "Model 24 of model RollingRegression with avg smape 0.92: \n",
            "Model Number: 25 of 87 with model SeasonalNaive for Validation 2\n",
            "Model 25 of model SeasonalNaive with avg smape 0.61: \n",
            "Model Number: 26 of 87 with model SeasonalNaive for Validation 2\n",
            "Model 26 of model SeasonalNaive with avg smape 0.71: \n",
            "Model Number: 27 of 87 with model WindowRegression for Validation 2\n",
            "Model 27 of model WindowRegression with avg smape 0.62: \n",
            "Model Number: 28 of 87 with model DatepartRegression for Validation 2\n"
          ]
        },
        {
          "output_type": "stream",
          "name": "stderr",
          "text": [
            "INFO:fbprophet:Disabling yearly seasonality. Run prophet with yearly_seasonality=True to override this.\n",
            "INFO:fbprophet:Disabling daily seasonality. Run prophet with daily_seasonality=True to override this.\n"
          ]
        },
        {
          "output_type": "stream",
          "name": "stdout",
          "text": [
            "Model 28 of model DatepartRegression with avg smape 0.76: \n",
            "Model Number: 29 of 87 with model FBProphet for Validation 2\n",
            "Model 29 of model FBProphet with avg smape 1.14: \n",
            "Model Number: 30 of 87 with model RollingRegression for Validation 2\n"
          ]
        },
        {
          "output_type": "stream",
          "name": "stderr",
          "text": [
            "/usr/local/lib/python3.7/dist-packages/sklearn/neural_network/_multilayer_perceptron.py:1342: DataConversionWarning:\n",
            "\n",
            "A column-vector y was passed when a 1d array was expected. Please change the shape of y to (n_samples, ), for example using ravel().\n",
            "\n",
            "/usr/local/lib/python3.7/dist-packages/sklearn/neural_network/_multilayer_perceptron.py:470: ConvergenceWarning:\n",
            "\n",
            "lbfgs failed to converge (status=1):\n",
            "STOP: TOTAL NO. of ITERATIONS REACHED LIMIT.\n",
            "\n",
            "Increase the number of iterations (max_iter) or scale the data as shown in:\n",
            "    https://scikit-learn.org/stable/modules/preprocessing.html\n",
            "\n",
            "INFO:fbprophet:Disabling yearly seasonality. Run prophet with yearly_seasonality=True to override this.\n",
            "INFO:fbprophet:Disabling daily seasonality. Run prophet with daily_seasonality=True to override this.\n"
          ]
        },
        {
          "output_type": "stream",
          "name": "stdout",
          "text": [
            "Model 30 of model RollingRegression with avg smape 0.82: \n",
            "Model Number: 31 of 87 with model FBProphet for Validation 2\n",
            "Model 31 of model FBProphet with avg smape 1.39: \n",
            "Model Number: 32 of 87 with model DatepartRegression for Validation 2\n"
          ]
        },
        {
          "output_type": "stream",
          "name": "stderr",
          "text": [
            "INFO:fbprophet:Disabling yearly seasonality. Run prophet with yearly_seasonality=True to override this.\n",
            "INFO:fbprophet:Disabling daily seasonality. Run prophet with daily_seasonality=True to override this.\n"
          ]
        },
        {
          "output_type": "stream",
          "name": "stdout",
          "text": [
            "Model 32 of model DatepartRegression with avg smape 0.77: \n",
            "Model Number: 33 of 87 with model FBProphet for Validation 2\n",
            "Model 33 of model FBProphet with avg smape 1.15: \n",
            "Model Number: 34 of 87 with model ETS for Validation 2\n",
            "Model 34 of model ETS with avg smape 0.83: \n",
            "Model Number: 35 of 87 with model ETS for Validation 2\n",
            "Model 35 of model ETS with avg smape 0.83: \n",
            "Model Number: 36 of 87 with model WindowRegression for Validation 2\n",
            "Model 36 of model WindowRegression with avg smape 0.74: \n",
            "Model Number: 37 of 87 with model UnobservedComponents for Validation 2\n",
            "Model 37 of model UnobservedComponents with avg smape 9.2: \n",
            "Model Number: 38 of 87 with model UnobservedComponents for Validation 2\n",
            "Model 38 of model UnobservedComponents with avg smape 9.2: \n",
            "Model Number: 39 of 87 with model UnobservedComponents for Validation 2\n",
            "Model 39 of model UnobservedComponents with avg smape 9.2: \n",
            "Model Number: 40 of 87 with model UnobservedComponents for Validation 2\n",
            "Model 40 of model UnobservedComponents with avg smape 9.2: \n",
            "Model Number: 41 of 87 with model UnobservedComponents for Validation 2\n",
            "Model 41 of model UnobservedComponents with avg smape 9.2: \n",
            "Model Number: 42 of 87 with model SeasonalNaive for Validation 2\n",
            "Model 42 of model SeasonalNaive with avg smape 1.83: \n",
            "Model Number: 43 of 87 with model FBProphet for Validation 2\n"
          ]
        },
        {
          "output_type": "stream",
          "name": "stderr",
          "text": [
            "INFO:fbprophet:Disabling yearly seasonality. Run prophet with yearly_seasonality=True to override this.\n",
            "INFO:fbprophet:Disabling daily seasonality. Run prophet with daily_seasonality=True to override this.\n"
          ]
        },
        {
          "output_type": "stream",
          "name": "stdout",
          "text": [
            "Model 43 of model FBProphet with avg smape 0.61: \n",
            "Model Number: 44 of 87 with model ETS for Validation 2\n",
            "Model 44 of model ETS with avg smape 1.62: \n",
            "Model Number: 45 of 87 with model ETS for Validation 2\n",
            "Model 45 of model ETS with avg smape 0.93: \n",
            "Model Number: 46 of 87 with model DatepartRegression for Validation 2\n"
          ]
        },
        {
          "output_type": "stream",
          "name": "stderr",
          "text": [
            "/usr/local/lib/python3.7/dist-packages/autots/models/sklearn.py:1522: DataConversionWarning:\n",
            "\n",
            "A column-vector y was passed when a 1d array was expected. Please change the shape of y to (n_samples,), for example using ravel().\n",
            "\n",
            "[Parallel(n_jobs=1)]: Using backend SequentialBackend with 1 concurrent workers.\n",
            "[Parallel(n_jobs=1)]: Done 1000 out of 1000 | elapsed:    1.1s finished\n",
            "[Parallel(n_jobs=1)]: Using backend SequentialBackend with 1 concurrent workers.\n",
            "[Parallel(n_jobs=1)]: Done 1000 out of 1000 | elapsed:    0.1s finished\n"
          ]
        },
        {
          "output_type": "stream",
          "name": "stdout",
          "text": [
            "Model 46 of model DatepartRegression with avg smape 0.61: \n",
            "Model Number: 47 of 87 with model WindowRegression for Validation 2\n"
          ]
        },
        {
          "output_type": "stream",
          "name": "stderr",
          "text": [
            "/usr/local/lib/python3.7/dist-packages/sklearn/base.py:434: FutureWarning:\n",
            "\n",
            "The default value of multioutput (not exposed in score method) will change from 'variance_weighted' to 'uniform_average' in 0.23 to keep consistent with 'metrics.r2_score'. To specify the default value manually and avoid the warning, please either call 'metrics.r2_score' directly or make a custom scorer with 'metrics.make_scorer' (the built-in scorer 'r2' uses multioutput='uniform_average').\n",
            "\n",
            "/usr/local/lib/python3.7/dist-packages/sklearn/base.py:434: FutureWarning:\n",
            "\n",
            "The default value of multioutput (not exposed in score method) will change from 'variance_weighted' to 'uniform_average' in 0.23 to keep consistent with 'metrics.r2_score'. To specify the default value manually and avoid the warning, please either call 'metrics.r2_score' directly or make a custom scorer with 'metrics.make_scorer' (the built-in scorer 'r2' uses multioutput='uniform_average').\n",
            "\n",
            "/usr/local/lib/python3.7/dist-packages/sklearn/base.py:434: FutureWarning:\n",
            "\n",
            "The default value of multioutput (not exposed in score method) will change from 'variance_weighted' to 'uniform_average' in 0.23 to keep consistent with 'metrics.r2_score'. To specify the default value manually and avoid the warning, please either call 'metrics.r2_score' directly or make a custom scorer with 'metrics.make_scorer' (the built-in scorer 'r2' uses multioutput='uniform_average').\n",
            "\n",
            "/usr/local/lib/python3.7/dist-packages/sklearn/base.py:434: FutureWarning:\n",
            "\n",
            "The default value of multioutput (not exposed in score method) will change from 'variance_weighted' to 'uniform_average' in 0.23 to keep consistent with 'metrics.r2_score'. To specify the default value manually and avoid the warning, please either call 'metrics.r2_score' directly or make a custom scorer with 'metrics.make_scorer' (the built-in scorer 'r2' uses multioutput='uniform_average').\n",
            "\n",
            "/usr/local/lib/python3.7/dist-packages/sklearn/base.py:434: FutureWarning:\n",
            "\n",
            "The default value of multioutput (not exposed in score method) will change from 'variance_weighted' to 'uniform_average' in 0.23 to keep consistent with 'metrics.r2_score'. To specify the default value manually and avoid the warning, please either call 'metrics.r2_score' directly or make a custom scorer with 'metrics.make_scorer' (the built-in scorer 'r2' uses multioutput='uniform_average').\n",
            "\n",
            "/usr/local/lib/python3.7/dist-packages/sklearn/base.py:434: FutureWarning:\n",
            "\n",
            "The default value of multioutput (not exposed in score method) will change from 'variance_weighted' to 'uniform_average' in 0.23 to keep consistent with 'metrics.r2_score'. To specify the default value manually and avoid the warning, please either call 'metrics.r2_score' directly or make a custom scorer with 'metrics.make_scorer' (the built-in scorer 'r2' uses multioutput='uniform_average').\n",
            "\n",
            "/usr/local/lib/python3.7/dist-packages/sklearn/base.py:434: FutureWarning:\n",
            "\n",
            "The default value of multioutput (not exposed in score method) will change from 'variance_weighted' to 'uniform_average' in 0.23 to keep consistent with 'metrics.r2_score'. To specify the default value manually and avoid the warning, please either call 'metrics.r2_score' directly or make a custom scorer with 'metrics.make_scorer' (the built-in scorer 'r2' uses multioutput='uniform_average').\n",
            "\n",
            "/usr/local/lib/python3.7/dist-packages/sklearn/base.py:434: FutureWarning:\n",
            "\n",
            "The default value of multioutput (not exposed in score method) will change from 'variance_weighted' to 'uniform_average' in 0.23 to keep consistent with 'metrics.r2_score'. To specify the default value manually and avoid the warning, please either call 'metrics.r2_score' directly or make a custom scorer with 'metrics.make_scorer' (the built-in scorer 'r2' uses multioutput='uniform_average').\n",
            "\n",
            "/usr/local/lib/python3.7/dist-packages/sklearn/base.py:434: FutureWarning:\n",
            "\n",
            "The default value of multioutput (not exposed in score method) will change from 'variance_weighted' to 'uniform_average' in 0.23 to keep consistent with 'metrics.r2_score'. To specify the default value manually and avoid the warning, please either call 'metrics.r2_score' directly or make a custom scorer with 'metrics.make_scorer' (the built-in scorer 'r2' uses multioutput='uniform_average').\n",
            "\n",
            "/usr/local/lib/python3.7/dist-packages/sklearn/base.py:434: FutureWarning:\n",
            "\n",
            "The default value of multioutput (not exposed in score method) will change from 'variance_weighted' to 'uniform_average' in 0.23 to keep consistent with 'metrics.r2_score'. To specify the default value manually and avoid the warning, please either call 'metrics.r2_score' directly or make a custom scorer with 'metrics.make_scorer' (the built-in scorer 'r2' uses multioutput='uniform_average').\n",
            "\n",
            "/usr/local/lib/python3.7/dist-packages/sklearn/base.py:434: FutureWarning:\n",
            "\n",
            "The default value of multioutput (not exposed in score method) will change from 'variance_weighted' to 'uniform_average' in 0.23 to keep consistent with 'metrics.r2_score'. To specify the default value manually and avoid the warning, please either call 'metrics.r2_score' directly or make a custom scorer with 'metrics.make_scorer' (the built-in scorer 'r2' uses multioutput='uniform_average').\n",
            "\n",
            "/usr/local/lib/python3.7/dist-packages/sklearn/base.py:434: FutureWarning:\n",
            "\n",
            "The default value of multioutput (not exposed in score method) will change from 'variance_weighted' to 'uniform_average' in 0.23 to keep consistent with 'metrics.r2_score'. To specify the default value manually and avoid the warning, please either call 'metrics.r2_score' directly or make a custom scorer with 'metrics.make_scorer' (the built-in scorer 'r2' uses multioutput='uniform_average').\n",
            "\n",
            "/usr/local/lib/python3.7/dist-packages/sklearn/base.py:434: FutureWarning:\n",
            "\n",
            "The default value of multioutput (not exposed in score method) will change from 'variance_weighted' to 'uniform_average' in 0.23 to keep consistent with 'metrics.r2_score'. To specify the default value manually and avoid the warning, please either call 'metrics.r2_score' directly or make a custom scorer with 'metrics.make_scorer' (the built-in scorer 'r2' uses multioutput='uniform_average').\n",
            "\n",
            "/usr/local/lib/python3.7/dist-packages/sklearn/base.py:434: FutureWarning:\n",
            "\n",
            "The default value of multioutput (not exposed in score method) will change from 'variance_weighted' to 'uniform_average' in 0.23 to keep consistent with 'metrics.r2_score'. To specify the default value manually and avoid the warning, please either call 'metrics.r2_score' directly or make a custom scorer with 'metrics.make_scorer' (the built-in scorer 'r2' uses multioutput='uniform_average').\n",
            "\n",
            "/usr/local/lib/python3.7/dist-packages/sklearn/base.py:434: FutureWarning:\n",
            "\n",
            "The default value of multioutput (not exposed in score method) will change from 'variance_weighted' to 'uniform_average' in 0.23 to keep consistent with 'metrics.r2_score'. To specify the default value manually and avoid the warning, please either call 'metrics.r2_score' directly or make a custom scorer with 'metrics.make_scorer' (the built-in scorer 'r2' uses multioutput='uniform_average').\n",
            "\n",
            "/usr/local/lib/python3.7/dist-packages/sklearn/base.py:434: FutureWarning:\n",
            "\n",
            "The default value of multioutput (not exposed in score method) will change from 'variance_weighted' to 'uniform_average' in 0.23 to keep consistent with 'metrics.r2_score'. To specify the default value manually and avoid the warning, please either call 'metrics.r2_score' directly or make a custom scorer with 'metrics.make_scorer' (the built-in scorer 'r2' uses multioutput='uniform_average').\n",
            "\n",
            "/usr/local/lib/python3.7/dist-packages/sklearn/base.py:434: FutureWarning:\n",
            "\n",
            "The default value of multioutput (not exposed in score method) will change from 'variance_weighted' to 'uniform_average' in 0.23 to keep consistent with 'metrics.r2_score'. To specify the default value manually and avoid the warning, please either call 'metrics.r2_score' directly or make a custom scorer with 'metrics.make_scorer' (the built-in scorer 'r2' uses multioutput='uniform_average').\n",
            "\n",
            "/usr/local/lib/python3.7/dist-packages/sklearn/base.py:434: FutureWarning:\n",
            "\n",
            "The default value of multioutput (not exposed in score method) will change from 'variance_weighted' to 'uniform_average' in 0.23 to keep consistent with 'metrics.r2_score'. To specify the default value manually and avoid the warning, please either call 'metrics.r2_score' directly or make a custom scorer with 'metrics.make_scorer' (the built-in scorer 'r2' uses multioutput='uniform_average').\n",
            "\n",
            "/usr/local/lib/python3.7/dist-packages/sklearn/base.py:434: FutureWarning:\n",
            "\n",
            "The default value of multioutput (not exposed in score method) will change from 'variance_weighted' to 'uniform_average' in 0.23 to keep consistent with 'metrics.r2_score'. To specify the default value manually and avoid the warning, please either call 'metrics.r2_score' directly or make a custom scorer with 'metrics.make_scorer' (the built-in scorer 'r2' uses multioutput='uniform_average').\n",
            "\n",
            "/usr/local/lib/python3.7/dist-packages/sklearn/base.py:434: FutureWarning:\n",
            "\n",
            "The default value of multioutput (not exposed in score method) will change from 'variance_weighted' to 'uniform_average' in 0.23 to keep consistent with 'metrics.r2_score'. To specify the default value manually and avoid the warning, please either call 'metrics.r2_score' directly or make a custom scorer with 'metrics.make_scorer' (the built-in scorer 'r2' uses multioutput='uniform_average').\n",
            "\n",
            "/usr/local/lib/python3.7/dist-packages/sklearn/base.py:434: FutureWarning:\n",
            "\n",
            "The default value of multioutput (not exposed in score method) will change from 'variance_weighted' to 'uniform_average' in 0.23 to keep consistent with 'metrics.r2_score'. To specify the default value manually and avoid the warning, please either call 'metrics.r2_score' directly or make a custom scorer with 'metrics.make_scorer' (the built-in scorer 'r2' uses multioutput='uniform_average').\n",
            "\n",
            "/usr/local/lib/python3.7/dist-packages/sklearn/base.py:434: FutureWarning:\n",
            "\n",
            "The default value of multioutput (not exposed in score method) will change from 'variance_weighted' to 'uniform_average' in 0.23 to keep consistent with 'metrics.r2_score'. To specify the default value manually and avoid the warning, please either call 'metrics.r2_score' directly or make a custom scorer with 'metrics.make_scorer' (the built-in scorer 'r2' uses multioutput='uniform_average').\n",
            "\n",
            "/usr/local/lib/python3.7/dist-packages/sklearn/base.py:434: FutureWarning:\n",
            "\n",
            "The default value of multioutput (not exposed in score method) will change from 'variance_weighted' to 'uniform_average' in 0.23 to keep consistent with 'metrics.r2_score'. To specify the default value manually and avoid the warning, please either call 'metrics.r2_score' directly or make a custom scorer with 'metrics.make_scorer' (the built-in scorer 'r2' uses multioutput='uniform_average').\n",
            "\n",
            "/usr/local/lib/python3.7/dist-packages/sklearn/base.py:434: FutureWarning:\n",
            "\n",
            "The default value of multioutput (not exposed in score method) will change from 'variance_weighted' to 'uniform_average' in 0.23 to keep consistent with 'metrics.r2_score'. To specify the default value manually and avoid the warning, please either call 'metrics.r2_score' directly or make a custom scorer with 'metrics.make_scorer' (the built-in scorer 'r2' uses multioutput='uniform_average').\n",
            "\n",
            "/usr/local/lib/python3.7/dist-packages/sklearn/base.py:434: FutureWarning:\n",
            "\n",
            "The default value of multioutput (not exposed in score method) will change from 'variance_weighted' to 'uniform_average' in 0.23 to keep consistent with 'metrics.r2_score'. To specify the default value manually and avoid the warning, please either call 'metrics.r2_score' directly or make a custom scorer with 'metrics.make_scorer' (the built-in scorer 'r2' uses multioutput='uniform_average').\n",
            "\n",
            "/usr/local/lib/python3.7/dist-packages/sklearn/base.py:434: FutureWarning:\n",
            "\n",
            "The default value of multioutput (not exposed in score method) will change from 'variance_weighted' to 'uniform_average' in 0.23 to keep consistent with 'metrics.r2_score'. To specify the default value manually and avoid the warning, please either call 'metrics.r2_score' directly or make a custom scorer with 'metrics.make_scorer' (the built-in scorer 'r2' uses multioutput='uniform_average').\n",
            "\n",
            "/usr/local/lib/python3.7/dist-packages/sklearn/base.py:434: FutureWarning:\n",
            "\n",
            "The default value of multioutput (not exposed in score method) will change from 'variance_weighted' to 'uniform_average' in 0.23 to keep consistent with 'metrics.r2_score'. To specify the default value manually and avoid the warning, please either call 'metrics.r2_score' directly or make a custom scorer with 'metrics.make_scorer' (the built-in scorer 'r2' uses multioutput='uniform_average').\n",
            "\n",
            "/usr/local/lib/python3.7/dist-packages/sklearn/base.py:434: FutureWarning:\n",
            "\n",
            "The default value of multioutput (not exposed in score method) will change from 'variance_weighted' to 'uniform_average' in 0.23 to keep consistent with 'metrics.r2_score'. To specify the default value manually and avoid the warning, please either call 'metrics.r2_score' directly or make a custom scorer with 'metrics.make_scorer' (the built-in scorer 'r2' uses multioutput='uniform_average').\n",
            "\n",
            "/usr/local/lib/python3.7/dist-packages/sklearn/base.py:434: FutureWarning:\n",
            "\n",
            "The default value of multioutput (not exposed in score method) will change from 'variance_weighted' to 'uniform_average' in 0.23 to keep consistent with 'metrics.r2_score'. To specify the default value manually and avoid the warning, please either call 'metrics.r2_score' directly or make a custom scorer with 'metrics.make_scorer' (the built-in scorer 'r2' uses multioutput='uniform_average').\n",
            "\n",
            "/usr/local/lib/python3.7/dist-packages/sklearn/base.py:434: FutureWarning:\n",
            "\n",
            "The default value of multioutput (not exposed in score method) will change from 'variance_weighted' to 'uniform_average' in 0.23 to keep consistent with 'metrics.r2_score'. To specify the default value manually and avoid the warning, please either call 'metrics.r2_score' directly or make a custom scorer with 'metrics.make_scorer' (the built-in scorer 'r2' uses multioutput='uniform_average').\n",
            "\n",
            "/usr/local/lib/python3.7/dist-packages/sklearn/base.py:434: FutureWarning:\n",
            "\n",
            "The default value of multioutput (not exposed in score method) will change from 'variance_weighted' to 'uniform_average' in 0.23 to keep consistent with 'metrics.r2_score'. To specify the default value manually and avoid the warning, please either call 'metrics.r2_score' directly or make a custom scorer with 'metrics.make_scorer' (the built-in scorer 'r2' uses multioutput='uniform_average').\n",
            "\n",
            "/usr/local/lib/python3.7/dist-packages/sklearn/base.py:434: FutureWarning:\n",
            "\n",
            "The default value of multioutput (not exposed in score method) will change from 'variance_weighted' to 'uniform_average' in 0.23 to keep consistent with 'metrics.r2_score'. To specify the default value manually and avoid the warning, please either call 'metrics.r2_score' directly or make a custom scorer with 'metrics.make_scorer' (the built-in scorer 'r2' uses multioutput='uniform_average').\n",
            "\n",
            "/usr/local/lib/python3.7/dist-packages/sklearn/base.py:434: FutureWarning:\n",
            "\n",
            "The default value of multioutput (not exposed in score method) will change from 'variance_weighted' to 'uniform_average' in 0.23 to keep consistent with 'metrics.r2_score'. To specify the default value manually and avoid the warning, please either call 'metrics.r2_score' directly or make a custom scorer with 'metrics.make_scorer' (the built-in scorer 'r2' uses multioutput='uniform_average').\n",
            "\n",
            "/usr/local/lib/python3.7/dist-packages/sklearn/base.py:434: FutureWarning:\n",
            "\n",
            "The default value of multioutput (not exposed in score method) will change from 'variance_weighted' to 'uniform_average' in 0.23 to keep consistent with 'metrics.r2_score'. To specify the default value manually and avoid the warning, please either call 'metrics.r2_score' directly or make a custom scorer with 'metrics.make_scorer' (the built-in scorer 'r2' uses multioutput='uniform_average').\n",
            "\n",
            "/usr/local/lib/python3.7/dist-packages/sklearn/base.py:434: FutureWarning:\n",
            "\n",
            "The default value of multioutput (not exposed in score method) will change from 'variance_weighted' to 'uniform_average' in 0.23 to keep consistent with 'metrics.r2_score'. To specify the default value manually and avoid the warning, please either call 'metrics.r2_score' directly or make a custom scorer with 'metrics.make_scorer' (the built-in scorer 'r2' uses multioutput='uniform_average').\n",
            "\n",
            "/usr/local/lib/python3.7/dist-packages/sklearn/base.py:434: FutureWarning:\n",
            "\n",
            "The default value of multioutput (not exposed in score method) will change from 'variance_weighted' to 'uniform_average' in 0.23 to keep consistent with 'metrics.r2_score'. To specify the default value manually and avoid the warning, please either call 'metrics.r2_score' directly or make a custom scorer with 'metrics.make_scorer' (the built-in scorer 'r2' uses multioutput='uniform_average').\n",
            "\n",
            "/usr/local/lib/python3.7/dist-packages/sklearn/base.py:434: FutureWarning:\n",
            "\n",
            "The default value of multioutput (not exposed in score method) will change from 'variance_weighted' to 'uniform_average' in 0.23 to keep consistent with 'metrics.r2_score'. To specify the default value manually and avoid the warning, please either call 'metrics.r2_score' directly or make a custom scorer with 'metrics.make_scorer' (the built-in scorer 'r2' uses multioutput='uniform_average').\n",
            "\n",
            "/usr/local/lib/python3.7/dist-packages/sklearn/base.py:434: FutureWarning:\n",
            "\n",
            "The default value of multioutput (not exposed in score method) will change from 'variance_weighted' to 'uniform_average' in 0.23 to keep consistent with 'metrics.r2_score'. To specify the default value manually and avoid the warning, please either call 'metrics.r2_score' directly or make a custom scorer with 'metrics.make_scorer' (the built-in scorer 'r2' uses multioutput='uniform_average').\n",
            "\n",
            "/usr/local/lib/python3.7/dist-packages/sklearn/base.py:434: FutureWarning:\n",
            "\n",
            "The default value of multioutput (not exposed in score method) will change from 'variance_weighted' to 'uniform_average' in 0.23 to keep consistent with 'metrics.r2_score'. To specify the default value manually and avoid the warning, please either call 'metrics.r2_score' directly or make a custom scorer with 'metrics.make_scorer' (the built-in scorer 'r2' uses multioutput='uniform_average').\n",
            "\n",
            "/usr/local/lib/python3.7/dist-packages/sklearn/base.py:434: FutureWarning:\n",
            "\n",
            "The default value of multioutput (not exposed in score method) will change from 'variance_weighted' to 'uniform_average' in 0.23 to keep consistent with 'metrics.r2_score'. To specify the default value manually and avoid the warning, please either call 'metrics.r2_score' directly or make a custom scorer with 'metrics.make_scorer' (the built-in scorer 'r2' uses multioutput='uniform_average').\n",
            "\n",
            "/usr/local/lib/python3.7/dist-packages/sklearn/base.py:434: FutureWarning:\n",
            "\n",
            "The default value of multioutput (not exposed in score method) will change from 'variance_weighted' to 'uniform_average' in 0.23 to keep consistent with 'metrics.r2_score'. To specify the default value manually and avoid the warning, please either call 'metrics.r2_score' directly or make a custom scorer with 'metrics.make_scorer' (the built-in scorer 'r2' uses multioutput='uniform_average').\n",
            "\n",
            "/usr/local/lib/python3.7/dist-packages/sklearn/base.py:434: FutureWarning:\n",
            "\n",
            "The default value of multioutput (not exposed in score method) will change from 'variance_weighted' to 'uniform_average' in 0.23 to keep consistent with 'metrics.r2_score'. To specify the default value manually and avoid the warning, please either call 'metrics.r2_score' directly or make a custom scorer with 'metrics.make_scorer' (the built-in scorer 'r2' uses multioutput='uniform_average').\n",
            "\n"
          ]
        },
        {
          "output_type": "stream",
          "name": "stdout",
          "text": [
            "Model 47 of model WindowRegression with avg smape 0.69: \n",
            "Model Number: 48 of 87 with model DatepartRegression for Validation 2\n",
            "Model 48 of model DatepartRegression with avg smape 0.81: \n",
            "Model Number: 49 of 87 with model ETS for Validation 2\n",
            "Model 49 of model ETS with avg smape 1.53: \n",
            "Model Number: 50 of 87 with model AverageValueNaive for Validation 2\n",
            "Model 50 of model AverageValueNaive with avg smape 1.06: \n",
            "Model Number: 51 of 87 with model GLS for Validation 2\n",
            "Model 51 of model GLS with avg smape 1.03: \n",
            "Model Number: 52 of 87 with model ZeroesNaive for Validation 2\n",
            "Model 52 of model ZeroesNaive with avg smape 1.04: \n",
            "Model Number: 53 of 87 with model ZeroesNaive for Validation 2\n",
            "Model 53 of model ZeroesNaive with avg smape 1.04: \n",
            "Model Number: 54 of 87 with model GLM for Validation 2\n",
            "Template Eval Error: ValueError('NaN, inf or invalid value detected in weights, estimation infeasible.') in model 54: GLM\n",
            "Model Number: 55 of 87 with model GLS for Validation 2\n",
            "Model 55 of model GLS with avg smape 1.17: \n",
            "Model Number: 56 of 87 with model GLS for Validation 2\n"
          ]
        },
        {
          "output_type": "stream",
          "name": "stderr",
          "text": [
            "/usr/local/lib/python3.7/dist-packages/statsmodels/genmod/families/links.py:521: RuntimeWarning:\n",
            "\n",
            "overflow encountered in exp\n",
            "\n",
            "/usr/local/lib/python3.7/dist-packages/statsmodels/genmod/families/family.py:134: RuntimeWarning:\n",
            "\n",
            "invalid value encountered in multiply\n",
            "\n",
            "/usr/local/lib/python3.7/dist-packages/statsmodels/genmod/generalized_linear_model.py:1163: RuntimeWarning:\n",
            "\n",
            "invalid value encountered in multiply\n",
            "\n"
          ]
        },
        {
          "output_type": "stream",
          "name": "stdout",
          "text": [
            "Model 56 of model GLS with avg smape 0.84: \n",
            "Model Number: 57 of 87 with model DatepartRegression for Validation 2\n",
            "Model 57 of model DatepartRegression with avg smape 1.32: \n",
            "Model Number: 58 of 87 with model WindowRegression for Validation 2\n"
          ]
        },
        {
          "output_type": "stream",
          "name": "stderr",
          "text": [
            "/usr/local/lib/python3.7/dist-packages/autots/models/sklearn.py:1065: DataConversionWarning:\n",
            "\n",
            "A column-vector y was passed when a 1d array was expected. Please change the shape of y to (n_samples,), for example using ravel().\n",
            "\n",
            "[Parallel(n_jobs=1)]: Using backend SequentialBackend with 1 concurrent workers.\n",
            "[Parallel(n_jobs=1)]: Done 1000 out of 1000 | elapsed:    2.8s finished\n",
            "[Parallel(n_jobs=1)]: Using backend SequentialBackend with 1 concurrent workers.\n",
            "[Parallel(n_jobs=1)]: Done 1000 out of 1000 | elapsed:    0.1s finished\n",
            "[Parallel(n_jobs=1)]: Using backend SequentialBackend with 1 concurrent workers.\n",
            "[Parallel(n_jobs=1)]: Done 1000 out of 1000 | elapsed:    0.1s finished\n",
            "[Parallel(n_jobs=1)]: Using backend SequentialBackend with 1 concurrent workers.\n",
            "[Parallel(n_jobs=1)]: Done 1000 out of 1000 | elapsed:    0.1s finished\n",
            "[Parallel(n_jobs=1)]: Using backend SequentialBackend with 1 concurrent workers.\n",
            "[Parallel(n_jobs=1)]: Done 1000 out of 1000 | elapsed:    0.1s finished\n",
            "[Parallel(n_jobs=1)]: Using backend SequentialBackend with 1 concurrent workers.\n",
            "[Parallel(n_jobs=1)]: Done 1000 out of 1000 | elapsed:    0.1s finished\n"
          ]
        },
        {
          "output_type": "stream",
          "name": "stdout",
          "text": [
            "Model 58 of model WindowRegression with avg smape 0.64: \n",
            "Model Number: 59 of 87 with model WindowRegression for Validation 2\n",
            "Model 59 of model WindowRegression with avg smape 0.74: \n",
            "Model Number: 60 of 87 with model DatepartRegression for Validation 2\n",
            "Model 60 of model DatepartRegression with avg smape 1.61: \n",
            "Model Number: 61 of 87 with model AverageValueNaive for Validation 2\n",
            "Model 61 of model AverageValueNaive with avg smape 1.04: \n",
            "Model Number: 62 of 87 with model WindowRegression for Validation 2\n"
          ]
        },
        {
          "output_type": "stream",
          "name": "stderr",
          "text": [
            "/usr/local/lib/python3.7/dist-packages/sklearn/neural_network/_multilayer_perceptron.py:1342: DataConversionWarning:\n",
            "\n",
            "A column-vector y was passed when a 1d array was expected. Please change the shape of y to (n_samples, ), for example using ravel().\n",
            "\n"
          ]
        },
        {
          "output_type": "stream",
          "name": "stdout",
          "text": [
            "Model 62 of model WindowRegression with avg smape 1.05: \n",
            "Model Number: 63 of 87 with model DatepartRegression for Validation 2\n",
            "Model 63 of model DatepartRegression with avg smape 0.62: \n",
            "Model Number: 64 of 87 with model AverageValueNaive for Validation 2\n",
            "Model 64 of model AverageValueNaive with avg smape 0.79: \n",
            "Model Number: 65 of 87 with model AverageValueNaive for Validation 2\n"
          ]
        },
        {
          "output_type": "stream",
          "name": "stderr",
          "text": [
            "INFO:fbprophet:Disabling yearly seasonality. Run prophet with yearly_seasonality=True to override this.\n",
            "INFO:fbprophet:Disabling daily seasonality. Run prophet with daily_seasonality=True to override this.\n"
          ]
        },
        {
          "output_type": "stream",
          "name": "stdout",
          "text": [
            "Model 65 of model AverageValueNaive with avg smape 1.15: \n",
            "Model Number: 66 of 87 with model FBProphet for Validation 2\n",
            "Model 66 of model FBProphet with avg smape 1.74: \n",
            "Model Number: 67 of 87 with model GLS for Validation 2\n",
            "Model 67 of model GLS with avg smape 1.12: \n",
            "Model Number: 68 of 87 with model WindowRegression for Validation 2\n",
            "Model 68 of model WindowRegression with avg smape 0.95: \n",
            "Model Number: 69 of 87 with model GLS for Validation 2\n",
            "Model 69 of model GLS with avg smape 0.87: \n",
            "Model Number: 70 of 87 with model AverageValueNaive for Validation 2\n",
            "Model 70 of model AverageValueNaive with avg smape 0.75: \n",
            "Model Number: 71 of 87 with model AverageValueNaive for Validation 2\n",
            "Model 71 of model AverageValueNaive with avg smape 0.75: \n",
            "Model Number: 72 of 87 with model UnobservedComponents for Validation 2\n",
            "Model 72 of model UnobservedComponents with avg smape 1.21: \n",
            "Model Number: 73 of 87 with model GLS for Validation 2\n",
            "Model 73 of model GLS with avg smape 0.76: \n",
            "Model Number: 74 of 87 with model GLS for Validation 2\n",
            "Model 74 of model GLS with avg smape 0.76: \n",
            "Model Number: 75 of 87 with model GLM for Validation 2\n",
            "Model 75 of model GLM with avg smape 0.75: \n",
            "Model Number: 76 of 87 with model AverageValueNaive for Validation 2\n",
            "Model 76 of model AverageValueNaive with avg smape 1.22: \n",
            "Model Number: 77 of 87 with model GLM for Validation 2\n",
            "Model 77 of model GLM with avg smape 1.23: \n",
            "Model Number: 78 of 87 with model ZeroesNaive for Validation 2\n",
            "Model 78 of model ZeroesNaive with avg smape 0.75: \n",
            "Model Number: 79 of 87 with model ZeroesNaive for Validation 2\n",
            "Model 79 of model ZeroesNaive with avg smape 1.71: \n",
            "Model Number: 80 of 87 with model GLM for Validation 2\n",
            "Model 80 of model GLM with avg smape 1.25: \n",
            "Model Number: 81 of 87 with model GLM for Validation 2\n",
            "Model 81 of model GLM with avg smape 1.25: \n",
            "Model Number: 82 of 87 with model ZeroesNaive for Validation 2\n",
            "Model 82 of model ZeroesNaive with avg smape 1.23: \n",
            "Model Number: 83 of 87 with model GLM for Validation 2\n",
            "Model 83 of model GLM with avg smape 1.25: \n",
            "Model Number: 84 of 87 with model GLM for Validation 2\n",
            "Model 84 of model GLM with avg smape 1.22: \n",
            "Model Number: 85 of 87 with model UnobservedComponents for Validation 2\n",
            "Model 85 of model UnobservedComponents with avg smape 1.02: \n",
            "Model Number: 86 of 87 with model ZeroesNaive for Validation 2\n",
            "Model 86 of model ZeroesNaive with avg smape 2.1: \n",
            "Model Number: 87 of 87 with model ZeroesNaive for Validation 2\n",
            "Model 87 of model ZeroesNaive with avg smape 1.44: \n"
          ]
        }
      ]
    },
    {
      "cell_type": "code",
      "metadata": {
        "id": "jEySO-EFEWtC"
      },
      "source": [
        "prediction=model.predict()"
      ],
      "execution_count": null,
      "outputs": []
    },
    {
      "cell_type": "code",
      "metadata": {
        "id": "eYz9q2DlEc6S"
      },
      "source": [
        "forecast=prediction.forecast"
      ],
      "execution_count": null,
      "outputs": []
    },
    {
      "cell_type": "code",
      "metadata": {
        "colab": {
          "base_uri": "https://localhost:8080/"
        },
        "id": "hapoSVu4EiEv",
        "outputId": "13468ada-11c6-408d-dd61-b6fa7cc7a3a4"
      },
      "source": [
        "print(forecast)"
      ],
      "execution_count": null,
      "outputs": [
        {
          "output_type": "stream",
          "name": "stdout",
          "text": [
            "                 Close\n",
            "2021-09-09  155.065773\n",
            "2021-09-10  155.745783\n",
            "2021-09-13  156.363818\n",
            "2021-09-14  156.861763\n",
            "2021-09-15  157.462303\n"
          ]
        }
      ]
    }
  ]
}